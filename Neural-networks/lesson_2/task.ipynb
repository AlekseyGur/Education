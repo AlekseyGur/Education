{
 "cells": [
  {
   "cell_type": "markdown",
   "metadata": {
    "id": "ZmQrjFZay6wQ"
   },
   "source": [
    "# Введение в искусственные нейронные сети\n",
    "\n",
    "# Урок 2. Keras\n",
    "\n",
    "## Домашнее задание\n",
    "\n",
    "Используем набор примеров fashion-MNIST\n",
    "1. Опишите - какой результат нейросети получен в зависимости от:\n",
    "  - числа нейронов в слое (для 2-х слойной сети), \n",
    "  - числа слоев (2, 3, 5, 10) при близких размерах сети (близкое число тренируемых параметров).\n",
    "  - фиксируйте для тренировочного и тестового набора метрики accuracy.\n",
    "2.  Проверьте работу разных оптимизаторов (SGD, Adam, RMSProp) для одной из моделей п.1. Фиксируйте для тренировочного и тестового набора метрики accuracy.\n",
    "\n",
    "3. Сделайте вывод - что помогло вам улучшить качество классификации в нейросети на тестовом наборе? \n",
    "\n",
    "4. Для одного варианта сети сформируйте матрицу ошибок по классам. Оцените качество модели по каждому классу отдельно (полнота, точность)."
   ]
  },
  {
   "cell_type": "code",
   "execution_count": 2,
   "metadata": {
    "colab": {
     "base_uri": "https://localhost:8080/",
     "height": 265
    },
    "id": "nc-wOuvH0n3x",
    "outputId": "d04d7444-e4c3-4a84-cc04-763ff1acf6a0"
   },
   "outputs": [
    {
     "data": {
      "image/png": "[encoded data removed]",
      "text/plain": [
       "<Figure size 640x480 with 1 Axes>"
      ]
     },
     "metadata": {},
     "output_type": "display_data"
    }
   ],
   "source": [
    "import numpy as np\n",
    "import tensorflow as tf\n",
    "import matplotlib.pyplot as plt\n",
    "from sklearn.model_selection import train_test_split\n",
    "\n",
    "from keras.datasets import fashion_mnist\n",
    "\n",
    "from tensorflow.keras.models import Sequential\n",
    "from tensorflow.keras.layers import Dense, Input, Lambda\n",
    "from tensorflow.keras.utils import to_categorical\n",
    "\n",
    "(train_images,train_labels),(test_images, test_labels) = fashion_mnist.load_data()\n",
    "\n",
    "train_images = np.expand_dims(train_images, -1)\n",
    "test_images = np.expand_dims(test_images, -1)\n",
    "\n",
    "y_train, y_test = to_categorical(train_labels), to_categorical(test_labels)\n",
    "\n",
    "plt.imshow(train_images[np.random.randint(len(train_images))].squeeze(), cmap=\"gray\")\n",
    "plt.show()"
   ]
  },
  {
   "cell_type": "code",
   "execution_count": 3,
   "metadata": {
    "colab": {
     "base_uri": "https://localhost:8080/"
    },
    "id": "yY8q0qiHctD2",
    "outputId": "e84265a9-2982-47b1-838d-7254c1cfa246"
   },
   "outputs": [
    {
     "name": "stdout",
     "output_type": "stream",
     "text": [
      "___________________________________Experiment 1 with 512 neurons____________________________________\n",
      "Epoch 1/15\n"
     ]
    },
    {
     "name": "stderr",
     "output_type": "stream",
     "text": [
      "2023-06-14 20:29:27.314721: I tensorflow/core/common_runtime/executor.cc:1197] [/device:CPU:0] (DEBUG INFO) Executor start aborting (this does not indicate an error and you can ignore this message): INVALID_ARGUMENT: You must feed a value for placeholder tensor 'Placeholder/_0' with dtype double and shape [60000,784]\n",
      "\t [[{{node Placeholder/_0}}]]\n",
      "2023-06-14 20:29:27.315101: I tensorflow/core/common_runtime/executor.cc:1197] [/device:CPU:0] (DEBUG INFO) Executor start aborting (this does not indicate an error and you can ignore this message): INVALID_ARGUMENT: You must feed a value for placeholder tensor 'Placeholder/_1' with dtype float and shape [60000,10]\n",
      "\t [[{{node Placeholder/_1}}]]\n"
     ]
    },
    {
     "name": "stdout",
     "output_type": "stream",
     "text": [
      "468/469 [============================>.] - ETA: 0s - loss: 0.5054 - accuracy: 0.8223"
     ]
    },
    {
     "name": "stderr",
     "output_type": "stream",
     "text": [
      "2023-06-14 20:29:30.437018: I tensorflow/core/common_runtime/executor.cc:1197] [/device:CPU:0] (DEBUG INFO) Executor start aborting (this does not indicate an error and you can ignore this message): INVALID_ARGUMENT: You must feed a value for placeholder tensor 'Placeholder/_1' with dtype float and shape [5000,10]\n",
      "\t [[{{node Placeholder/_1}}]]\n"
     ]
    },
    {
     "name": "stdout",
     "output_type": "stream",
     "text": [
      "469/469 [==============================] - 3s 6ms/step - loss: 0.5052 - accuracy: 0.8224 - val_loss: 0.4303 - val_accuracy: 0.8484\n",
      "Epoch 2/15\n",
      "469/469 [==============================] - 3s 6ms/step - loss: 0.3710 - accuracy: 0.8679 - val_loss: 0.3984 - val_accuracy: 0.8574\n",
      "Epoch 3/15\n",
      "469/469 [==============================] - 3s 6ms/step - loss: 0.3326 - accuracy: 0.8799 - val_loss: 0.3763 - val_accuracy: 0.8652\n",
      "Epoch 4/15\n",
      "469/469 [==============================] - 3s 5ms/step - loss: 0.3049 - accuracy: 0.8889 - val_loss: 0.3468 - val_accuracy: 0.8804\n",
      "Epoch 5/15\n",
      "469/469 [==============================] - 3s 5ms/step - loss: 0.2848 - accuracy: 0.8962 - val_loss: 0.3557 - val_accuracy: 0.8730\n",
      "Epoch 6/15\n",
      "469/469 [==============================] - 3s 6ms/step - loss: 0.2719 - accuracy: 0.9009 - val_loss: 0.3316 - val_accuracy: 0.8854\n",
      "Epoch 7/15\n",
      "469/469 [==============================] - 3s 5ms/step - loss: 0.2590 - accuracy: 0.9044 - val_loss: 0.3378 - val_accuracy: 0.8852\n",
      "Epoch 8/15\n",
      "469/469 [==============================] - 3s 5ms/step - loss: 0.2457 - accuracy: 0.9098 - val_loss: 0.3456 - val_accuracy: 0.8774\n",
      "Epoch 9/15\n",
      "469/469 [==============================] - 3s 5ms/step - loss: 0.2339 - accuracy: 0.9132 - val_loss: 0.3372 - val_accuracy: 0.8846\n",
      "Epoch 10/15\n",
      "469/469 [==============================] - 3s 6ms/step - loss: 0.2250 - accuracy: 0.9168 - val_loss: 0.3423 - val_accuracy: 0.8852\n",
      "Epoch 11/15\n",
      "469/469 [==============================] - 3s 6ms/step - loss: 0.2146 - accuracy: 0.9207 - val_loss: 0.3337 - val_accuracy: 0.8918\n",
      "Epoch 12/15\n",
      "469/469 [==============================] - 3s 6ms/step - loss: 0.2035 - accuracy: 0.9245 - val_loss: 0.3369 - val_accuracy: 0.8876\n",
      "Epoch 13/15\n",
      "469/469 [==============================] - 3s 6ms/step - loss: 0.1976 - accuracy: 0.9273 - val_loss: 0.3306 - val_accuracy: 0.8950\n",
      "Epoch 14/15\n",
      "469/469 [==============================] - 3s 6ms/step - loss: 0.1882 - accuracy: 0.9309 - val_loss: 0.3465 - val_accuracy: 0.8906\n",
      "Epoch 15/15\n",
      "469/469 [==============================] - 3s 6ms/step - loss: 0.1809 - accuracy: 0.9341 - val_loss: 0.3572 - val_accuracy: 0.8898\n",
      "40/40 [==============================] - 0s 3ms/step - loss: 0.3419 - accuracy: 0.8852\n"
     ]
    },
    {
     "name": "stderr",
     "output_type": "stream",
     "text": [
      "2023-06-14 20:30:07.887767: I tensorflow/core/common_runtime/executor.cc:1197] [/device:CPU:0] (DEBUG INFO) Executor start aborting (this does not indicate an error and you can ignore this message): INVALID_ARGUMENT: You must feed a value for placeholder tensor 'Placeholder/_1' with dtype float and shape [5000,10]\n",
      "\t [[{{node Placeholder/_1}}]]\n"
     ]
    },
    {
     "name": "stdout",
     "output_type": "stream",
     "text": [
      "___________________________________Experiment 2 with 256 neurons____________________________________\n",
      "Epoch 1/15\n",
      "469/469 [==============================] - 2s 5ms/step - loss: 0.5284 - accuracy: 0.8163 - val_loss: 0.4608 - val_accuracy: 0.8362\n",
      "Epoch 2/15\n",
      "469/469 [==============================] - 2s 4ms/step - loss: 0.3896 - accuracy: 0.8622 - val_loss: 0.4079 - val_accuracy: 0.8598\n",
      "Epoch 3/15\n",
      "469/469 [==============================] - 2s 4ms/step - loss: 0.3486 - accuracy: 0.8753 - val_loss: 0.3869 - val_accuracy: 0.8582\n",
      "Epoch 4/15\n",
      "469/469 [==============================] - 2s 4ms/step - loss: 0.3205 - accuracy: 0.8848 - val_loss: 0.3639 - val_accuracy: 0.8744\n",
      "Epoch 5/15\n",
      "469/469 [==============================] - 2s 4ms/step - loss: 0.3009 - accuracy: 0.8898 - val_loss: 0.3629 - val_accuracy: 0.8726\n",
      "Epoch 6/15\n",
      "469/469 [==============================] - 2s 4ms/step - loss: 0.2850 - accuracy: 0.8962 - val_loss: 0.3536 - val_accuracy: 0.8756\n",
      "Epoch 7/15\n",
      "469/469 [==============================] - 2s 4ms/step - loss: 0.2698 - accuracy: 0.9017 - val_loss: 0.3600 - val_accuracy: 0.8742\n",
      "Epoch 8/15\n",
      "469/469 [==============================] - 2s 4ms/step - loss: 0.2587 - accuracy: 0.9045 - val_loss: 0.3410 - val_accuracy: 0.8798\n",
      "Epoch 9/15\n",
      "469/469 [==============================] - 2s 4ms/step - loss: 0.2461 - accuracy: 0.9096 - val_loss: 0.3511 - val_accuracy: 0.8750\n",
      "Epoch 10/15\n",
      "469/469 [==============================] - 2s 4ms/step - loss: 0.2353 - accuracy: 0.9140 - val_loss: 0.3308 - val_accuracy: 0.8842\n",
      "Epoch 11/15\n",
      "469/469 [==============================] - 2s 4ms/step - loss: 0.2251 - accuracy: 0.9178 - val_loss: 0.3343 - val_accuracy: 0.8828\n",
      "Epoch 12/15\n",
      "469/469 [==============================] - 2s 4ms/step - loss: 0.2171 - accuracy: 0.9200 - val_loss: 0.3402 - val_accuracy: 0.8816\n",
      "Epoch 13/15\n",
      "469/469 [==============================] - 2s 4ms/step - loss: 0.2099 - accuracy: 0.9234 - val_loss: 0.3385 - val_accuracy: 0.8820\n",
      "Epoch 14/15\n",
      "469/469 [==============================] - 2s 4ms/step - loss: 0.2026 - accuracy: 0.9252 - val_loss: 0.3431 - val_accuracy: 0.8876\n",
      "Epoch 15/15\n",
      "469/469 [==============================] - 2s 4ms/step - loss: 0.1966 - accuracy: 0.9271 - val_loss: 0.3513 - val_accuracy: 0.8838\n",
      "40/40 [==============================] - 0s 2ms/step - loss: 0.3495 - accuracy: 0.8774\n",
      "___________________________________Experiment 3 with 128 neurons____________________________________\n",
      "Epoch 1/15\n",
      "469/469 [==============================] - 2s 4ms/step - loss: 0.5552 - accuracy: 0.8085 - val_loss: 0.4566 - val_accuracy: 0.8394\n",
      "Epoch 2/15\n",
      "469/469 [==============================] - 2s 4ms/step - loss: 0.4059 - accuracy: 0.8570 - val_loss: 0.4207 - val_accuracy: 0.8506\n",
      "Epoch 3/15\n",
      "469/469 [==============================] - 2s 4ms/step - loss: 0.3621 - accuracy: 0.8702 - val_loss: 0.3983 - val_accuracy: 0.8580\n",
      "Epoch 4/15\n",
      "469/469 [==============================] - 2s 4ms/step - loss: 0.3345 - accuracy: 0.8794 - val_loss: 0.3817 - val_accuracy: 0.8674\n",
      "Epoch 5/15\n",
      "469/469 [==============================] - 2s 4ms/step - loss: 0.3179 - accuracy: 0.8860 - val_loss: 0.3722 - val_accuracy: 0.8642\n",
      "Epoch 6/15\n",
      "469/469 [==============================] - 2s 4ms/step - loss: 0.3023 - accuracy: 0.8906 - val_loss: 0.3676 - val_accuracy: 0.8716\n",
      "Epoch 7/15\n",
      "469/469 [==============================] - 2s 4ms/step - loss: 0.2906 - accuracy: 0.8939 - val_loss: 0.3616 - val_accuracy: 0.8728\n",
      "Epoch 8/15\n",
      "469/469 [==============================] - 2s 4ms/step - loss: 0.2790 - accuracy: 0.8994 - val_loss: 0.3619 - val_accuracy: 0.8706\n",
      "Epoch 9/15\n",
      "469/469 [==============================] - 2s 4ms/step - loss: 0.2681 - accuracy: 0.9026 - val_loss: 0.3489 - val_accuracy: 0.8788\n",
      "Epoch 10/15\n",
      "469/469 [==============================] - 2s 4ms/step - loss: 0.2589 - accuracy: 0.9050 - val_loss: 0.3514 - val_accuracy: 0.8760\n",
      "Epoch 11/15\n",
      "469/469 [==============================] - 2s 4ms/step - loss: 0.2528 - accuracy: 0.9081 - val_loss: 0.3501 - val_accuracy: 0.8806\n",
      "Epoch 12/15\n",
      "469/469 [==============================] - 2s 4ms/step - loss: 0.2433 - accuracy: 0.9114 - val_loss: 0.3589 - val_accuracy: 0.8774\n",
      "Epoch 13/15\n",
      "469/469 [==============================] - 2s 4ms/step - loss: 0.2363 - accuracy: 0.9131 - val_loss: 0.3520 - val_accuracy: 0.8822\n",
      "Epoch 14/15\n",
      "469/469 [==============================] - 2s 4ms/step - loss: 0.2295 - accuracy: 0.9168 - val_loss: 0.3534 - val_accuracy: 0.8804\n",
      "Epoch 15/15\n",
      "469/469 [==============================] - 2s 4ms/step - loss: 0.2252 - accuracy: 0.9183 - val_loss: 0.3528 - val_accuracy: 0.8800\n",
      "40/40 [==============================] - 0s 2ms/step - loss: 0.3489 - accuracy: 0.8758\n"
     ]
    }
   ],
   "source": [
    "train_images = train_images / 255.\n",
    "test_images = test_images / 255.\n",
    "\n",
    "valid_images, test_images, y_valid, y_test = train_test_split(test_images, y_test, test_size=0.5, random_state=42)\n",
    "\n",
    "batch_size = 128\n",
    "buffer_size = 256\n",
    "\n",
    "AUTOTUNE = tf.data.AUTOTUNE\n",
    "\n",
    "train_ds = tf.data.Dataset.from_tensor_slices((train_images.reshape((-1, 784)), y_train)).shuffle(buffer_size).batch(batch_size).prefetch(AUTOTUNE)\n",
    "valid_ds = tf.data.Dataset.from_tensor_slices((valid_images.reshape((-1, 784)), y_valid)).batch(batch_size).prefetch(AUTOTUNE)\n",
    "test_ds = tf.data.Dataset.from_tensor_slices((test_images.reshape((-1, 784)), y_test)).batch(batch_size).prefetch(AUTOTUNE)\n",
    "\n",
    "num_neurons = [512, 256, 128]\n",
    "\n",
    "for i, neurons in enumerate(num_neurons):\n",
    "    model = Sequential([\n",
    "        Dense(neurons, activation=\"relu\", input_shape=(784,)),\n",
    "        Dense(10, activation=\"softmax\")\n",
    "    ])\n",
    "    model.compile(optimizer=\"adam\", loss=\"categorical_crossentropy\", metrics=[\"accuracy\"])  # default lr = 1e-3\n",
    "    print(f\"Experiment {i+1} with {neurons} neurons\".center(100, \"_\"))\n",
    "    history = model.fit(train_ds,\n",
    "                        epochs=15,\n",
    "                        validation_data=valid_ds,\n",
    "                        verbose=1)\n",
    "    model.evaluate(test_ds)"
   ]
  },
  {
   "cell_type": "code",
   "execution_count": 5,
   "metadata": {
    "colab": {
     "base_uri": "https://localhost:8080/"
    },
    "id": "0lzajZ9Rsiuj",
    "outputId": "fadaf6a4-60f0-4f65-b49a-5d0e667054e1"
   },
   "outputs": [
    {
     "name": "stdout",
     "output_type": "stream",
     "text": [
      "_____________________________________Experiment 1 with 2 layers_____________________________________\n",
      "Epoch 1/10\n",
      "469/469 - 2s - loss: 0.6613 - accuracy: 0.7757 - val_loss: 0.5048 - val_accuracy: 0.8214 - 2s/epoch - 4ms/step\n",
      "Epoch 2/10\n",
      "469/469 - 1s - loss: 0.4458 - accuracy: 0.8465 - val_loss: 0.4646 - val_accuracy: 0.8366 - 1s/epoch - 3ms/step\n",
      "Epoch 3/10\n",
      "469/469 - 1s - loss: 0.4122 - accuracy: 0.8571 - val_loss: 0.4473 - val_accuracy: 0.8432 - 1s/epoch - 3ms/step\n",
      "Epoch 4/10\n",
      "469/469 - 1s - loss: 0.3906 - accuracy: 0.8636 - val_loss: 0.4289 - val_accuracy: 0.8502 - 1s/epoch - 3ms/step\n",
      "Epoch 5/10\n",
      "469/469 - 1s - loss: 0.3773 - accuracy: 0.8689 - val_loss: 0.4218 - val_accuracy: 0.8522 - 1s/epoch - 3ms/step\n",
      "Epoch 6/10\n",
      "469/469 - 1s - loss: 0.3659 - accuracy: 0.8719 - val_loss: 0.4133 - val_accuracy: 0.8564 - 1s/epoch - 3ms/step\n",
      "Epoch 7/10\n",
      "469/469 - 1s - loss: 0.3568 - accuracy: 0.8752 - val_loss: 0.4035 - val_accuracy: 0.8616 - 1s/epoch - 2ms/step\n",
      "Epoch 8/10\n",
      "469/469 - 1s - loss: 0.3499 - accuracy: 0.8760 - val_loss: 0.3975 - val_accuracy: 0.8612 - 1s/epoch - 2ms/step\n",
      "Epoch 9/10\n",
      "469/469 - 1s - loss: 0.3413 - accuracy: 0.8798 - val_loss: 0.4013 - val_accuracy: 0.8592 - 1s/epoch - 3ms/step\n",
      "Epoch 10/10\n",
      "469/469 - 1s - loss: 0.3361 - accuracy: 0.8811 - val_loss: 0.4020 - val_accuracy: 0.8594 - 1s/epoch - 3ms/step\n",
      "40/40 [==============================] - 0s 2ms/step - loss: 0.3912 - accuracy: 0.8620\n",
      "_____________________________________Experiment 2 with 3 layers_____________________________________\n",
      "Epoch 1/10\n",
      "469/469 - 2s - loss: 0.6079 - accuracy: 0.7903 - val_loss: 0.4683 - val_accuracy: 0.8362 - 2s/epoch - 4ms/step\n",
      "Epoch 2/10\n",
      "469/469 - 1s - loss: 0.4098 - accuracy: 0.8553 - val_loss: 0.4372 - val_accuracy: 0.8460 - 1s/epoch - 3ms/step\n",
      "Epoch 3/10\n",
      "469/469 - 1s - loss: 0.3720 - accuracy: 0.8678 - val_loss: 0.4161 - val_accuracy: 0.8524 - 1s/epoch - 3ms/step\n",
      "Epoch 4/10\n",
      "469/469 - 1s - loss: 0.3470 - accuracy: 0.8752 - val_loss: 0.3934 - val_accuracy: 0.8590 - 1s/epoch - 3ms/step\n",
      "Epoch 5/10\n",
      "469/469 - 1s - loss: 0.3298 - accuracy: 0.8813 - val_loss: 0.3735 - val_accuracy: 0.8670 - 1s/epoch - 3ms/step\n",
      "Epoch 6/10\n",
      "469/469 - 1s - loss: 0.3170 - accuracy: 0.8859 - val_loss: 0.3714 - val_accuracy: 0.8662 - 1s/epoch - 3ms/step\n",
      "Epoch 7/10\n",
      "469/469 - 1s - loss: 0.3040 - accuracy: 0.8890 - val_loss: 0.3709 - val_accuracy: 0.8670 - 1s/epoch - 3ms/step\n",
      "Epoch 8/10\n",
      "469/469 - 1s - loss: 0.2921 - accuracy: 0.8931 - val_loss: 0.3635 - val_accuracy: 0.8748 - 1s/epoch - 3ms/step\n",
      "Epoch 9/10\n",
      "469/469 - 1s - loss: 0.2851 - accuracy: 0.8952 - val_loss: 0.3621 - val_accuracy: 0.8758 - 1s/epoch - 3ms/step\n",
      "Epoch 10/10\n",
      "469/469 - 1s - loss: 0.2750 - accuracy: 0.8988 - val_loss: 0.3599 - val_accuracy: 0.8746 - 1s/epoch - 3ms/step\n",
      "40/40 [==============================] - 0s 2ms/step - loss: 0.3468 - accuracy: 0.8730\n",
      "_____________________________________Experiment 3 with 5 layers_____________________________________\n",
      "Epoch 1/10\n",
      "469/469 - 3s - loss: 0.5588 - accuracy: 0.8047 - val_loss: 0.4312 - val_accuracy: 0.8442 - 3s/epoch - 7ms/step\n",
      "Epoch 2/10\n",
      "469/469 - 2s - loss: 0.3815 - accuracy: 0.8612 - val_loss: 0.4003 - val_accuracy: 0.8582 - 2s/epoch - 5ms/step\n",
      "Epoch 3/10\n",
      "469/469 - 2s - loss: 0.3381 - accuracy: 0.8758 - val_loss: 0.3847 - val_accuracy: 0.8598 - 2s/epoch - 5ms/step\n",
      "Epoch 4/10\n",
      "469/469 - 2s - loss: 0.3127 - accuracy: 0.8861 - val_loss: 0.3616 - val_accuracy: 0.8738 - 2s/epoch - 5ms/step\n",
      "Epoch 5/10\n",
      "469/469 - 2s - loss: 0.2913 - accuracy: 0.8925 - val_loss: 0.3507 - val_accuracy: 0.8780 - 2s/epoch - 5ms/step\n",
      "Epoch 6/10\n",
      "469/469 - 2s - loss: 0.2770 - accuracy: 0.8969 - val_loss: 0.3457 - val_accuracy: 0.8772 - 2s/epoch - 5ms/step\n",
      "Epoch 7/10\n",
      "469/469 - 2s - loss: 0.2623 - accuracy: 0.9024 - val_loss: 0.3476 - val_accuracy: 0.8802 - 2s/epoch - 5ms/step\n",
      "Epoch 8/10\n",
      "469/469 - 2s - loss: 0.2557 - accuracy: 0.9038 - val_loss: 0.3427 - val_accuracy: 0.8788 - 2s/epoch - 5ms/step\n",
      "Epoch 9/10\n",
      "469/469 - 2s - loss: 0.2414 - accuracy: 0.9100 - val_loss: 0.3597 - val_accuracy: 0.8788 - 2s/epoch - 5ms/step\n",
      "Epoch 10/10\n",
      "469/469 - 2s - loss: 0.2322 - accuracy: 0.9129 - val_loss: 0.3548 - val_accuracy: 0.8848 - 2s/epoch - 5ms/step\n",
      "40/40 [==============================] - 0s 3ms/step - loss: 0.3404 - accuracy: 0.8760\n",
      "____________________________________Experiment 4 with 10 layers_____________________________________\n",
      "Epoch 1/10\n",
      "469/469 - 78s - loss: 0.6441 - accuracy: 0.7736 - val_loss: 0.4712 - val_accuracy: 0.8322 - 78s/epoch - 167ms/step\n",
      "Epoch 2/10\n",
      "469/469 - 78s - loss: 0.4039 - accuracy: 0.8569 - val_loss: 0.4172 - val_accuracy: 0.8456 - 78s/epoch - 166ms/step\n",
      "Epoch 3/10\n",
      "469/469 - 78s - loss: 0.3611 - accuracy: 0.8704 - val_loss: 0.4124 - val_accuracy: 0.8518 - 78s/epoch - 166ms/step\n",
      "Epoch 4/10\n",
      "469/469 - 78s - loss: 0.3343 - accuracy: 0.8799 - val_loss: 0.3907 - val_accuracy: 0.8638 - 78s/epoch - 167ms/step\n",
      "Epoch 5/10\n",
      "469/469 - 78s - loss: 0.3161 - accuracy: 0.8870 - val_loss: 0.3820 - val_accuracy: 0.8642 - 78s/epoch - 167ms/step\n",
      "Epoch 6/10\n",
      "469/469 - 78s - loss: 0.2981 - accuracy: 0.8921 - val_loss: 0.3712 - val_accuracy: 0.8770 - 78s/epoch - 167ms/step\n",
      "Epoch 7/10\n",
      "469/469 - 78s - loss: 0.2818 - accuracy: 0.8976 - val_loss: 0.3503 - val_accuracy: 0.8836 - 78s/epoch - 167ms/step\n",
      "Epoch 8/10\n",
      "469/469 - 78s - loss: 0.2716 - accuracy: 0.9007 - val_loss: 0.3535 - val_accuracy: 0.8844 - 78s/epoch - 167ms/step\n",
      "Epoch 9/10\n",
      "469/469 - 78s - loss: 0.2671 - accuracy: 0.9017 - val_loss: 0.3483 - val_accuracy: 0.8848 - 78s/epoch - 167ms/step\n",
      "Epoch 10/10\n",
      "469/469 - 78s - loss: 0.2520 - accuracy: 0.9081 - val_loss: 0.3610 - val_accuracy: 0.8840 - 78s/epoch - 166ms/step\n",
      "40/40 [==============================] - 2s 44ms/step - loss: 0.3557 - accuracy: 0.8828\n"
     ]
    }
   ],
   "source": [
    "num_layers = [2,3,5,10]\n",
    "num_layers = [[16 * (2**j) for j in range(1, i)] for i in num_layers]\n",
    "\n",
    "for i, layers in enumerate(num_layers): \n",
    "    layers = [Dense(neurons, activation=\"relu\") for neurons in sorted(num_layers[i], reverse=True)]\n",
    "    last_layer = [Dense(10, activation=\"softmax\")]\n",
    "    model = Sequential([Input(shape=(784,))] + layers + last_layer)\n",
    "\n",
    "    model.compile(optimizer=\"adam\", loss=\"categorical_crossentropy\", metrics=[\"accuracy\"])  # default lr = 1e-3\n",
    "    print(f\"Experiment {i+1} with {len(layers) + 1} layers\".center(100, \"_\"))\n",
    "    history = model.fit(train_ds,\n",
    "                        epochs=10,\n",
    "                        validation_data=valid_ds,\n",
    "                        verbose=2)\n",
    "    model.evaluate(test_ds)"
   ]
  },
  {
   "cell_type": "markdown",
   "metadata": {
    "id": "HUAY4N2Q4lt1"
   },
   "source": [
    "**Вывод**\n",
    "\n",
    "* качество слоёв и нейронов влияет на качество обучения\n",
    "* все модели переобучились\n",
    "* для каждого варианта слоёв/нейронов надо подбирать свои гиперпараметры\n"
   ]
  },
  {
   "cell_type": "code",
   "execution_count": 6,
   "metadata": {
    "colab": {
     "base_uri": "https://localhost:8080/"
    },
    "id": "TpA_5fkT1bhE",
    "outputId": "f9c8c323-7bb2-4069-e8e3-c1b8f84bc789"
   },
   "outputs": [
    {
     "name": "stdout",
     "output_type": "stream",
     "text": [
      "SGD: точность обучения: 0.8639, точность на тестовой выборке: 0.8494\n",
      "RMSProp: точность обучения: 0.9080, точность на тестовой выборке: 0.877\n",
      "adam: точность обучения: 0.9126, точность на тестовой выборке: 0.8752\n",
      "NAdam: точность обучения: 0.9147, точность на тестовой выборке: 0.88\n"
     ]
    }
   ],
   "source": [
    "# Задание: проверьте работу разных оптимизаторов (SGD, Adam, RMSProp) для одной из моделей п.1. Фиксируйте для тренировочного и тестового набора метрики accuracy.\n",
    "\n",
    "epochs = 15\n",
    "model = Sequential([Dense(128, activation=\"relu\", input_shape=(784,)),\n",
    "                    Dense(64, activation='relu'),\n",
    "                    Dense(10, activation='softmax'),\n",
    "                    ])\n",
    "\n",
    "model.save_weights('model.h5')\n",
    "\n",
    "for i, optim in enumerate(['SGD','RMSProp','adam','NAdam']):\n",
    "    model = Sequential([\n",
    "                        Dense(128, activation=\"relu\", input_shape=(784,)),\n",
    "                        Dense(64, activation='relu'),\n",
    "                        Dense(10, activation='softmax'),\n",
    "                        ])  \n",
    "    model.load_weights('model.h5')\n",
    "    model.compile(optimizer=optim, loss='categorical_crossentropy', metrics=['accuracy'],)\n",
    "\n",
    "    history = model.fit(\n",
    "                        train_ds,\n",
    "                        epochs=epochs,\n",
    "                        validation_data=valid_ds,\n",
    "                        verbose=0\n",
    "                        )\n",
    "    train_acc = model.evaluate(train_ds, verbose = 0)\n",
    "    valid_acc = model.evaluate(test_ds, verbose = 0)\n",
    "    print(f\"{optim}: точность обучения: {round(train_acc[1], 4)}, точность на тестовой выборке: {round(valid_acc[1], 4)}\")"
   ]
  },
  {
   "cell_type": "markdown",
   "metadata": {
    "id": "wpIzG_CBAapX"
   },
   "source": [
    "**Вывод**\n",
    "\n",
    "Оптимизаторы улучшают качество модели."
   ]
  },
  {
   "cell_type": "code",
   "execution_count": 7,
   "metadata": {
    "colab": {
     "base_uri": "https://localhost:8080/",
     "height": 484
    },
    "id": "S8w7v8RI9zkk",
    "outputId": "1287cfde-923a-47ed-c6f5-320c9eb7f644"
   },
   "outputs": [
    {
     "name": "stdout",
     "output_type": "stream",
     "text": [
      "157/157 [==============================] - 0s 806us/step\n"
     ]
    },
    {
     "data": {
      "text/plain": [
       "<Figure size 500x500 with 0 Axes>"
      ]
     },
     "metadata": {},
     "output_type": "display_data"
    },
    {
     "data": {
      "image/png": "[encoded data removed]",
      "text/plain": [
       "<Figure size 800x600 with 2 Axes>"
      ]
     },
     "metadata": {},
     "output_type": "display_data"
    }
   ],
   "source": [
    "from itertools import product\n",
    "from sklearn.metrics import confusion_matrix\n",
    "\n",
    "def plot_confusion_matrix(cm,\n",
    "                          target_names,\n",
    "                          title='Confusion matrix',\n",
    "                          cmap=None,\n",
    "                          normalize=True):\n",
    "\n",
    "    accuracy = np.trace(cm) / float(np.sum(cm))\n",
    "    misclass = 1 - accuracy\n",
    "\n",
    "    if cmap is None:\n",
    "        cmap = plt.get_cmap('Blues')\n",
    "\n",
    "    plt.figure(figsize=(8, 6))\n",
    "    plt.imshow(cm, interpolation='nearest', cmap=cmap)\n",
    "    plt.title(title)\n",
    "    plt.colorbar()\n",
    "\n",
    "    if target_names is not None:\n",
    "        tick_marks = np.arange(len(target_names))\n",
    "        plt.xticks(tick_marks, target_names, rotation=45)\n",
    "        plt.yticks(tick_marks, target_names)\n",
    "\n",
    "    if normalize:\n",
    "        cm = cm.astype('float') / cm.sum(axis=1)[:, np.newaxis]\n",
    "\n",
    "\n",
    "    thresh = cm.max() / 1.5 if normalize else cm.max() / 2\n",
    "    for i, j in product(range(cm.shape[0]), range(cm.shape[1])):\n",
    "        if normalize:\n",
    "            plt.text(j, i, \"{:0.4f}\".format(cm[i, j]),\n",
    "                     horizontalalignment=\"center\",\n",
    "                     color=\"white\" if cm[i, j] > thresh else \"black\")\n",
    "        else:\n",
    "            plt.text(j, i, \"{:,}\".format(cm[i, j]),\n",
    "                     horizontalalignment=\"center\",\n",
    "                     color=\"white\" if cm[i, j] > thresh else \"black\")\n",
    "\n",
    "\n",
    "    plt.tight_layout()\n",
    "    plt.ylabel('True label')\n",
    "    plt.xlabel('Predicted label\\naccuracy={:0.4f}; misclass={:0.4f}'.format(accuracy, misclass))\n",
    "    plt.show()\n",
    "\n",
    "y_true = y_test.argmax(1)\n",
    "y_pred = model.predict(test_images.reshape((-1, 784))).argmax(1)\n",
    "\n",
    "cnf_matrix = confusion_matrix(y_true, y_pred)\n",
    "plt.figure(figsize=(5, 5))\n",
    "plot_confusion_matrix(cnf_matrix, \n",
    "                      target_names=[i for i in range(10)], normalize=False, title='Confusion matrix',)\n",
    "plt.show()"
   ]
  },
  {
   "cell_type": "code",
   "execution_count": 8,
   "metadata": {
    "colab": {
     "base_uri": "https://localhost:8080/"
    },
    "id": "ZUA6ugGNC-nA",
    "outputId": "a7c2a7b9-670a-465c-9c26-c261772e77a8"
   },
   "outputs": [
    {
     "name": "stdout",
     "output_type": "stream",
     "text": [
      "              precision    recall  f1-score   support\n",
      "\n",
      "           0       0.75      0.92      0.83       487\n",
      "           1       0.99      0.97      0.98       492\n",
      "           2       0.82      0.76      0.79       514\n",
      "           3       0.85      0.92      0.89       478\n",
      "           4       0.74      0.86      0.79       506\n",
      "           5       0.98      0.95      0.97       519\n",
      "           6       0.83      0.52      0.64       496\n",
      "           7       0.95      0.96      0.95       522\n",
      "           8       0.98      0.97      0.97       490\n",
      "           9       0.95      0.96      0.96       496\n",
      "\n",
      "    accuracy                           0.88      5000\n",
      "   macro avg       0.88      0.88      0.88      5000\n",
      "weighted avg       0.88      0.88      0.88      5000\n",
      "\n"
     ]
    }
   ],
   "source": [
    "from sklearn.metrics import classification_report\n",
    "\n",
    "print(classification_report(y_true, y_pred))"
   ]
  }
 ],
 "metadata": {
  "accelerator": "GPU",
  "colab": {
   "collapsed_sections": [],
   "provenance": []
  },
  "kernelspec": {
   "display_name": "Python 3 (ipykernel)",
   "language": "python",
   "name": "python3"
  },
  "language_info": {
   "codemirror_mode": {
    "name": "ipython",
    "version": 3
   },
   "file_extension": ".py",
   "mimetype": "text/x-python",
   "name": "python",
   "nbconvert_exporter": "python",
   "pygments_lexer": "ipython3",
   "version": "3.9.2"
  }
 },
 "nbformat": 4,
 "nbformat_minor": 4
}
