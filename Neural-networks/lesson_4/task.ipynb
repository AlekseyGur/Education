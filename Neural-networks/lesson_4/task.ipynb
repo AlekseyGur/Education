{
 "cells": [
  {
   "cell_type": "markdown",
   "metadata": {
    "id": "yd2QF8vsVJS7"
   },
   "source": [
    "# Урок 4. Сверточные нейронные сети"
   ]
  },
  {
   "cell_type": "markdown",
   "metadata": {
    "id": "jzsIApAPVJTC"
   },
   "source": [
    "## Практическое задание\n",
    "\n",
    "<ol>\n",
    "    <li>Попробовать улучшить точность распознования образов cifar 10 сверточной нейронной сетью, рассмотренной на уроке. Приложить анализ с описанием того, что улучшает работу нейронной сети и что ухудшает.\n",
    "    </li>\n",
    "    <li>Описать также в анализе какие необоходимо внести изменения  в получившуюся у вас нейронную сеть если бы ей нужно было работать не с cifar10, а с MNIST, CIFAR100 и IMAGENET.\n",
    "    </li>\n",
    "</ol>"
   ]
  },
  {
   "cell_type": "code",
   "execution_count": 1,
   "metadata": {
    "colab": {
     "base_uri": "https://localhost:8080/"
    },
    "id": "Mhg2oEu1VJTC",
    "outputId": "9a1278ed-17e3-409e-e376-8253ac975560"
   },
   "outputs": [
    {
     "name": "stderr",
     "output_type": "stream",
     "text": [
      "2023-06-21 13:28:41.596667: I tensorflow/tsl/cuda/cudart_stub.cc:28] Could not find cuda drivers on your machine, GPU will not be used.\n",
      "2023-06-21 13:28:41.646758: I tensorflow/tsl/cuda/cudart_stub.cc:28] Could not find cuda drivers on your machine, GPU will not be used.\n",
      "2023-06-21 13:28:41.647574: I tensorflow/core/platform/cpu_feature_guard.cc:182] This TensorFlow binary is optimized to use available CPU instructions in performance-critical operations.\n",
      "To enable the following instructions: AVX2 FMA, in other operations, rebuild TensorFlow with the appropriate compiler flags.\n",
      "2023-06-21 13:28:42.373443: W tensorflow/compiler/tf2tensorrt/utils/py_utils.cc:38] TF-TRT Warning: Could not find TensorRT\n",
      "/home/jupyter/.local/lib/python3.9/site-packages/keras/optimizers/legacy/rmsprop.py:143: UserWarning: The `lr` argument is deprecated, use `learning_rate` instead.\n",
      "  super().__init__(name, **kwargs)\n",
      "/tmp/ipykernel_39104/2700436548.py:128: UserWarning: `Model.fit_generator` is deprecated and will be removed in a future version. Please use `Model.fit`, which supports generators.\n",
      "  model.fit_generator(datagen.flow(x_train, y_train, batch_size=batch_size),\n",
      "2023-06-21 13:28:43.608520: I tensorflow/core/common_runtime/executor.cc:1197] [/device:CPU:0] (DEBUG INFO) Executor start aborting (this does not indicate an error and you can ignore this message): INVALID_ARGUMENT: You must feed a value for placeholder tensor 'Placeholder/_0' with dtype int32\n",
      "\t [[{{node Placeholder/_0}}]]\n"
     ]
    },
    {
     "name": "stdout",
     "output_type": "stream",
     "text": [
      "Точность: 0.4196 при параметрах {'batch_size': 32, 'num_classes': 10, 'epochs': 1, 'data_augmentation': True, 'result_loss': 1.6270654201507568, 'result_accuracy': 0.4196000099182129}\n",
      "Точность: 0.4267 при параметрах {'batch_size': 32, 'num_classes': 10, 'epochs': 1, 'data_augmentation': False, 'result_loss': 1.5857616662979126, 'result_accuracy': 0.42669999599456787}\n"
     ]
    },
    {
     "name": "stderr",
     "output_type": "stream",
     "text": [
      "2023-06-21 13:30:08.668013: I tensorflow/core/common_runtime/executor.cc:1197] [/device:CPU:0] (DEBUG INFO) Executor start aborting (this does not indicate an error and you can ignore this message): INVALID_ARGUMENT: You must feed a value for placeholder tensor 'Placeholder/_0' with dtype int32\n",
      "\t [[{{node Placeholder/_0}}]]\n"
     ]
    },
    {
     "name": "stdout",
     "output_type": "stream",
     "text": [
      "Точность: 0.5774 при параметрах {'batch_size': 32, 'num_classes': 10, 'epochs': 5, 'data_augmentation': True, 'result_loss': 1.1993077993392944, 'result_accuracy': 0.5774000287055969}\n",
      "Точность: 0.626 при параметрах {'batch_size': 32, 'num_classes': 10, 'epochs': 5, 'data_augmentation': False, 'result_loss': 1.0605337619781494, 'result_accuracy': 0.6259999871253967}\n"
     ]
    },
    {
     "name": "stderr",
     "output_type": "stream",
     "text": [
      "2023-06-21 13:37:26.391260: I tensorflow/core/common_runtime/executor.cc:1197] [/device:CPU:0] (DEBUG INFO) Executor start aborting (this does not indicate an error and you can ignore this message): INVALID_ARGUMENT: You must feed a value for placeholder tensor 'Placeholder/_0' with dtype int32\n",
      "\t [[{{node Placeholder/_0}}]]\n"
     ]
    },
    {
     "name": "stdout",
     "output_type": "stream",
     "text": [
      "Точность: 0.4246 при параметрах {'batch_size': 32, 'num_classes': 100, 'epochs': 1, 'data_augmentation': True, 'result_loss': 1.5936744213104248, 'result_accuracy': 0.4246000051498413}\n",
      "Точность: 0.4185 при параметрах {'batch_size': 32, 'num_classes': 100, 'epochs': 1, 'data_augmentation': False, 'result_loss': 1.5889326333999634, 'result_accuracy': 0.41850000619888306}\n"
     ]
    },
    {
     "name": "stderr",
     "output_type": "stream",
     "text": [
      "2023-06-21 13:39:03.436421: I tensorflow/core/common_runtime/executor.cc:1197] [/device:CPU:0] (DEBUG INFO) Executor start aborting (this does not indicate an error and you can ignore this message): INVALID_ARGUMENT: You must feed a value for placeholder tensor 'Placeholder/_0' with dtype int32\n",
      "\t [[{{node Placeholder/_0}}]]\n"
     ]
    },
    {
     "name": "stdout",
     "output_type": "stream",
     "text": [
      "Точность: 0.5543 при параметрах {'batch_size': 32, 'num_classes': 100, 'epochs': 5, 'data_augmentation': True, 'result_loss': 1.2508370876312256, 'result_accuracy': 0.5543000102043152}\n",
      "Точность: 0.5894 при параметрах {'batch_size': 32, 'num_classes': 100, 'epochs': 5, 'data_augmentation': False, 'result_loss': 1.1474536657333374, 'result_accuracy': 0.5893999934196472}\n"
     ]
    },
    {
     "name": "stderr",
     "output_type": "stream",
     "text": [
      "2023-06-21 13:47:10.108274: I tensorflow/core/common_runtime/executor.cc:1197] [/device:CPU:0] (DEBUG INFO) Executor start aborting (this does not indicate an error and you can ignore this message): INVALID_ARGUMENT: You must feed a value for placeholder tensor 'Placeholder/_0' with dtype int32\n",
      "\t [[{{node Placeholder/_0}}]]\n"
     ]
    },
    {
     "name": "stdout",
     "output_type": "stream",
     "text": [
      "Точность: 0.3509 при параметрах {'batch_size': 128, 'num_classes': 10, 'epochs': 1, 'data_augmentation': True, 'result_loss': 1.8178980350494385, 'result_accuracy': 0.35089999437332153}\n",
      "Точность: 0.3757 при параметрах {'batch_size': 128, 'num_classes': 10, 'epochs': 1, 'data_augmentation': False, 'result_loss': 1.7512418031692505, 'result_accuracy': 0.3756999969482422}\n"
     ]
    },
    {
     "name": "stderr",
     "output_type": "stream",
     "text": [
      "2023-06-21 13:48:21.569013: I tensorflow/core/common_runtime/executor.cc:1197] [/device:CPU:0] (DEBUG INFO) Executor start aborting (this does not indicate an error and you can ignore this message): INVALID_ARGUMENT: You must feed a value for placeholder tensor 'Placeholder/_0' with dtype int32\n",
      "\t [[{{node Placeholder/_0}}]]\n"
     ]
    },
    {
     "name": "stdout",
     "output_type": "stream",
     "text": [
      "Точность: 0.5026 при параметрах {'batch_size': 128, 'num_classes': 10, 'epochs': 5, 'data_augmentation': True, 'result_loss': 1.3825068473815918, 'result_accuracy': 0.5026000142097473}\n",
      "Точность: 0.5212 при параметрах {'batch_size': 128, 'num_classes': 10, 'epochs': 5, 'data_augmentation': False, 'result_loss': 1.319260597229004, 'result_accuracy': 0.5212000012397766}\n"
     ]
    },
    {
     "name": "stderr",
     "output_type": "stream",
     "text": [
      "2023-06-21 13:54:07.456216: I tensorflow/core/common_runtime/executor.cc:1197] [/device:CPU:0] (DEBUG INFO) Executor start aborting (this does not indicate an error and you can ignore this message): INVALID_ARGUMENT: You must feed a value for placeholder tensor 'Placeholder/_0' with dtype int32\n",
      "\t [[{{node Placeholder/_0}}]]\n"
     ]
    },
    {
     "name": "stdout",
     "output_type": "stream",
     "text": [
      "Точность: 0.3603 при параметрах {'batch_size': 128, 'num_classes': 100, 'epochs': 1, 'data_augmentation': True, 'result_loss': 1.8687952756881714, 'result_accuracy': 0.3603000044822693}\n",
      "Точность: 0.3478 при параметрах {'batch_size': 128, 'num_classes': 100, 'epochs': 1, 'data_augmentation': False, 'result_loss': 1.8372331857681274, 'result_accuracy': 0.34779998660087585}\n"
     ]
    },
    {
     "name": "stderr",
     "output_type": "stream",
     "text": [
      "2023-06-21 13:55:21.107560: I tensorflow/core/common_runtime/executor.cc:1197] [/device:CPU:0] (DEBUG INFO) Executor start aborting (this does not indicate an error and you can ignore this message): INVALID_ARGUMENT: You must feed a value for placeholder tensor 'Placeholder/_0' with dtype int32\n",
      "\t [[{{node Placeholder/_0}}]]\n"
     ]
    },
    {
     "name": "stdout",
     "output_type": "stream",
     "text": [
      "Точность: 0.4967 при параметрах {'batch_size': 128, 'num_classes': 100, 'epochs': 5, 'data_augmentation': True, 'result_loss': 1.407160758972168, 'result_accuracy': 0.4966999888420105}\n",
      "Точность: 0.5031 при параметрах {'batch_size': 128, 'num_classes': 100, 'epochs': 5, 'data_augmentation': False, 'result_loss': 1.3762949705123901, 'result_accuracy': 0.5030999779701233}\n",
      "Лучшая точность: 0.6259999871253967 при параметрах {'batch_size': 32, 'num_classes': 10, 'epochs': 5, 'data_augmentation': False, 'result_loss': 1.0605337619781494, 'result_accuracy': 0.6259999871253967}\n"
     ]
    }
   ],
   "source": [
    "import os\n",
    "os.environ['CUDA_VISIBLE_DEVICES'] = '-1'\n",
    "\n",
    "from __future__ import print_function\n",
    "import keras # расскоментируйте эту строку, чтобы начать обучение\n",
    "import tensorflow as tf\n",
    "from multiprocessing import cpu_count\n",
    "from keras.datasets import cifar10\n",
    "from keras.preprocessing.image import ImageDataGenerator\n",
    "from keras.models import Sequential\n",
    "from keras.layers import Dense, Dropout, Activation, Flatten\n",
    "from keras.layers import Conv2D, MaxPooling2D\n",
    "import os\n",
    "\n",
    "# save_dir = os.path.join(os.getcwd(), 'saved_models')\n",
    "# model_name = 'keras_cifar10_trained_model.h5'\n",
    "\n",
    "# комбинации параметров нейросети \n",
    "best_acc = 0\n",
    "best_params = {}\n",
    "params = []\n",
    "for batch_size in [32, 128]:\n",
    "    for num_classes in [10, 100]:\n",
    "        for epochs in [1, 5]:\n",
    "            for data_augmentation in [True, False]:\n",
    "                params.append({\n",
    "                               'batch_size': batch_size, \n",
    "                               'num_classes': num_classes, \n",
    "                               'epochs': epochs, \n",
    "                               'data_augmentation': data_augmentation, \n",
    "                              })\n",
    "\n",
    "for param in params:\n",
    "    batch_size = param['batch_size']\n",
    "    num_classes = param['num_classes']\n",
    "    epochs = param['epochs']\n",
    "    data_augmentation = param['data_augmentation']\n",
    "\n",
    "    # разделение тренировочной и тестовой выборки\n",
    "    (x_train, y_train), (x_test, y_test) = cifar10.load_data()\n",
    "    # print('x_train shape:', x_train.shape)\n",
    "    # print(x_train.shape[0], 'тренировочные примеры')\n",
    "    # print(x_test.shape[0], 'тестовые примеры')\n",
    "    \n",
    "    # преобразование матрицы чисел 0-9 в бинарную матрицу чисел 0-1\n",
    "    y_train = keras.utils.to_categorical(y_train, num_classes)\n",
    "    y_test = keras.utils.to_categorical(y_test, num_classes)\n",
    "    \n",
    "    # конфигурирование слоев нейросети\n",
    "    model = Sequential()\n",
    "    \n",
    "    # слои нейросети отвественные за свертку и max-pooling\n",
    "    model.add(Conv2D(32, (3, 3), padding='same',\n",
    "                     input_shape=x_train.shape[1:]))\n",
    "    model.add(Activation('relu'))\n",
    "    model.add(Conv2D(32, (3, 3)))\n",
    "    model.add(Activation('relu'))\n",
    "    model.add(MaxPooling2D(pool_size=(2, 2)))\n",
    "    model.add(Dropout(0.25))\n",
    "    \n",
    "    model.add(Conv2D(64, (3, 3), padding='same'))\n",
    "    model.add(Activation('relu'))\n",
    "    model.add(Conv2D(64, (3, 3)))\n",
    "    model.add(Activation('relu'))\n",
    "    model.add(MaxPooling2D(pool_size=(2, 2)))\n",
    "    model.add(Dropout(0.25))\n",
    "    \n",
    "    # полносвязные слои нейронной сети\n",
    "    model.add(Flatten())\n",
    "    model.add(Dense(512))\n",
    "    model.add(Activation('relu'))\n",
    "    model.add(Dropout(0.5))\n",
    "    model.add(Dense(num_classes))\n",
    "    model.add(Activation('softmax'))\n",
    "    \n",
    "    # инициализация RMSprop optimizer\n",
    "    opt = keras.optimizers.RMSprop(lr=0.0001, decay=1e-6)\n",
    "    \n",
    "    # компиляция модели\n",
    "    model.compile(loss='categorical_crossentropy',\n",
    "                  optimizer=opt,\n",
    "                  metrics=['accuracy'])\n",
    "    \n",
    "    x_train = x_train.astype('float32')\n",
    "    x_test = x_test.astype('float32')\n",
    "    x_train /= 255\n",
    "    x_test /= 255\n",
    "    \n",
    "    if not data_augmentation:\n",
    "        # print('Не используется data augmentation')\n",
    "        model.fit(x_train, y_train,\n",
    "                  batch_size=batch_size,\n",
    "                  epochs=epochs,\n",
    "                  validation_data=(x_test, y_test),\n",
    "                  shuffle=True,\n",
    "                  verbose=0,\n",
    "                  workers=cpu_count(),\n",
    "                  use_multiprocessing=True)\n",
    "    else:\n",
    "        # print('Использование data augmentation в реальном времени')\n",
    "        # Препроцессинг и data augmentation в реальном времени:\n",
    "        datagen = ImageDataGenerator(\n",
    "            featurewise_center=False,\n",
    "            samplewise_center=False,\n",
    "            featurewise_std_normalization=False,\n",
    "            samplewise_std_normalization=False,\n",
    "            zca_whitening=False,\n",
    "            zca_epsilon=1e-06,\n",
    "            rotation_range=0,\n",
    "            width_shift_range=0.1,\n",
    "            height_shift_range=0.1,\n",
    "            shear_range=0.,\n",
    "            zoom_range=0.,\n",
    "            channel_shift_range=0.,\n",
    "            fill_mode='nearest',\n",
    "            cval=0.,\n",
    "            horizontal_flip=True,\n",
    "            vertical_flip=False,\n",
    "            rescale=None,\n",
    "            preprocessing_function=None,\n",
    "            data_format=None,\n",
    "            validation_split=0.0)\n",
    "    \n",
    "        # запуск data augmentation через fit\n",
    "        #datagen.fit(x_train)\n",
    "\n",
    "        # запуск data augmentation через fit_generator\n",
    "        model.fit_generator(datagen.flow(x_train, y_train, batch_size=batch_size),\n",
    "                            epochs=epochs,\n",
    "                            validation_data=(x_test, y_test),\n",
    "                            workers=cpu_count(),\n",
    "                            use_multiprocessing=True,\n",
    "                            verbose=0)\n",
    "    \n",
    "    # сохранение модели и весов (отключено на для подбора гиперпараметров)\n",
    "    # if not os.path.isdir(save_dir):\n",
    "    #     os.makedirs(save_dir)\n",
    "    # model_path = os.path.join(save_dir, model_name)\n",
    "    # model.save(model_path)\n",
    "    # print('сохранить обученную модель как %s ' % model_path)\n",
    "    \n",
    "    # проверка работы обученной модели\n",
    "    scores = model.evaluate(x_test, y_test, verbose=0)\n",
    "    loss = scores[0]\n",
    "    accuracy = scores[1]\n",
    "    param['result_loss'] = loss\n",
    "    param['result_accuracy'] = accuracy\n",
    "    # print('Test loss:', scores[0])\n",
    "    # print('Test accuracy:', scores[1])\n",
    "\n",
    "    print(f'Точность: {round(scores[1], 4)} при параметрах {param}')\n",
    "    \n",
    "    if scores[1] > best_acc:\n",
    "        best_acc = accuracy\n",
    "        best_params = param\n",
    "        \n",
    "print(f'Лучшая точность: {best_acc} при параметрах {best_params}')"
   ]
  },
  {
   "cell_type": "markdown",
   "metadata": {
    "id": "vjkBMo8qTLuF"
   },
   "source": [
    "# Выводы\n",
    "\n",
    "увеличение количества эпох увеличивает точность\n",
    "\n",
    "увеличение batch_size уменьшает точность\n",
    "\n",
    "отключение data_augmentation улучшает точность"
   ]
  }
 ],
 "metadata": {
  "colab": {
   "provenance": []
  },
  "kernelspec": {
   "display_name": "Python 3 (ipykernel)",
   "language": "python",
   "name": "python3"
  },
  "language_info": {
   "codemirror_mode": {
    "name": "ipython",
    "version": 3
   },
   "file_extension": ".py",
   "mimetype": "text/x-python",
   "name": "python",
   "nbconvert_exporter": "python",
   "pygments_lexer": "ipython3",
   "version": "3.9.2"
  }
 },
 "nbformat": 4,
 "nbformat_minor": 4
}
