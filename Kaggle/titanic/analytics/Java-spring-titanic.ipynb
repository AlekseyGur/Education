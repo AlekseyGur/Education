{
 "cells": [
  {
   "cell_type": "code",
   "execution_count": 1,
   "id": "f8905a13-f4a2-4b1c-ac6a-5a01deb67a4d",
   "metadata": {},
   "outputs": [],
   "source": [
    "// Официальная документация: https://jtablesaw.github.io/tablesaw/\n",
    "// Пример с деревом: https://jtablesaw.github.io/tablesaw/userguide/ml/Heart%20Random%20forest\n",
    "// Хороший блог для изучения: https://self-learning-java-tutorial.blogspot.com/search/label/TableSaw"
   ]
  },
  {
   "cell_type": "code",
   "execution_count": 8,
   "id": "53ae2490-b040-4dc1-a29e-a2224b6c6963",
   "metadata": {},
   "outputs": [],
   "source": [
    "%%loadFromPOM\n",
    "<dependency>\n",
    "  <groupId>tech.tablesaw</groupId>\n",
    "  <artifactId>tablesaw-core</artifactId>\n",
    "  <version>0.41.0</version>\n",
    "</dependency>\n",
    "<dependency>\n",
    "  <groupId>tech.tablesaw</groupId>\n",
    "  <artifactId>tablesaw-json</artifactId>\n",
    "  <version>0.41.0</version>\n",
    "</dependency>\n",
    "<dependency>\n",
    "    <groupId>commons-io</groupId>\n",
    "    <artifactId>commons-io</artifactId>\n",
    "    <version>2.11.0</version>\n",
    "</dependency>\n",
    "<dependency>\n",
    "  <groupId>com.github.haifengl</groupId>\n",
    "  <artifactId>smile-core</artifactId>\n",
    "  <version>2.5.0</version>\n",
    "</dependency>\n",
    "<dependency>\n",
    "    <groupId>tech.tablesaw</groupId>\n",
    "    <artifactId>tablesaw-jsplot</artifactId>\n",
    "    <version>0.41.0</version>\n",
    "</dependency>"
   ]
  },
  {
   "cell_type": "code",
   "execution_count": 9,
   "id": "f6babcfb-6476-4e5b-8659-56cacadacdf9",
   "metadata": {},
   "outputs": [],
   "source": [
    "// import tech.tablesaw.io.json.JsonReader;\n",
    "// import tech.tablesaw.io.json.JsonWriter;\n",
    "import java.util.Arrays;\n",
    "import tech.tablesaw.api.IntColumn;\n",
    "import tech.tablesaw.api.StringColumn;\n",
    "import tech.tablesaw.api.NumberColumn;\n",
    "import tech.tablesaw.api.Table;\n",
    "import tech.tablesaw.io.Source;\n",
    "import smile.classification.RandomForest;\n",
    "import smile.classification.DecisionTree;\n",
    "import smile.base.cart.SplitRule;\n",
    "// import smile.validation.metric.Accuracy;\n",
    "import smile.validation.Accuracy;\n",
    "import tech.tablesaw.plotly.Plot;\n",
    "import tech.tablesaw.plotly.api.HorizontalBarPlot;\n",
    "import tech.tablesaw.plotly.api.LinePlot;\n",
    "import tech.tablesaw.plotly.components.Figure;\n",
    "import tech.tablesaw.plotly.components.Page;\n",
    "import smile.data.formula.Formula;\n",
    "import tech.tablesaw.api.DoubleColumn;\n",
    "import tech.tablesaw.api.StringColumn;\n",
    "import tech.tablesaw.api.IntColumn;\n",
    "import tech.tablesaw.columns.numbers.NumberColumnFormatter;\n",
    "import tech.tablesaw.api.ColumnType;\n",
    "import java.io.*;\n",
    "// import tech.tablesaw.plotly.api.*;\n",
    "// import tech.tablesaw.plotly.components.*;\n",
    "// import tech.tablesaw.plotly.traces.*;"
   ]
  },
  {
   "cell_type": "code",
   "execution_count": 10,
   "id": "12ae82d4-4930-4400-8252-4f41a0444441",
   "metadata": {},
   "outputs": [
    {
     "data": {
      "text/plain": [
       "                                                                                                                                                                     \n",
       " Survived  |  Pclass  |                         Name                         |   Sex    |  Age  |  Siblings/Spouses Aboard  |  Parents/Children Aboard  |   Fare    |\n",
       "---------------------------------------------------------------------------------------------------------------------------------------------------------------------\n",
       "        0  |       3  |                              Mr. Owen Harris Braund  |    male  |   22  |                        1  |                        0  |     7.25  |\n",
       "        1  |       1  |  Mrs. John Bradley (Florence Briggs Thayer) Cumings  |  female  |   38  |                        1  |                        0  |  71.2833  |\n",
       "        1  |       3  |                               Miss. Laina Heikkinen  |  female  |   26  |                        0  |                        0  |    7.925  |"
      ]
     },
     "execution_count": 10,
     "metadata": {},
     "output_type": "execute_result"
    }
   ],
   "source": [
    "Table df = Table.read().file(\"titanic.csv\");\n",
    "df.first(3).print();"
   ]
  },
  {
   "cell_type": "code",
   "execution_count": 11,
   "id": "5d3387dc-970e-45b6-a2bb-06cb4f268e4b",
   "metadata": {},
   "outputs": [
    {
     "data": {
      "text/plain": [
       "                    Structure of                     \n",
       " Index  |        Column Name        |  Column Type  |\n",
       "-----------------------------------------------------\n",
       "     0  |                 Survived  |      INTEGER  |\n",
       "     1  |                   Pclass  |      INTEGER  |\n",
       "     2  |                     Name  |       STRING  |\n",
       "     3  |                      Sex  |       STRING  |\n",
       "     4  |                      Age  |       DOUBLE  |\n",
       "     5  |  Siblings/Spouses Aboard  |      INTEGER  |\n",
       "     6  |  Parents/Children Aboard  |      INTEGER  |\n",
       "     7  |                     Fare  |       DOUBLE  |"
      ]
     },
     "execution_count": 11,
     "metadata": {},
     "output_type": "execute_result"
    }
   ],
   "source": [
    "df.structure();"
   ]
  },
  {
   "cell_type": "code",
   "execution_count": 12,
   "id": "bd6474f8-4c63-4d39-9b66-a6d5ded91703",
   "metadata": {},
   "outputs": [
    {
     "name": "stdout",
     "output_type": "stream",
     "text": [
      "n=621\n",
      "node), split, n, loss, yval, (yprob)\n",
      "* denotes terminal node\n",
      "1) root 621 822.80 0 (0.62279 0.37721)\n",
      " 2) Age<=16.5000 84 114.73 1 (0.43023 0.56977)\n",
      "  4) Pclass<=2.50000 20 8.4176 1 (0.090909 0.90909) *\n",
      "  5) Pclass>2.50000 64 88.160 0 (0.54545 0.45455)\n",
      "   10) Fare<=20.1666 28 19.244 1 (0.13333 0.86667)\n",
      "    20) Fare<=16.9500 23 8.7202 1 (0.080000 0.92000) *\n",
      "    21) Fare>16.9500 5 6.7469 1 (0.42857 0.57143)\n",
      "     42) Fare<=19.0229 2 1.1507 0 (0.75000 0.25000) *\n",
      "     43) Fare>19.0229 3 1.3389 1 (0.20000 0.80000) *\n",
      "   11) Fare>20.1666 36 25.254 0 (0.86842 0.13158)\n",
      "    22) Siblings/Spouses Aboard<=0.500000 4 4.6300 1 (0.33333 0.66667) *\n",
      "    23) Siblings/Spouses Aboard>0.500000 32 9.4252 0 (0.94118 0.058824) *\n",
      " 3) Age>16.5000 537 692.91 0 (0.65306 0.34694)\n",
      "  6) Fare<=20.2313 318 332.67 0 (0.78125 0.21875)\n",
      "   12) Sex<=0.500000 238 159.97 0 (0.89167 0.10833) *\n",
      "   13) Sex>0.500000 80 110.10 1 (0.45122 0.54878)\n",
      "    26) Fare<=17.2500 77 105.17 1 (0.43038 0.56962)\n",
      "     52) Age<=56.0000 71 94.320 1 (0.38356 0.61644) *\n",
      "     53) Age>56.0000 6 1.6024 0 (0.87500 0.12500) *\n",
      "    27) Fare>17.2500 3 1.3389 0 (0.80000 0.20000) *\n",
      "  7) Fare>20.2313 219 302.57 1 (0.46606 0.53394)\n",
      "   14) Parents/Children Aboard<=3.50000 212 291.61 1 (0.44860 0.55140)\n",
      "    28) Sex<=0.500000 133 165.90 0 (0.68148 0.31852)\n",
      "     56) Age<=24.5000 14 1.8071 0 (0.93750 0.062500) *\n",
      "     57) Age>24.5000 119 154.52 0 (0.64463 0.35537)\n",
      "      114) Fare<=86.2896 102 123.59 0 (0.70192 0.29808) *\n",
      "      115) Fare>86.2896 17 20.635 1 (0.31579 0.68421) *\n",
      "    29) Sex>0.500000 79 31.837 1 (0.061728 0.93827) *\n",
      "   15) Parents/Children Aboard>3.50000 7 1.6490 0 (0.88889 0.11111) *\n"
     ]
    }
   ],
   "source": [
    "Table df = Table.read().file(\"titanic.csv\");\n",
    "\n",
    "// Перевести объектные колонки в integers. (преобразование onehot пока не нашёл)\n",
    "df.replaceColumn(\"Sex\", df.stringColumn(\"Sex\").asDoubleColumn().asIntColumn());\n",
    "\n",
    "// Удалить неважные колонки\n",
    "df = df.removeColumns(\"Name\");\n",
    "\n",
    "// Удалить строки с пустыми ячейками \n",
    "df = df.dropRowsWithMissingValues();\n",
    "\n",
    "// разделяем данные на тренировочную и проверочную выборку\n",
    "Table[] splitData = df.sampleSplit(0.7);\n",
    "Table df_Train = splitData[0];\n",
    "Table df_Test = splitData[1];\n",
    "\n",
    "// initial model with sensible parameters\n",
    "RandomForest RFModel1 = smile.classification.RandomForest.fit(\n",
    "     Formula.lhs(\"Survived\"),\n",
    "     df_Train.smile().toDataFrame(),\n",
    "     50, //n\n",
    "     (int) Math.sqrt((double) (df_Train.columnCount() - 1)), //m = sqrt(p)\n",
    "     SplitRule.GINI,\n",
    "     7, // d \n",
    "     100, // maxNodes\n",
    "     1,\n",
    "     1\n",
    ");\n",
    "\n",
    "// посмотрим на дерево решений для предсказаний\n",
    "System.out.println(RFModel1.trees()[0]);"
   ]
  },
  {
   "cell_type": "code",
   "execution_count": 13,
   "id": "313cd80c-83bf-44a8-a49a-0deea406641c",
   "metadata": {},
   "outputs": [
    {
     "name": "stdout",
     "output_type": "stream",
     "text": [
      "0.8120300751879699\n"
     ]
    }
   ],
   "source": [
    "// сделаем предсказание на тестовой выборке и оценим точность работы модели\n",
    "int[] predictions = RFModel1.predict(df_Test.smile().toDataFrame());\n",
    "double accuracy1 = Accuracy.of(df_Test.intColumn(\"Survived\").asIntArray(), predictions);\n",
    "System.out.println(accuracy1);"
   ]
  },
  {
   "cell_type": "code",
   "execution_count": 14,
   "id": "2f82f78e-1b57-433c-b486-87addb9ace57",
   "metadata": {},
   "outputs": [
    {
     "data": {
      "text/plain": [
       "                featureImportance                 \n",
       " featureImportance   |          Feature          |\n",
       "--------------------------------------------------\n",
       "  4.276720520175648  |                   Pclass  |\n",
       "  4.932680628637136  |  Parents/Children Aboard  |\n",
       "  16.84819799398992  |  Siblings/Spouses Aboard  |\n",
       "  17.46714320336007  |                      Sex  |\n",
       " 33.082348465017475  |                      Age  |\n",
       "  33.73461616864792  |                     Fare  |"
      ]
     },
     "execution_count": 14,
     "metadata": {},
     "output_type": "execute_result"
    }
   ],
   "source": [
    "// найдём важность параметров, которые влияют на результат\n",
    "double[] RFModel1_Importance = RFModel1.importance();\n",
    "\n",
    "Table varImportance = Table.create(\"featureImportance\");\n",
    "\n",
    "List<String> featureNames = df_Train.columnNames();\n",
    "\n",
    "featureNames.remove(\"Survived\");\n",
    "\n",
    "\n",
    "// построим таблицу\n",
    "varImportance.addColumns(DoubleColumn.create(\"featureImportance\", RFModel1_Importance), StringColumn.create(\"Feature\",  featureNames));\n",
    "varImportance = varImportance.sortAscendingOn(\"featureImportance\");\n",
    "varImportance"
   ]
  },
  {
   "cell_type": "code",
   "execution_count": 15,
   "id": "02006f02-c3cb-4b11-9728-d4eb7deabda0",
   "metadata": {},
   "outputs": [
    {
     "data": {
      "text/html": [
       "<iframe width=\"100%\" height=\"700\" src=\"data:text/html;charset=utf-8;base64,PCFET0NUWVBFIGh0bWw+CjxodG1sIGxhbmc9ImVuLVVTIj4KPGhlYWQ+CiAgICA8bWV0YSBjaGFyc2V0PSJVVEYtOCI+CiAgICA8dGl0bGU+RmVhdHVyZSBJbXBvcnRhbmNlPC90aXRsZT4KICAgIDxzY3JpcHQgc3JjPSJodHRwczovL2Nkbi5wbG90Lmx5L3Bsb3RseS1sYXRlc3QubWluLmpzIj48L3NjcmlwdD4KPC9oZWFkPgo8Ym9keT4KICAgIDxkaXYgaWQ9J3Bsb3RfZGl2X2lkJyA+PC9kaXY+CiAgICAgICAgPHNjcmlwdD4KICAgICAgICB2YXIgdGFyZ2V0X3Bsb3RfZGl2X2lkID0gZG9jdW1lbnQuZ2V0RWxlbWVudEJ5SWQoJ3Bsb3RfZGl2X2lkJyk7CiAgICAgICAgdmFyIGxheW91dCA9IHsKICAgIHRpdGxlOiAnRmVhdHVyZSBJbXBvcnRhbmNlJywKICAgIGhlaWdodDogNzAwLAogICAgd2lkdGg6IDkwMCwKCgp9OwoKdmFyIHRyYWNlMCA9CnsKeDogWzQuMjc2NzIwNTIwMTc1NjQ4LCA0LjkzMjY4MDYyODYzNzEzNiwgMTYuODQ4MTk3OTkzOTg5OTIsIDE3LjQ2NzE0MzIwMzM2MDA3LCAzMy4wODIzNDg0NjUwMTc0NzUsIDMzLjczNDYxNjE2ODY0NzkyXSwKeTogWyJQY2xhc3MiLCJQYXJlbnRzL0NoaWxkcmVuIEFib2FyZCIsIlNpYmxpbmdzL1Nwb3VzZXMgQWJvYXJkIiwiU2V4IiwiQWdlIiwiRmFyZSJdLApvcmllbnRhdGlvbjogJ2gnLAp4YXhpczogJ3gnLAp5YXhpczogJ3knLAp0eXBlOiAnYmFyJywKbmFtZTogJycsCn07CgogICAgICAgIHZhciBkYXRhID0gWyB0cmFjZTBdOwpQbG90bHkubmV3UGxvdCh0YXJnZXRfcGxvdF9kaXZfaWQsIGRhdGEsIGxheW91dCk7ICAgICAgICAgICAgPC9zY3JpcHQ+Cgo8L2JvZHk+CjwvaHRtbD4=\"></iframe>"
      ],
      "text/plain": [
       "<iframe width=\"100%\" height=\"700\" src=\"data:text/html;charset=utf-8;base64,PCFET0NUWVBFIGh0bWw+CjxodG1sIGxhbmc9ImVuLVVTIj4KPGhlYWQ+CiAgICA8bWV0YSBjaGFyc2V0PSJVVEYtOCI+CiAgICA8dGl0bGU+RmVhdHVyZSBJbXBvcnRhbmNlPC90aXRsZT4KICAgIDxzY3JpcHQgc3JjPSJodHRwczovL2Nkbi5wbG90Lmx5L3Bsb3RseS1sYXRlc3QubWluLmpzIj48L3NjcmlwdD4KPC9oZWFkPgo8Ym9keT4KICAgIDxkaXYgaWQ9J3Bsb3RfZGl2X2lkJyA+PC9kaXY+CiAgICAgICAgPHNjcmlwdD4KICAgICAgICB2YXIgdGFyZ2V0X3Bsb3RfZGl2X2lkID0gZG9jdW1lbnQuZ2V0RWxlbWVudEJ5SWQoJ3Bsb3RfZGl2X2lkJyk7CiAgICAgICAgdmFyIGxheW91dCA9IHsKICAgIHRpdGxlOiAnRmVhdHVyZSBJbXBvcnRhbmNlJywKICAgIGhlaWdodDogNzAwLAogICAgd2lkdGg6IDkwMCwKCgp9OwoKdmFyIHRyYWNlMCA9CnsKeDogWzQuMjc2NzIwNTIwMTc1NjQ4LCA0LjkzMjY4MDYyODYzNzEzNiwgMTYuODQ4MTk3OTkzOTg5OTIsIDE3LjQ2NzE0MzIwMzM2MDA3LCAzMy4wODIzNDg0NjUwMTc0NzUsIDMzLjczNDYxNjE2ODY0NzkyXSwKeTogWyJQY2xhc3MiLCJQYXJlbnRzL0NoaWxkcmVuIEFib2FyZCIsIlNpYmxpbmdzL1Nwb3VzZXMgQWJvYXJkIiwiU2V4IiwiQWdlIiwiRmFyZSJdLApvcmllbnRhdGlvbjogJ2gnLAp4YXhpczogJ3gnLAp5YXhpczogJ3knLAp0eXBlOiAnYmFyJywKbmFtZTogJycsCn07CgogICAgICAgIHZhciBkYXRhID0gWyB0cmFjZTBdOwpQbG90bHkubmV3UGxvdCh0YXJnZXRfcGxvdF9kaXZfaWQsIGRhdGEsIGxheW91dCk7ICAgICAgICAgICAgPC9zY3JpcHQ+Cgo8L2JvZHk+CjwvaHRtbD4=\"></iframe>"
      ]
     },
     "execution_count": 15,
     "metadata": {},
     "output_type": "execute_result"
    }
   ],
   "source": [
    "// сделаем график из этой таблицы\n",
    "\n",
    "// Примеры построения графиков: https://github.com/jtablesaw/tablesaw/tree/master/jsplot/src/test/java/tech/tablesaw/examples\n",
    "Figure figure = HorizontalBarPlot.create(\"Feature Importance\", varImportance, \"Feature\", \"featureImportance\");\n",
    "\n",
    "// график будем строить на странице JupyterLab, поэтому исопльзуем iframe:\n",
    "String raw = Page.pageBuilder(figure, \"plot_div_id\").build().toString();\n",
    "raw = \"data:text/html;charset=utf-8;base64,\" + Base64.getEncoder().encodeToString(raw.getBytes(\"ascii\"));\n",
    "render(\"<iframe width=\\\"100%\\\" height=\\\"700\\\" src=\\\"\" + raw + \"\\\"></iframe>\", \"text/html\");"
   ]
  },
  {
   "cell_type": "code",
   "execution_count": 16,
   "id": "464fe102-6378-49d9-a492-c3786c5107e5",
   "metadata": {},
   "outputs": [
    {
     "name": "stdout",
     "output_type": "stream",
     "text": [
      "                                                      Spearman's Correlation Matrix                                                      \n",
      "         Feature          |  Survived  |  Pclass  |   Sex   |   Age   |  Siblings/Spouses Aboard  |  Parents/Children Aboard  |  Fare   |\n",
      "-----------------------------------------------------------------------------------------------------------------------------------------\n",
      "                Survived  |      1.00  |   -0.31  |   0.55  |  -0.09  |                     0.07  |                     0.17  |   0.30  |\n",
      "                  Pclass  |     -0.31  |    1.00  |  -0.10  |  -0.38  |                    -0.05  |                    -0.02  |  -0.69  |\n",
      "                     Sex  |      0.55  |   -0.10  |   1.00  |  -0.12  |                     0.16  |                     0.27  |   0.22  |\n",
      "                     Age  |     -0.09  |   -0.38  |  -0.12  |   1.00  |                    -0.19  |                    -0.29  |   0.14  |\n",
      " Siblings/Spouses Aboard  |      0.07  |   -0.05  |   0.16  |  -0.19  |                     1.00  |                     0.47  |   0.44  |\n",
      " Parents/Children Aboard  |      0.17  |   -0.02  |   0.27  |  -0.29  |                     0.47  |                     1.00  |   0.40  |\n",
      "                    Fare  |      0.30  |   -0.69  |   0.22  |   0.14  |                     0.44  |                     0.40  |   1.00  |\n"
     ]
    }
   ],
   "source": [
    "// Строим матрицу корреляции, чтобы убрать очень сильно и слабо зависимые параметры\n",
    "Table corr = Table.create(\"Spearman's Correlation Matrix\");\n",
    "\n",
    "corr.addColumns(StringColumn.create(\"Feature\"));\n",
    "\n",
    "for(String name: df_Test.columnNames().subList(0, df_Test.columns().size())) {\n",
    "    corr.addColumns(DoubleColumn.create(name));\n",
    "}\n",
    "\n",
    "for(int i = 0; i < df_Test.columns().size(); i++) {\n",
    "    for(int j = 0; j < df_Test.columns().size(); j++) {\n",
    "        corr.doubleColumn(i+1).append(df_Train.numericColumns(i).get(0).asDoubleColumn().spearmans(df_Train.numericColumns(j).get(0).asDoubleColumn()));\n",
    "    }\n",
    "}\n",
    "\n",
    "corr.stringColumn(\"Feature\").addAll(df_Train.columnNames().subList(0, df_Test.columns().size()));\n",
    "\n",
    "for(Object ea: corr.columnsOfType(ColumnType.DOUBLE)) {\n",
    "    ((NumberColumn) ea).setPrintFormatter(NumberColumnFormatter.fixedWithGrouping(2));\n",
    "}\n",
    "\n",
    "System.out.println(corr.printAll());"
   ]
  },
  {
   "cell_type": "code",
   "execution_count": 17,
   "id": "83c1c2bf-24d1-4766-9809-ebb12da30543",
   "metadata": {},
   "outputs": [],
   "source": [
    "/*\n",
    "// Так как во всех столбцах есть хорошие числа (больше 0.1), то не будем исбавляться от них. Но если захочется, то всегда может сделать так:\n",
    "\n",
    "dataTest.removeColumns(\"Fbs\");\n",
    "dataTrain.removeColumns(\"Fbs\");\n",
    "*/"
   ]
  },
  {
   "cell_type": "code",
   "execution_count": 18,
   "id": "6db71467-fcba-43f1-bab6-8b406c0f442f",
   "metadata": {},
   "outputs": [
    {
     "data": {
      "text/html": [
       "<iframe width=\"100%\" height=\"600\" src=\"data:text/html;charset=utf-8;base64,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\"></iframe>"
      ],
      "text/plain": [
       "<iframe width=\"100%\" height=\"600\" src=\"data:text/html;charset=utf-8;base64,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\"></iframe>"
      ]
     },
     "execution_count": 18,
     "metadata": {},
     "output_type": "execute_result"
    }
   ],
   "source": [
    "// Тюнингуем гиперпараметры модели (кол-во деревьев)\n",
    "Table AccuracyvTrees = Table.create(\"OOB-Error vs nTrees\");  // Out-of-bounds error\n",
    "AccuracyvTrees.addColumns(DoubleColumn.create(\"OOBerror\"), DoubleColumn.create(\"ntrees\"));\n",
    "\n",
    "for(int j = 50; j < 2000; j = j+10) {\n",
    "    RandomForest model = smile.classification.RandomForest.fit(\n",
    "        Formula.lhs(\"Survived\"),\n",
    "        df_Train.smile().toDataFrame(),\n",
    "        j,\n",
    "        (int) Math.sqrt((double) (df_Train.columnCount() - 1)), //root p\n",
    "        SplitRule.GINI,\n",
    "        7,\n",
    "        100,\n",
    "        1,\n",
    "        1\n",
    "    );\n",
    "\n",
    "    double err = model.error();\n",
    "    AccuracyvTrees.doubleColumn(0).append(err);\n",
    "    AccuracyvTrees.doubleColumn(1).append(j);\n",
    "}\n",
    "\n",
    "Figure figure = LinePlot.create(\"Accuracy\", AccuracyvTrees, \"ntrees\", \"OOBerror\");\n",
    "\n",
    "String raw = Page.pageBuilder(figure, \"plot_div_id\").build().toString();\n",
    "raw = \"data:text/html;charset=utf-8;base64,\" + Base64.getEncoder().encodeToString(raw.getBytes(\"ascii\"));\n",
    "render(\"<iframe width=\\\"100%\\\" height=\\\"600\\\" src=\\\"\" + raw + \"\\\"></iframe>\", \"text/html\");"
   ]
  },
  {
   "cell_type": "code",
   "execution_count": 19,
   "id": "cfc2b55b-8fab-437c-a229-1d2a7b2c3220",
   "metadata": {},
   "outputs": [
    {
     "data": {
      "text/plain": [
       "0.8195488721804511"
      ]
     },
     "execution_count": 19,
     "metadata": {},
     "output_type": "execute_result"
    }
   ],
   "source": [
    "// Минимум ошибок примерно на значении 325 деревьев. \n",
    "// Закончим исследование и проверим предсказательную силу лучшей модели.\n",
    "RandomForest RFModelBest = smile.classification.RandomForest.fit(\n",
    "    Formula.lhs(\"Survived\"),\n",
    "    df_Train.smile().toDataFrame(),\n",
    "    150,\n",
    "    (int) Math.sqrt((double) (df_Train.columnCount() - 1)), //root p\n",
    "    SplitRule.GINI,\n",
    "    7,\n",
    "    100,\n",
    "    1,\n",
    "    1\n",
    ");\n",
    "\n",
    "int[] predictionsBest = RFModelBest.predict(df_Test.smile().toDataFrame());\n",
    "double accuracyBest = Accuracy.of(df_Test.intColumn(\"Survived\").asIntArray(), predictionsBest);\n",
    "accuracyBest"
   ]
  },
  {
   "cell_type": "code",
   "execution_count": 20,
   "id": "4fe81e2c-a07a-4568-b574-3734ef44a446",
   "metadata": {},
   "outputs": [
    {
     "data": {
      "text/plain": [
       "1"
      ]
     },
     "execution_count": 20,
     "metadata": {},
     "output_type": "execute_result"
    }
   ],
   "source": [
    "// Применим модель на практике, передав ей для предсказания один набор значений:\n",
    "\n",
    "// Данные, которые вводит пользователь для получения предсказания\n",
    "// int[] Survived = { Integer.parseInt(\"1\") };\n",
    "int[] Pclass = { Integer.parseInt(\"1\") };\n",
    "String[] Sex = { \"male\" };\n",
    "// String[] Name = { \"Name\" };\n",
    "double[] Age = { Double.parseDouble(\"13\") };\n",
    "int[] Siblings_Spouses_Aboard = { Integer.parseInt(\"1\") };\n",
    "int[] Parents_Children_Aboard = { Integer.parseInt(\"2\") };\n",
    "double[] Fare = { Double.parseDouble(\"71.2833\") };\n",
    "\n",
    "/* Должны получиться такие типы колонок в таблице\n",
    " Index  |        Column Name        |  Column Type  |\n",
    "-----------------------------------------------------\n",
    "     1  |                   Pclass  |      INTEGER  |\n",
    "     2  |                      Sex  |       STRING  |\n",
    "     3  |                      Age  |       DOUBLE  |\n",
    "     4  |  Siblings/Spouses Aboard  |      INTEGER  |\n",
    "     5  |  Parents/Children Aboard  |      INTEGER  |\n",
    "     6  |                     Fare  |       DOUBLE  |\n",
    "*/\n",
    "\n",
    "Table tm = Table.create()\n",
    "    // .addColumns(IntColumn.create(\"Survived\", Survived))\n",
    "    .addColumns(IntColumn.create(\"Pclass\", Pclass))\n",
    "    // .addColumns(StringColumn.create(\"Name\", Name))\n",
    "    .addColumns(StringColumn.create(\"Sex\", Sex))\n",
    "    .addColumns(DoubleColumn.create(\"Age\", Age))\n",
    "    .addColumns(IntColumn.create(\"Siblings/Spouses Aboard\", Siblings_Spouses_Aboard))\n",
    "    .addColumns(IntColumn.create(\"Parents/Children Aboard\", Parents_Children_Aboard))\n",
    "    .addColumns(DoubleColumn.create(\"Fare\", Fare));\n",
    "\n",
    "// делаем те же самые преобразование с датасетом, что и при тренировке\n",
    "tm.replaceColumn(\"Sex\", tm.stringColumn(\"Sex\").asDoubleColumn().asIntColumn());\n",
    "tm;\n",
    "\n",
    "// Делаем предсказание\n",
    "int[] prediction = RFModelBest.predict(tm.smile().toDataFrame());\n",
    "\n",
    "int result = prediction[0];\n",
    "\n",
    "result // 1 или 0"
   ]
  },
  {
   "cell_type": "code",
   "execution_count": 25,
   "id": "33c8beca-0326-4bf1-b75e-0b9292a220fa",
   "metadata": {},
   "outputs": [],
   "source": [
    "// записываем модель в файл\n",
    "FileOutputStream fileOut = new FileOutputStream(\"./t.smile.model.ser\");\n",
    "ObjectOutputStream out = new ObjectOutputStream(fileOut);\n",
    "out.writeObject(RFModelBest);\n",
    "out.close();\n",
    "fileOut.close();"
   ]
  },
  {
   "cell_type": "code",
   "execution_count": 13,
   "id": "d549fc99-cb6e-4554-a911-99e4a41cb83b",
   "metadata": {},
   "outputs": [
    {
     "data": {
      "text/plain": [
       "smile.classification.RandomForest@78b1a922"
      ]
     },
     "execution_count": 13,
     "metadata": {},
     "output_type": "execute_result"
    }
   ],
   "source": [
    "// читаем модель из файла\n",
    "RandomForest e = null;\n",
    "FileInputStream fileIn = new FileInputStream(\"./t.smile.model.ser\");\n",
    "ObjectInputStream in = new ObjectInputStream(fileIn);\n",
    "e = (RandomForest) in.readObject();\n",
    "e"
   ]
  },
  {
   "cell_type": "code",
   "execution_count": 15,
   "id": "9f4ec2d3-563b-4dd9-b6d7-79bbde26dfdb",
   "metadata": {},
   "outputs": [
    {
     "ename": "CompilationException",
     "evalue": "",
     "output_type": "error",
     "traceback": [
      "\u001b[1m\u001b[30m|   \u001b[1m\u001b[30mInputStream fileIn = \u001b[0m\u001b[1m\u001b[30m\u001b[41mthis\u001b[0m\u001b[1m\u001b[30m.getClass().getResourceAsStream(\"./t.smile.model.ser\");\u001b[0m",
      "\u001b[1m\u001b[31mnon-static variable this cannot be referenced from a static context\u001b[0m",
      ""
     ]
    }
   ],
   "source": [
    "InputStream fileIn = this.getClass().getResourceAsStream(\"./t.smile.model.ser\");\n",
    "ObjectInputStream in = new ObjectInputStream(fileIn);"
   ]
  },
  {
   "cell_type": "code",
   "execution_count": 23,
   "id": "449356bf-37f6-48a1-ab61-4508828e5157",
   "metadata": {},
   "outputs": [
    {
     "data": {
      "text/plain": [
       "1"
      ]
     },
     "execution_count": 23,
     "metadata": {},
     "output_type": "execute_result"
    }
   ],
   "source": [
    "// Применим модель на практике, передав ей для предсказания один набор значений:\n",
    "\n",
    "// Данные, которые вводит пользователь для получения предсказания\n",
    "// int[] Survived = { Integer.parseInt(\"1\") };\n",
    "int[] Pclass = { Integer.parseInt(\"1\") };\n",
    "String[] Sex = { \"female\" };\n",
    "// String[] Name = { \"Name\" };\n",
    "double[] Age = { Double.parseDouble(\"4\") };\n",
    "int[] Siblings_Spouses_Aboard = { Integer.parseInt(\"1\") };\n",
    "int[] Parents_Children_Aboard = { Integer.parseInt(\"2\") };\n",
    "double[] Fare = { Double.parseDouble(\"150.2833\") };\n",
    "\n",
    "/* Должны получиться такие типы колонок в таблице\n",
    " Index  |        Column Name        |  Column Type  |\n",
    "-----------------------------------------------------\n",
    "     1  |                   Pclass  |      INTEGER  |\n",
    "     2  |                      Sex  |       STRING  |\n",
    "     3  |                      Age  |       DOUBLE  |\n",
    "     4  |  Siblings/Spouses Aboard  |      INTEGER  |\n",
    "     5  |  Parents/Children Aboard  |      INTEGER  |\n",
    "     6  |                     Fare  |       DOUBLE  |\n",
    "*/\n",
    "\n",
    "Table tm = Table.create()\n",
    "    // .addColumns(IntColumn.create(\"Survived\", Survived))\n",
    "    .addColumns(IntColumn.create(\"Pclass\", Pclass))\n",
    "    // .addColumns(StringColumn.create(\"Name\", Name))\n",
    "    .addColumns(StringColumn.create(\"Sex\", Sex))\n",
    "    .addColumns(DoubleColumn.create(\"Age\", Age))\n",
    "    .addColumns(IntColumn.create(\"Siblings/Spouses Aboard\", Siblings_Spouses_Aboard))\n",
    "    .addColumns(IntColumn.create(\"Parents/Children Aboard\", Parents_Children_Aboard))\n",
    "    .addColumns(DoubleColumn.create(\"Fare\", Fare));\n",
    "\n",
    "// делаем те же самые преобразование с датасетом, что и при тренировке\n",
    "tm.replaceColumn(\"Sex\", tm.stringColumn(\"Sex\").asDoubleColumn().asIntColumn());\n",
    "tm;\n",
    "\n",
    "// Делаем предсказание\n",
    "int[] prediction = e.predict(tm.smile().toDataFrame());\n",
    "\n",
    "int result = prediction[0];\n",
    "\n",
    "result // 1 или 0"
   ]
  }
 ],
 "metadata": {
  "kernelspec": {
   "display_name": "Java",
   "language": "java",
   "name": "java"
  },
  "language_info": {
   "codemirror_mode": "java",
   "file_extension": ".jshell",
   "mimetype": "text/x-java-source",
   "name": "Java",
   "pygments_lexer": "java",
   "version": "11.0.16+8-post-Ubuntu-0ubuntu120.04"
  }
 },
 "nbformat": 4,
 "nbformat_minor": 5
}
