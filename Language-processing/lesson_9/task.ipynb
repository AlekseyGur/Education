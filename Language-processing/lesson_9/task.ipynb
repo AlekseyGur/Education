{
 "cells": [
  {
   "cell_type": "markdown",
   "metadata": {
    "id": "ZGgBGbzESuZm"
   },
   "source": [
    "# Урок 9. Языковое моделирование\n",
    "\n",
    "Разобраться с моделькой генерации текста, собрать самим или взять датасет с вебинара и обучить генератор"
   ]
  },
  {
   "cell_type": "code",
   "execution_count": 1,
   "metadata": {
    "id": "yG_n40gFzf9s"
   },
   "outputs": [
    {
     "name": "stderr",
     "output_type": "stream",
     "text": [
      "2023-10-15 20:27:49.454632: I tensorflow/core/platform/cpu_feature_guard.cc:182] This TensorFlow binary is optimized to use available CPU instructions in performance-critical operations.\n",
      "To enable the following instructions: AVX2 FMA, in other operations, rebuild TensorFlow with the appropriate compiler flags.\n",
      "2023-10-15 20:27:50.235814: W tensorflow/compiler/tf2tensorrt/utils/py_utils.cc:38] TF-TRT Warning: Could not find TensorRT\n"
     ]
    }
   ],
   "source": [
    "import tensorflow as tf\n",
    "import numpy as np\n",
    "import os\n",
    "import time\n",
    "import matplotlib.pyplot as plt"
   ]
  },
  {
   "cell_type": "code",
   "execution_count": 2,
   "metadata": {
    "colab": {
     "base_uri": "https://localhost:8080/"
    },
    "id": "aavnuByVymwK",
    "outputId": "42857ecf-2849-462a-8af7-a0d0ed7b7f88"
   },
   "outputs": [
    {
     "name": "stdout",
     "output_type": "stream",
     "text": [
      "Уникальных симоволов: 131\n",
      "Всего симоволов: 573968\n"
     ]
    }
   ],
   "source": [
    "text = open('evgenyi_onegin.txt', 'rb').read().decode(encoding='utf-8')\n",
    "vocab = sorted(set(text))\n",
    "print(f'Уникальных симоволов: {len(vocab)}')\n",
    "text += text # его не хватает для обучения\n",
    "print(f'Всего симоволов: {len(text)}')"
   ]
  },
  {
   "cell_type": "code",
   "execution_count": 3,
   "metadata": {
    "id": "IalZLbvOzf-F"
   },
   "outputs": [],
   "source": [
    "# индексируем символы\n",
    "char2idx = {u:i for i, u in enumerate(vocab)}\n",
    "idx2char = np.array(vocab)\n",
    "\n",
    "text_as_int = np.array([char2idx[c] for c in text])"
   ]
  },
  {
   "cell_type": "code",
   "execution_count": 4,
   "metadata": {
    "colab": {
     "base_uri": "https://localhost:8080/"
    },
    "id": "0UHJDA39zf-O",
    "outputId": "a2b9a6ff-9366-4d54-c748-2a51d1898d17"
   },
   "outputs": [
    {
     "name": "stderr",
     "output_type": "stream",
     "text": [
      "2023-10-15 20:27:52.654724: I tensorflow/core/common_runtime/gpu/gpu_device.cc:1639] Created device /job:localhost/replica:0/task:0/device:GPU:0 with 15406 MB memory:  -> device: 0, name: Tesla P100-PCIE-16GB, pci bus id: 0000:a1:00.0, compute capability: 6.0\n"
     ]
    },
    {
     "data": {
      "text/plain": [
       "'Александр '"
      ]
     },
     "execution_count": 4,
     "metadata": {},
     "output_type": "execute_result"
    }
   ],
   "source": [
    "# Установим максимальную длину предложения (в символах)\n",
    "seq_length = 100\n",
    "examples_per_epoch = len(text)//(seq_length+1)\n",
    "\n",
    "char_dataset = tf.data.Dataset.from_tensor_slices(text_as_int)\n",
    "\n",
    "''.join([idx2char[i.numpy()] for i in char_dataset.take(10)])"
   ]
  },
  {
   "cell_type": "code",
   "execution_count": 5,
   "metadata": {
    "colab": {
     "base_uri": "https://localhost:8080/"
    },
    "id": "l4hkDU3i7ozi",
    "outputId": "01bc1bfe-4f94-4d63-cf53-8f1df4171e0a"
   },
   "outputs": [
    {
     "name": "stdout",
     "output_type": "stream",
     "text": [
      "'Александр Сергеевич Пушкин\\n\\n                                Евгений Онегин\\n                          '\n",
      "'      Роман в стихах\\n\\n                        Не мысля гордый свет забавить,\\n                        '\n",
      "'Вниманье дружбы возлюбя,\\n                        Хотел бы я тебе представить\\n                        '\n",
      "'Залог достойнее тебя,\\n                        Достойнее души прекрасной,\\n                        Свят'\n",
      "'ой исполненной мечты,\\n                        Поэзии живой и ясной,\\n                        Высоких д'\n"
     ]
    }
   ],
   "source": [
    "sequences = char_dataset.batch(seq_length+1, drop_remainder=True)\n",
    "\n",
    "for item in sequences.take(5):\n",
    "    print(repr(''.join(idx2char[item.numpy()])))"
   ]
  },
  {
   "cell_type": "code",
   "execution_count": 6,
   "metadata": {
    "id": "9NGu-FkO_kYU"
   },
   "outputs": [],
   "source": [
    "def split_input_target(chunk):\n",
    "    input_text = chunk[:-1]\n",
    "    target_text = chunk[1:]\n",
    "    return input_text, target_text\n",
    "\n",
    "# Разделим батчи на признаки и целевую переменную (последня буква) и применим ко всему датасету\n",
    "dataset = sequences.map(split_input_target)"
   ]
  },
  {
   "cell_type": "code",
   "execution_count": 7,
   "metadata": {
    "colab": {
     "base_uri": "https://localhost:8080/"
    },
    "id": "GNbw-iR0ymwj",
    "outputId": "c2af1568-8c45-422c-9edf-8f2c399d5161"
   },
   "outputs": [
    {
     "name": "stdout",
     "output_type": "stream",
     "text": [
      "Входные данные:  'Александр Сергеевич Пушкин\\n\\n                                Евгений Онегин\\n                         '\n",
      "Предсказания:  'лександр Сергеевич Пушкин\\n\\n                                Евгений Онегин\\n                          '\n"
     ]
    }
   ],
   "source": [
    "for input_example, target_example in  dataset.take(1):\n",
    "    print('Входные данные: ', repr(''.join(idx2char[input_example.numpy()])))\n",
    "    print('Предсказания: ', repr(''.join(idx2char[target_example.numpy()])))"
   ]
  },
  {
   "cell_type": "markdown",
   "metadata": {
    "id": "S1tLJN_3TtnO"
   },
   "source": [
    "# LSTM"
   ]
  },
  {
   "cell_type": "code",
   "execution_count": 8,
   "metadata": {
    "colab": {
     "base_uri": "https://localhost:8080/"
    },
    "id": "p2pGotuNzf-S",
    "outputId": "abb38925-8990-4906-d1fe-66c68ba183b8"
   },
   "outputs": [],
   "source": [
    "BATCH_SIZE = 64\n",
    "BUFFER_SIZE = 10000\n",
    "vocab_size = len(vocab)\n",
    "embedding_dim = 256\n",
    "rnn_units = 1024\n",
    "dataset = dataset.shuffle(BUFFER_SIZE).batch(BATCH_SIZE, drop_remainder=True)"
   ]
  },
  {
   "cell_type": "code",
   "execution_count": 9,
   "metadata": {
    "id": "MtCrdfzEI2N0"
   },
   "outputs": [],
   "source": [
    "# модель из LSTM-блоков\n",
    "def build_model(vocab_size, embedding_dim, rnn_units, batch_size):\n",
    "    model = tf.keras.Sequential([\n",
    "        tf.keras.layers.Embedding(vocab_size, embedding_dim,\n",
    "                                  batch_input_shape=[batch_size, None]),\n",
    "                                 \n",
    "        tf.keras.layers.LSTM(rnn_units,\n",
    "                            return_sequences=True,\n",
    "                            stateful=True,\n",
    "                            recurrent_initializer='glorot_uniform'),\n",
    "\n",
    "        tf.keras.layers.LSTM(rnn_units,\n",
    "                            return_sequences=True,\n",
    "                            stateful=True,\n",
    "                            recurrent_initializer='glorot_uniform'),\n",
    "\n",
    "         tf.keras.layers.LSTM(rnn_units,\n",
    "                            return_sequences=True,\n",
    "                            stateful=True,\n",
    "                            recurrent_initializer='glorot_uniform'),\n",
    "        \n",
    "        tf.keras.layers.LSTM(rnn_units,\n",
    "                            return_sequences=True,\n",
    "                            stateful=True,\n",
    "                            recurrent_initializer='glorot_uniform'),\n",
    "                                   \n",
    "        tf.keras.layers.Dense(vocab_size)\n",
    "    ])\n",
    "    return model"
   ]
  },
  {
   "cell_type": "code",
   "execution_count": 10,
   "metadata": {},
   "outputs": [],
   "source": [
    "# !rm -rf training_checkpoints_lstm"
   ]
  },
  {
   "cell_type": "code",
   "execution_count": 11,
   "metadata": {
    "id": "wwsrpOik5zhv"
   },
   "outputs": [],
   "source": [
    "model = build_model(\n",
    "    vocab_size=len(vocab),\n",
    "    embedding_dim=embedding_dim,\n",
    "    rnn_units=rnn_units,\n",
    "    batch_size=BATCH_SIZE)\n",
    "# model.summary()"
   ]
  },
  {
   "cell_type": "code",
   "execution_count": 12,
   "metadata": {
    "colab": {
     "base_uri": "https://localhost:8080/"
    },
    "id": "C-_70kKAPrPU",
    "outputId": "f6314ff5-78c6-40aa-e972-7b01b72e6511"
   },
   "outputs": [
    {
     "name": "stderr",
     "output_type": "stream",
     "text": [
      "2023-10-15 20:27:54.115175: I tensorflow/compiler/xla/stream_executor/cuda/cuda_dnn.cc:432] Loaded cuDNN version 8905\n"
     ]
    },
    {
     "name": "stdout",
     "output_type": "stream",
     "text": [
      "batch_size = 64\n",
      "sequence_length = 100\n",
      "vocab_size = 131\n"
     ]
    }
   ],
   "source": [
    "for input_example_batch, target_example_batch in dataset.take(1):\n",
    "    example_batch_predictions = model(input_example_batch)\n",
    "    print(f\"batch_size = {example_batch_predictions.shape[0]}\")\n",
    "    print(f\"sequence_length = {example_batch_predictions.shape[1]}\")\n",
    "    print(f\"vocab_size = {example_batch_predictions.shape[2]}\")"
   ]
  },
  {
   "cell_type": "code",
   "execution_count": 13,
   "metadata": {
    "colab": {
     "base_uri": "https://localhost:8080/"
    },
    "id": "4HrXTACTdzY-",
    "outputId": "279e1515-3528-421c-b6e8-0e2535198bc6"
   },
   "outputs": [
    {
     "name": "stdout",
     "output_type": "stream",
     "text": [
      "batch_size = 64\n",
      "sequence_length = 100\n",
      "vocab_size = 131\n",
      "scalar_loss = 4.873912334442139\n"
     ]
    }
   ],
   "source": [
    "# функция потерь\n",
    "def loss(labels, logits):\n",
    "    return tf.keras.losses.sparse_categorical_crossentropy(labels, logits, from_logits=True)\n",
    "\n",
    "example_batch_loss = loss(target_example_batch, example_batch_predictions)\n",
    "print(f\"batch_size = {example_batch_predictions.shape[0]}\")\n",
    "print(f\"sequence_length = {example_batch_predictions.shape[1]}\")\n",
    "print(f\"vocab_size = {example_batch_predictions.shape[2]}\")\n",
    "print(f\"scalar_loss = {example_batch_loss.numpy().mean()}\")"
   ]
  },
  {
   "cell_type": "code",
   "execution_count": 14,
   "metadata": {},
   "outputs": [],
   "source": [
    "!rm -rf ./training_checkpoints_lstm"
   ]
  },
  {
   "cell_type": "code",
   "execution_count": 15,
   "metadata": {
    "colab": {
     "base_uri": "https://localhost:8080/"
    },
    "id": "UK-hmKjYVoll",
    "outputId": "af739ee2-d220-420c-8739-eec166bad252"
   },
   "outputs": [
    {
     "name": "stdout",
     "output_type": "stream",
     "text": [
      "Epoch 1/30\n"
     ]
    },
    {
     "name": "stderr",
     "output_type": "stream",
     "text": [
      "2023-10-15 20:27:58.526315: I tensorflow/compiler/xla/service/service.cc:168] XLA service 0x7ff4e81f3a50 initialized for platform CUDA (this does not guarantee that XLA will be used). Devices:\n",
      "2023-10-15 20:27:58.526374: I tensorflow/compiler/xla/service/service.cc:176]   StreamExecutor device (0): Tesla P100-PCIE-16GB, Compute Capability 6.0\n",
      "2023-10-15 20:27:58.530805: I tensorflow/compiler/mlir/tensorflow/utils/dump_mlir_util.cc:255] disabling MLIR crash reproducer, set env var `MLIR_CRASH_REPRODUCER_DIRECTORY` to enable.\n",
      "2023-10-15 20:27:58.659394: I ./tensorflow/compiler/jit/device_compiler.h:186] Compiled cluster using XLA!  This line is logged at most once for the lifetime of the process.\n"
     ]
    },
    {
     "name": "stdout",
     "output_type": "stream",
     "text": [
      "88/88 [==============================] - 25s 237ms/step - loss: 2.2055 - accuracy: 0.5541\n",
      "Epoch 2/30\n",
      "88/88 [==============================] - 20s 217ms/step - loss: 1.7251 - accuracy: 0.5679\n",
      "Epoch 3/30\n",
      "88/88 [==============================] - 20s 215ms/step - loss: 1.5412 - accuracy: 0.5860\n",
      "Epoch 4/30\n",
      "88/88 [==============================] - 20s 216ms/step - loss: 1.4454 - accuracy: 0.5990\n",
      "Epoch 5/30\n",
      "88/88 [==============================] - 21s 227ms/step - loss: 1.3850 - accuracy: 0.6096\n",
      "Epoch 6/30\n",
      "88/88 [==============================] - 22s 239ms/step - loss: 1.3409 - accuracy: 0.6183\n",
      "Epoch 7/30\n",
      "88/88 [==============================] - 22s 239ms/step - loss: 1.3156 - accuracy: 0.6235\n",
      "Epoch 8/30\n",
      "88/88 [==============================] - 22s 247ms/step - loss: 1.2948 - accuracy: 0.6294\n",
      "Epoch 9/30\n",
      "88/88 [==============================] - 22s 246ms/step - loss: 1.2623 - accuracy: 0.6360\n",
      "Epoch 10/30\n",
      "88/88 [==============================] - 23s 251ms/step - loss: 1.2435 - accuracy: 0.6433\n",
      "Epoch 11/30\n",
      "88/88 [==============================] - 22s 243ms/step - loss: 1.2137 - accuracy: 0.6515\n",
      "Epoch 12/30\n",
      "88/88 [==============================] - 23s 250ms/step - loss: 1.1756 - accuracy: 0.6588\n",
      "Epoch 13/30\n",
      "88/88 [==============================] - 22s 249ms/step - loss: 1.1654 - accuracy: 0.6656\n",
      "Epoch 14/30\n",
      "88/88 [==============================] - 22s 245ms/step - loss: 1.1269 - accuracy: 0.6732\n",
      "Epoch 15/30\n",
      "88/88 [==============================] - 23s 252ms/step - loss: 1.0989 - accuracy: 0.6813\n",
      "Epoch 16/30\n",
      "88/88 [==============================] - 23s 251ms/step - loss: 1.0568 - accuracy: 0.6895\n",
      "Epoch 17/30\n",
      "88/88 [==============================] - 23s 251ms/step - loss: 1.0263 - accuracy: 0.6970\n",
      "Epoch 18/30\n",
      "88/88 [==============================] - 22s 246ms/step - loss: 1.0347 - accuracy: 0.7019\n",
      "Epoch 19/30\n",
      "88/88 [==============================] - 22s 249ms/step - loss: 0.9779 - accuracy: 0.7108\n",
      "Epoch 20/30\n",
      "88/88 [==============================] - 23s 254ms/step - loss: 0.9700 - accuracy: 0.7171\n",
      "Epoch 21/30\n",
      "88/88 [==============================] - 22s 248ms/step - loss: 0.9251 - accuracy: 0.7253\n",
      "Epoch 22/30\n",
      "88/88 [==============================] - 23s 250ms/step - loss: 0.9176 - accuracy: 0.7315\n",
      "Epoch 23/30\n",
      "88/88 [==============================] - 23s 253ms/step - loss: 0.8855 - accuracy: 0.7394\n",
      "Epoch 24/30\n",
      "88/88 [==============================] - 22s 249ms/step - loss: 0.8561 - accuracy: 0.7472\n",
      "Epoch 25/30\n",
      "88/88 [==============================] - 23s 251ms/step - loss: 0.8455 - accuracy: 0.7543\n",
      "Epoch 26/30\n",
      "88/88 [==============================] - 23s 251ms/step - loss: 0.8191 - accuracy: 0.7625\n",
      "Epoch 27/30\n",
      "88/88 [==============================] - 23s 250ms/step - loss: 0.8017 - accuracy: 0.7726\n",
      "Epoch 28/30\n",
      "88/88 [==============================] - 22s 248ms/step - loss: 0.7525 - accuracy: 0.7818\n",
      "Epoch 29/30\n",
      "88/88 [==============================] - 23s 251ms/step - loss: 0.7154 - accuracy: 0.7929\n",
      "Epoch 30/30\n",
      "88/88 [==============================] - 23s 256ms/step - loss: 0.6737 - accuracy: 0.8039\n"
     ]
    }
   ],
   "source": [
    "model.compile(optimizer='adam', loss=loss, metrics='accuracy')\n",
    "\n",
    "checkpoint_dir = './training_checkpoints_lstm'\n",
    "checkpoint_prefix = os.path.join(checkpoint_dir, \"ckpt_{epoch}\")\n",
    "\n",
    "checkpoint_callback = tf.keras.callbacks.ModelCheckpoint(\n",
    "                            filepath=checkpoint_prefix,\n",
    "                            save_freq=1000,\n",
    "                            save_weights_only=True)\n",
    "\n",
    "EPOCHS = 30\n",
    "\n",
    "history = model.fit(dataset, epochs=EPOCHS, callbacks=[checkpoint_callback])"
   ]
  },
  {
   "cell_type": "code",
   "execution_count": 19,
   "metadata": {
    "id": "LycQ-ot_jjyu"
   },
   "outputs": [],
   "source": [
    "# Если надо загрузить с чекпойнта\n",
    "model = build_model(vocab_size, embedding_dim, rnn_units, batch_size=1)\n",
    "model.load_weights(tf.train.latest_checkpoint(checkpoint_dir))\n",
    "model.build(tf.TensorShape([1, None]))\n",
    "# model.summary()"
   ]
  },
  {
   "cell_type": "code",
   "execution_count": null,
   "metadata": {
    "id": "WvuwZBX5Ogfd"
   },
   "outputs": [],
   "source": [
    "# предсказания текста\n",
    "def generate_text(model, start_string):\n",
    "\n",
    "    num_generate = 1000\n",
    "\n",
    "    input_eval = [char2idx[s] for s in start_string]\n",
    "    input_eval = tf.expand_dims(input_eval, 0)\n",
    "\n",
    "    text_generated = []\n",
    "\n",
    "    temperature = 0.5 # один из главных параметров, влияющих на смысл\n",
    "\n",
    "    model.reset_states()\n",
    "    for i in range(num_generate):\n",
    "        predictions = model(input_eval)\n",
    "        predictions = tf.squeeze(predictions, 0)\n",
    "        predictions = predictions / temperature\n",
    "        predicted_id = tf.random.categorical(predictions, num_samples=1)[-1, 0].numpy()\n",
    "\n",
    "        input_eval = tf.expand_dims([predicted_id], 0)\n",
    "\n",
    "        text_generated.append(idx2char[predicted_id])\n",
    "\n",
    "    return (start_string + ''.join(text_generated))\n"
   ]
  },
  {
   "cell_type": "code",
   "execution_count": 21,
   "metadata": {
    "colab": {
     "base_uri": "https://localhost:8080/"
    },
    "id": "ktovv0RFhrkn",
    "outputId": "42faa2bc-5530-40ec-9e4b-466a82e8678c"
   },
   "outputs": [
    {
     "name": "stdout",
     "output_type": "stream",
     "text": [
      "Мой дядя самых застроет;\n",
      "                        Давно ль он в рад они вас он,\n",
      "                        О коньком обедов, боже!\n",
      "                                                                                                                                                                                                                                                                                                        XXVI\n",
      "\n",
      "                        Что ж наши светланая сень.\n",
      "                        Он в сердце грустной, как суровые,\n",
      "                        Веселый загывал мой,\n",
      "                                                                                                                                                                                                                                                                                                                                                                                                                                              \n"
     ]
    }
   ],
   "source": [
    "# Предсказываем текст по первой строке\n",
    "pred = generate_text(model, start_string=u\"Мой дядя самых\")\n",
    "len(pred)\n",
    "print(pred)"
   ]
  },
  {
   "cell_type": "markdown",
   "metadata": {
    "id": "u8QC0Wc2JmO6"
   },
   "source": [
    "## GRU"
   ]
  },
  {
   "cell_type": "code",
   "execution_count": 25,
   "metadata": {
    "id": "nIwlOrJzLkjM"
   },
   "outputs": [],
   "source": [
    "# со слоями GRU\n",
    "def build_model_gru(vocab_size, embedding_dim, rnn_units, batch_size):\n",
    "    model = tf.keras.Sequential([\n",
    "        tf.keras.layers.Embedding(vocab_size, embedding_dim),\n",
    "                                 \n",
    "        tf.keras.layers.GRU(rnn_units,\n",
    "                            return_sequences=True,\n",
    "                            stateful=False,\n",
    "                            recurrent_initializer='glorot_uniform'),\n",
    "\n",
    "        tf.keras.layers.GRU(rnn_units,\n",
    "                            return_sequences=True,\n",
    "                            stateful=False,\n",
    "                            recurrent_initializer='glorot_uniform'),\n",
    "\n",
    "         tf.keras.layers.GRU(rnn_units,\n",
    "                            return_sequences=True,\n",
    "                            stateful=False,\n",
    "                            recurrent_initializer='glorot_uniform'),\n",
    "                                   \n",
    "        tf.keras.layers.Dense(vocab_size)\n",
    "    ])\n",
    "    return model"
   ]
  },
  {
   "cell_type": "code",
   "execution_count": 26,
   "metadata": {
    "id": "asQ2z6dgMEov"
   },
   "outputs": [],
   "source": [
    "model_gru = build_model(\n",
    "    vocab_size=len(vocab),\n",
    "    embedding_dim=embedding_dim,\n",
    "    rnn_units=rnn_units,\n",
    "    batch_size=BATCH_SIZE)"
   ]
  },
  {
   "cell_type": "code",
   "execution_count": 27,
   "metadata": {
    "colab": {
     "base_uri": "https://localhost:8080/"
    },
    "id": "t6iogCIHMSCt",
    "outputId": "4ef1ad49-ba74-49b6-fe01-f9e45a4857c1"
   },
   "outputs": [
    {
     "name": "stdout",
     "output_type": "stream",
     "text": [
      "batch_size = 64\n",
      "sequence_length = 100\n",
      "vocab_size = 131\n"
     ]
    }
   ],
   "source": [
    "for input_example_batch, target_example_batch in dataset.take(1):\n",
    "    example_batch_predictions = model_gru(input_example_batch)\n",
    "    print(f\"batch_size = {example_batch_predictions.shape[0]}\")\n",
    "    print(f\"sequence_length = {example_batch_predictions.shape[1]}\")\n",
    "    print(f\"vocab_size = {example_batch_predictions.shape[2]}\")"
   ]
  },
  {
   "cell_type": "code",
   "execution_count": 28,
   "metadata": {
    "colab": {
     "base_uri": "https://localhost:8080/"
    },
    "id": "hWlcFHT0MZtJ",
    "outputId": "37590bb0-f376-4bba-bec2-400806666348"
   },
   "outputs": [
    {
     "name": "stdout",
     "output_type": "stream",
     "text": [
      "Model: \"sequential_2\"\n",
      "_________________________________________________________________\n",
      " Layer (type)                Output Shape              Param #   \n",
      "=================================================================\n",
      " embedding_2 (Embedding)     (64, None, 256)           33536     \n",
      "                                                                 \n",
      " lstm_8 (LSTM)               (64, None, 1024)          5246976   \n",
      "                                                                 \n",
      " lstm_9 (LSTM)               (64, None, 1024)          8392704   \n",
      "                                                                 \n",
      " lstm_10 (LSTM)              (64, None, 1024)          8392704   \n",
      "                                                                 \n",
      " lstm_11 (LSTM)              (64, None, 1024)          8392704   \n",
      "                                                                 \n",
      " dense_2 (Dense)             (64, None, 131)           134275    \n",
      "                                                                 \n",
      "=================================================================\n",
      "Total params: 30592899 (116.70 MB)\n",
      "Trainable params: 30592899 (116.70 MB)\n",
      "Non-trainable params: 0 (0.00 Byte)\n",
      "_________________________________________________________________\n"
     ]
    }
   ],
   "source": [
    "model_gru.summary()"
   ]
  },
  {
   "cell_type": "code",
   "execution_count": 29,
   "metadata": {
    "colab": {
     "base_uri": "https://localhost:8080/"
    },
    "id": "rogxxS-jM7qL",
    "outputId": "aa31c585-5c12-4844-e985-db8e27053e79"
   },
   "outputs": [],
   "source": [
    "# sampled_indices = tf.random.categorical(example_batch_predictions[0], num_samples=1)\n",
    "# sampled_indices = tf.squeeze(sampled_indices,axis=-1).numpy()\n",
    "\n",
    "# print(\"Input: \\n\", repr(\"\".join(idx2char[input_example_batch[0]])))\n",
    "# print()\n",
    "# print(\"Next Char Predictions: \\n\", repr(\"\".join(idx2char[sampled_indices ])))"
   ]
  },
  {
   "cell_type": "code",
   "execution_count": 30,
   "metadata": {
    "colab": {
     "base_uri": "https://localhost:8080/"
    },
    "id": "6wiZczkONJJT",
    "outputId": "7b173ce5-e9b7-4a75-b8df-83edeedd195f"
   },
   "outputs": [
    {
     "name": "stdout",
     "output_type": "stream",
     "text": [
      "batch_size = 64\n",
      "sequence_length = 100\n",
      "vocab_size = 131\n",
      "scalar_loss = 4.87722635269165\n"
     ]
    }
   ],
   "source": [
    "def loss(labels, logits):\n",
    "    return tf.keras.losses.sparse_categorical_crossentropy(labels, logits, from_logits=True)\n",
    "\n",
    "example_batch_loss = loss(target_example_batch, example_batch_predictions)\n",
    "print(f\"batch_size = {example_batch_predictions.shape[0]}\")\n",
    "print(f\"sequence_length = {example_batch_predictions.shape[1]}\")\n",
    "print(f\"vocab_size = {example_batch_predictions.shape[2]}\")\n",
    "print(f\"scalar_loss = {example_batch_loss.numpy().mean()}\")"
   ]
  },
  {
   "cell_type": "code",
   "execution_count": 31,
   "metadata": {
    "id": "PyTdK8yoNQv_"
   },
   "outputs": [],
   "source": [
    "model_gru.compile(optimizer='adam', loss=loss, metrics='accuracy')"
   ]
  },
  {
   "cell_type": "code",
   "execution_count": 32,
   "metadata": {
    "id": "6b12s9fHNd5i"
   },
   "outputs": [],
   "source": [
    "!rm -rf ./training_checkpoints_gru"
   ]
  },
  {
   "cell_type": "code",
   "execution_count": 33,
   "metadata": {
    "id": "QKzHAmokNeLp"
   },
   "outputs": [],
   "source": [
    "checkpoint_dir = './training_checkpoints_gru'\n",
    "checkpoint_prefix = os.path.join(checkpoint_dir, \"ckpt_{epoch}\")\n",
    "\n",
    "checkpoint_callback = tf.keras.callbacks.ModelCheckpoint(\n",
    "                            filepath=checkpoint_prefix,\n",
    "                            save_freq=1000,\n",
    "                            save_weights_only=True)"
   ]
  },
  {
   "cell_type": "code",
   "execution_count": 34,
   "metadata": {
    "id": "bwjfxgclN6Te"
   },
   "outputs": [],
   "source": [
    "EPOCHS = 30"
   ]
  },
  {
   "cell_type": "code",
   "execution_count": 35,
   "metadata": {
    "colab": {
     "base_uri": "https://localhost:8080/"
    },
    "id": "wwr-d4XbN6cG",
    "outputId": "c09c13af-248f-40d8-b1fc-80ccc3c7482c"
   },
   "outputs": [
    {
     "name": "stdout",
     "output_type": "stream",
     "text": [
      "Epoch 1/30\n",
      "88/88 [==============================] - 23s 223ms/step - loss: 2.2545 - accuracy: 0.5541\n",
      "Epoch 2/30\n",
      "88/88 [==============================] - 19s 215ms/step - loss: 1.6985 - accuracy: 0.5728\n",
      "Epoch 3/30\n",
      "88/88 [==============================] - 20s 216ms/step - loss: 1.5064 - accuracy: 0.5941\n",
      "Epoch 4/30\n",
      "88/88 [==============================] - 20s 216ms/step - loss: 1.4092 - accuracy: 0.6059\n",
      "Epoch 5/30\n",
      "88/88 [==============================] - 20s 222ms/step - loss: 1.3534 - accuracy: 0.6144\n",
      "Epoch 6/30\n",
      "88/88 [==============================] - 21s 234ms/step - loss: 1.3228 - accuracy: 0.6212\n",
      "Epoch 7/30\n",
      "88/88 [==============================] - 22s 242ms/step - loss: 1.2933 - accuracy: 0.6280\n",
      "Epoch 8/30\n",
      "88/88 [==============================] - 22s 239ms/step - loss: 1.2708 - accuracy: 0.6334\n",
      "Epoch 9/30\n",
      "88/88 [==============================] - 22s 244ms/step - loss: 1.2490 - accuracy: 0.6400\n",
      "Epoch 10/30\n",
      "88/88 [==============================] - 23s 252ms/step - loss: 1.2162 - accuracy: 0.6465\n",
      "Epoch 11/30\n",
      "88/88 [==============================] - 22s 245ms/step - loss: 1.1782 - accuracy: 0.6561\n",
      "Epoch 12/30\n",
      "88/88 [==============================] - 22s 247ms/step - loss: 1.1752 - accuracy: 0.6648\n",
      "Epoch 13/30\n",
      "88/88 [==============================] - 22s 247ms/step - loss: 1.1288 - accuracy: 0.6751\n",
      "Epoch 14/30\n",
      "88/88 [==============================] - 22s 249ms/step - loss: 1.1061 - accuracy: 0.6863\n",
      "Epoch 15/30\n",
      "88/88 [==============================] - 22s 246ms/step - loss: 1.0550 - accuracy: 0.6983\n",
      "Epoch 16/30\n",
      "88/88 [==============================] - 23s 250ms/step - loss: 1.0055 - accuracy: 0.7109\n",
      "Epoch 17/30\n",
      "88/88 [==============================] - 23s 250ms/step - loss: 0.9539 - accuracy: 0.7246\n",
      "Epoch 18/30\n",
      "88/88 [==============================] - 22s 247ms/step - loss: 0.9107 - accuracy: 0.7374\n",
      "Epoch 19/30\n",
      "88/88 [==============================] - 22s 247ms/step - loss: 0.8607 - accuracy: 0.7526\n",
      "Epoch 20/30\n",
      "88/88 [==============================] - 23s 256ms/step - loss: 0.7978 - accuracy: 0.7698\n",
      "Epoch 21/30\n",
      "88/88 [==============================] - 23s 252ms/step - loss: 0.7686 - accuracy: 0.7859\n",
      "Epoch 22/30\n",
      "88/88 [==============================] - 23s 251ms/step - loss: 0.6993 - accuracy: 0.8051\n",
      "Epoch 23/30\n",
      "88/88 [==============================] - 22s 246ms/step - loss: 0.6310 - accuracy: 0.8240\n",
      "Epoch 24/30\n",
      "88/88 [==============================] - 23s 251ms/step - loss: 0.5895 - accuracy: 0.8414\n",
      "Epoch 25/30\n",
      "88/88 [==============================] - 23s 250ms/step - loss: 0.5294 - accuracy: 0.8592\n",
      "Epoch 26/30\n",
      "88/88 [==============================] - 23s 253ms/step - loss: 0.4813 - accuracy: 0.8738\n",
      "Epoch 27/30\n",
      "88/88 [==============================] - 22s 247ms/step - loss: 0.4430 - accuracy: 0.8855\n",
      "Epoch 28/30\n",
      "88/88 [==============================] - 23s 253ms/step - loss: 0.4323 - accuracy: 0.8932\n",
      "Epoch 29/30\n",
      "88/88 [==============================] - 22s 248ms/step - loss: 0.3924 - accuracy: 0.9000\n",
      "Epoch 30/30\n",
      "88/88 [==============================] - 23s 258ms/step - loss: 0.3640 - accuracy: 0.9049\n"
     ]
    }
   ],
   "source": [
    "history = model_gru.fit(dataset, epochs=EPOCHS, callbacks=[checkpoint_callback])"
   ]
  },
  {
   "cell_type": "code",
   "execution_count": 36,
   "metadata": {
    "colab": {
     "base_uri": "https://localhost:8080/",
     "height": 266
    },
    "id": "2A6BUfvtW2JC",
    "outputId": "974957c5-6ab8-4155-8451-d59e623a106f"
   },
   "outputs": [
    {
     "data": {
      "image/png": "[encoded data removed]",
      "text/plain": [
       "<Figure size 640x480 with 1 Axes>"
      ]
     },
     "metadata": {},
     "output_type": "display_data"
    }
   ],
   "source": [
    "plt.plot(history.history['loss'])\n",
    "plt.show()"
   ]
  },
  {
   "cell_type": "code",
   "execution_count": 37,
   "metadata": {
    "id": "WSJDwKnhOO-9"
   },
   "outputs": [],
   "source": [
    "# model_gru = build_model_gru(vocab_size, embedding_dim, rnn_units, batch_size=1)\n",
    "# model_gru.load_weights(tf.train.latest_checkpoint(checkpoint_dir))\n",
    "# model_gru.build(tf.TensorShape([1, None]))"
   ]
  },
  {
   "cell_type": "code",
   "execution_count": 38,
   "metadata": {
    "id": "wRi1cyhmOeIn"
   },
   "outputs": [],
   "source": [
    "# model_gru.summary()"
   ]
  },
  {
   "cell_type": "code",
   "execution_count": 41,
   "metadata": {
    "id": "xNXKON8ZOmRQ"
   },
   "outputs": [],
   "source": [
    "def generate_text(model, start_string):\n",
    "\n",
    "    num_generate = 1000\n",
    "\n",
    "    input_eval = [char2idx[s] for s in start_string]\n",
    "    input_eval = tf.expand_dims(input_eval, 0)\n",
    "\n",
    "    text_generated = []\n",
    "\n",
    "    temperature = 0.5 # один из главных параметров, влияющих на смысл\n",
    "\n",
    "    model.reset_states()\n",
    "    for i in range(num_generate):\n",
    "        predictions = model(input_eval)\n",
    "        predictions = tf.squeeze(predictions, 0)\n",
    "        predictions = predictions / temperature\n",
    "        predicted_id = tf.random.categorical(predictions, num_samples=1)[-1, 0].numpy()\n",
    "\n",
    "        input_eval = tf.expand_dims([predicted_id], 0)\n",
    "\n",
    "        text_generated.append(idx2char[predicted_id])\n",
    "\n",
    "    return (start_string + ''.join(text_generated))"
   ]
  },
  {
   "cell_type": "code",
   "execution_count": 42,
   "metadata": {},
   "outputs": [
    {
     "name": "stdout",
     "output_type": "stream",
     "text": [
      "Мой дядя самых снов.\n",
      "\n",
      "                                           VI\n",
      "\n",
      "                        И скоро в ней избрандараскает кум его крави\n",
      "                        И в молчалива, славы небес,\n",
      "                        И долго пределает не все,\n",
      "                        В молчалив, и стеклянных сладкой,\n",
      "                                                                                                                                                                                                                                                                                                                 XXXII\n",
      "\n",
      "                        Онегин, все выше нет она\n",
      "                                                                        Все только в своих селенеют,\n",
      "                        С коня всевился ль для волены.\n",
      "                        И все были предо меня...\n",
      "                                                                                                                                                       \n"
     ]
    }
   ],
   "source": [
    "# Предсказываем текст по первой строке\n",
    "pred = generate_text(model, start_string=u\"Мой дядя самых\")\n",
    "len(pred)\n",
    "print(pred)"
   ]
  }
 ],
 "metadata": {
  "accelerator": "GPU",
  "colab": {
   "provenance": [],
   "toc_visible": true
  },
  "gpuClass": "standard",
  "kernelspec": {
   "display_name": "Python 3 (ipykernel)",
   "language": "python",
   "name": "python3"
  },
  "language_info": {
   "codemirror_mode": {
    "name": "ipython",
    "version": 3
   },
   "file_extension": ".py",
   "mimetype": "text/x-python",
   "name": "python",
   "nbconvert_exporter": "python",
   "pygments_lexer": "ipython3",
   "version": "3.10.12"
  }
 },
 "nbformat": 4,
 "nbformat_minor": 4
}
