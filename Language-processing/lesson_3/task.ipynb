{
 "cells": [
  {
   "cell_type": "markdown",
   "id": "053e512a",
   "metadata": {},
   "source": [
    "# Урок 3. Embedding word2vec fasttext"
   ]
  },
  {
   "cell_type": "markdown",
   "id": "ce7d46cc",
   "metadata": {},
   "source": [
    "для новостных статей задание такое же\n",
    "1. на основе word2vec/fasttext слоя Embedding реализовать метод поиска ближайших статей\n",
    "(на вход метода должен приходить запрос (какой-то вопрос) и количество вариантов вывода к примеру 5-ть, ваш метод должен возвращать 5-ть ближайших статей к этому запросу)\n",
    "2. Проверить насколько хорошо работают подходы"
   ]
  },
  {
   "cell_type": "code",
   "execution_count": null,
   "id": "0031e561",
   "metadata": {},
   "outputs": [],
   "source": [
    "!pip install natasha stop_words annoy gensim pymorphy3 pandarallel ipywidgets --break-system-packages"
   ]
  },
  {
   "cell_type": "code",
   "execution_count": 2,
   "id": "3b35350c",
   "metadata": {},
   "outputs": [
    {
     "name": "stdout",
     "output_type": "stream",
     "text": [
      "gazeta_train.jsonl\n",
      "gazeta_test.jsonl\n",
      "gazeta_val.jsonl\n"
     ]
    }
   ],
   "source": [
    "!tar -xzvf gazeta_jsonl.tar.gz"
   ]
  },
  {
   "cell_type": "code",
   "execution_count": null,
   "id": "b40689ad",
   "metadata": {},
   "outputs": [],
   "source": [
    "import numpy as np\n",
    "import pandas as pd\n",
    "from pandarallel import pandarallel\n",
    "\n",
    "import string\n",
    "import pickle\n",
    "import annoy\n",
    "import swifter\n",
    "\n",
    "from pymorphy3 import MorphAnalyzer\n",
    "from stop_words import get_stop_words\n",
    "from gensim.models import Word2Vec, FastText\n",
    "\n",
    "pandarallel.initialize(use_memory_fs = False)"
   ]
  },
  {
   "cell_type": "markdown",
   "id": "013acd9f",
   "metadata": {},
   "source": [
    "## Объединяем данные в один датафрейм"
   ]
  },
  {
   "cell_type": "code",
   "execution_count": 4,
   "id": "56312f0d",
   "metadata": {},
   "outputs": [
    {
     "data": {
      "text/html": [
       "<div>\n",
       "<style scoped>\n",
       "    .dataframe tbody tr th:only-of-type {\n",
       "        vertical-align: middle;\n",
       "    }\n",
       "\n",
       "    .dataframe tbody tr th {\n",
       "        vertical-align: top;\n",
       "    }\n",
       "\n",
       "    .dataframe thead th {\n",
       "        text-align: right;\n",
       "    }\n",
       "</style>\n",
       "<table border=\"1\" class=\"dataframe\">\n",
       "  <thead>\n",
       "    <tr style=\"text-align: right;\">\n",
       "      <th></th>\n",
       "      <th>url</th>\n",
       "      <th>text</th>\n",
       "      <th>title</th>\n",
       "      <th>summary</th>\n",
       "      <th>date</th>\n",
       "    </tr>\n",
       "  </thead>\n",
       "  <tbody>\n",
       "    <tr>\n",
       "      <th>0</th>\n",
       "      <td>https://www.gazeta.ru/financial/2011/11/30/385...</td>\n",
       "      <td>«По итогам 2011 года чистый отток может состав...</td>\n",
       "      <td>Прогноз не успевает за оттоком</td>\n",
       "      <td>В 2011 году из России уйдет $80 млрд, считают ...</td>\n",
       "      <td>2011-11-30 18:33:39</td>\n",
       "    </tr>\n",
       "    <tr>\n",
       "      <th>1</th>\n",
       "      <td>https://www.gazeta.ru/business/2013/01/24/4939...</td>\n",
       "      <td>Российское подразделение интернет-корпорации G...</td>\n",
       "      <td>Google закончил поиск</td>\n",
       "      <td>Юлия Соловьева, экс-директор холдинга «Профмед...</td>\n",
       "      <td>2013-01-24 18:20:09</td>\n",
       "    </tr>\n",
       "    <tr>\n",
       "      <th>2</th>\n",
       "      <td>https://www.gazeta.ru/social/2018/02/06/116393...</td>\n",
       "      <td>Басманный районный суд Москвы вечером 6 феврал...</td>\n",
       "      <td>«Фигуранты дела могут давить на свидетелей»</td>\n",
       "      <td>Суд арестовал на два месяца четверых экс-чинов...</td>\n",
       "      <td>2018-02-06 21:21:14</td>\n",
       "    </tr>\n",
       "    <tr>\n",
       "      <th>3</th>\n",
       "      <td>https://www.gazeta.ru/business/2013/06/21/5388...</td>\n",
       "      <td>Как повлияло вступление в ВТО на конкурентносп...</td>\n",
       "      <td>«С последних традиционно «отжимают» больше»</td>\n",
       "      <td>Мнения предпринимателей по поводу вступления в...</td>\n",
       "      <td>2013-06-21 17:43:50</td>\n",
       "    </tr>\n",
       "    <tr>\n",
       "      <th>4</th>\n",
       "      <td>https://www.gazeta.ru/culture/2014/12/27/a_636...</td>\n",
       "      <td>К третьему сезону «Голос» на Первом канале ста...</td>\n",
       "      <td>Третий «Голос» за Градского</td>\n",
       "      <td>На Первом канале завершился третий сезон шоу «...</td>\n",
       "      <td>2014-12-27 01:10:01</td>\n",
       "    </tr>\n",
       "  </tbody>\n",
       "</table>\n",
       "</div>"
      ],
      "text/plain": [
       "                                                 url  \\\n",
       "0  https://www.gazeta.ru/financial/2011/11/30/385...   \n",
       "1  https://www.gazeta.ru/business/2013/01/24/4939...   \n",
       "2  https://www.gazeta.ru/social/2018/02/06/116393...   \n",
       "3  https://www.gazeta.ru/business/2013/06/21/5388...   \n",
       "4  https://www.gazeta.ru/culture/2014/12/27/a_636...   \n",
       "\n",
       "                                                text  \\\n",
       "0  «По итогам 2011 года чистый отток может состав...   \n",
       "1  Российское подразделение интернет-корпорации G...   \n",
       "2  Басманный районный суд Москвы вечером 6 феврал...   \n",
       "3  Как повлияло вступление в ВТО на конкурентносп...   \n",
       "4  К третьему сезону «Голос» на Первом канале ста...   \n",
       "\n",
       "                                         title  \\\n",
       "0               Прогноз не успевает за оттоком   \n",
       "1                        Google закончил поиск   \n",
       "2  «Фигуранты дела могут давить на свидетелей»   \n",
       "3  «С последних традиционно «отжимают» больше»   \n",
       "4                  Третий «Голос» за Градского   \n",
       "\n",
       "                                             summary                date  \n",
       "0  В 2011 году из России уйдет $80 млрд, считают ... 2011-11-30 18:33:39  \n",
       "1  Юлия Соловьева, экс-директор холдинга «Профмед... 2013-01-24 18:20:09  \n",
       "2  Суд арестовал на два месяца четверых экс-чинов... 2018-02-06 21:21:14  \n",
       "3  Мнения предпринимателей по поводу вступления в... 2013-06-21 17:43:50  \n",
       "4  На Первом канале завершился третий сезон шоу «... 2014-12-27 01:10:01  "
      ]
     },
     "execution_count": 4,
     "metadata": {},
     "output_type": "execute_result"
    }
   ],
   "source": [
    "df_train = pd.read_json(path_or_buf='gazeta_train.jsonl', lines=True)\n",
    "df_val = pd.read_json(path_or_buf='gazeta_val.jsonl', lines=True)\n",
    "df_test = pd.read_json(path_or_buf='gazeta_test.jsonl', lines=True)\n",
    "\n",
    "df = pd.concat([df_train, df_val, df_test], ignore_index=True)\n",
    "df.head()"
   ]
  },
  {
   "cell_type": "code",
   "execution_count": 5,
   "id": "2e5e22bf",
   "metadata": {},
   "outputs": [
    {
     "name": "stdout",
     "output_type": "stream",
     "text": [
      "<class 'pandas.core.frame.DataFrame'>\n",
      "RangeIndex: 63435 entries, 0 to 63434\n",
      "Data columns (total 5 columns):\n",
      " #   Column   Non-Null Count  Dtype         \n",
      "---  ------   --------------  -----         \n",
      " 0   url      63435 non-null  object        \n",
      " 1   text     63435 non-null  object        \n",
      " 2   title    63435 non-null  object        \n",
      " 3   summary  63435 non-null  object        \n",
      " 4   date     63435 non-null  datetime64[ns]\n",
      "dtypes: datetime64[ns](1), object(4)\n",
      "memory usage: 2.4+ MB\n"
     ]
    }
   ],
   "source": [
    "df.info()"
   ]
  },
  {
   "cell_type": "code",
   "execution_count": 28,
   "id": "39cc1460",
   "metadata": {},
   "outputs": [
    {
     "name": "stdout",
     "output_type": "stream",
     "text": [
      "Средняя длина text - 4519 \n",
      "Средняя длина summary - 312 \n"
     ]
    }
   ],
   "source": [
    "text_lengths = df['text'].apply(len)\n",
    "summary_lengths = df['summary'].apply(len)\n",
    "\n",
    "print(f'Средняя длина text - {round(np.average(text_lengths))} ')\n",
    "print(f'Средняя длина summary - {round(np.average(summary_lengths))} ')"
   ]
  },
  {
   "cell_type": "markdown",
   "id": "68b76aca",
   "metadata": {},
   "source": [
    "## Предварительная подготовка текста"
   ]
  },
  {
   "cell_type": "code",
   "execution_count": 7,
   "id": "d4da22b5",
   "metadata": {},
   "outputs": [],
   "source": [
    "morpher = MorphAnalyzer()\n",
    "stopwords = set(get_stop_words(\"ru\"))\n",
    "punkt = set(string.punctuation)\n",
    "\n",
    "def preprocess_txt(line, morpher=morpher, sw=stopwords, punkt=punkt):\n",
    "    spls = \"\".join(i for i in line.strip() if i not in punkt).split()\n",
    "    spls = [morpher.parse(i.lower())[0].normal_form for i in spls]\n",
    "    spls = [i for i in spls if i not in sw and i != \"\"]\n",
    "    return spls"
   ]
  },
  {
   "cell_type": "code",
   "execution_count": 8,
   "id": "6900107f",
   "metadata": {},
   "outputs": [
    {
     "data": {
      "text/html": [
       "<div>\n",
       "<style scoped>\n",
       "    .dataframe tbody tr th:only-of-type {\n",
       "        vertical-align: middle;\n",
       "    }\n",
       "\n",
       "    .dataframe tbody tr th {\n",
       "        vertical-align: top;\n",
       "    }\n",
       "\n",
       "    .dataframe thead th {\n",
       "        text-align: right;\n",
       "    }\n",
       "</style>\n",
       "<table border=\"1\" class=\"dataframe\">\n",
       "  <thead>\n",
       "    <tr style=\"text-align: right;\">\n",
       "      <th></th>\n",
       "      <th>url</th>\n",
       "      <th>text</th>\n",
       "      <th>title</th>\n",
       "      <th>summary</th>\n",
       "      <th>date</th>\n",
       "      <th>preprocessed_summary</th>\n",
       "    </tr>\n",
       "  </thead>\n",
       "  <tbody>\n",
       "    <tr>\n",
       "      <th>0</th>\n",
       "      <td>https://www.gazeta.ru/financial/2011/11/30/385...</td>\n",
       "      <td>«По итогам 2011 года чистый отток может состав...</td>\n",
       "      <td>Прогноз не успевает за оттоком</td>\n",
       "      <td>В 2011 году из России уйдет $80 млрд, считают ...</td>\n",
       "      <td>2011-11-30 18:33:39</td>\n",
       "      <td>[2011, россия, уйти, 80, млрд, считать, минэко...</td>\n",
       "    </tr>\n",
       "    <tr>\n",
       "      <th>1</th>\n",
       "      <td>https://www.gazeta.ru/business/2013/01/24/4939...</td>\n",
       "      <td>Российское подразделение интернет-корпорации G...</td>\n",
       "      <td>Google закончил поиск</td>\n",
       "      <td>Юлия Соловьева, экс-директор холдинга «Профмед...</td>\n",
       "      <td>2013-01-24 18:20:09</td>\n",
       "      <td>[юлия, соловьёв, эксдиректор, холдинг, «профме...</td>\n",
       "    </tr>\n",
       "    <tr>\n",
       "      <th>2</th>\n",
       "      <td>https://www.gazeta.ru/social/2018/02/06/116393...</td>\n",
       "      <td>Басманный районный суд Москвы вечером 6 феврал...</td>\n",
       "      <td>«Фигуранты дела могут давить на свидетелей»</td>\n",
       "      <td>Суд арестовал на два месяца четверых экс-чинов...</td>\n",
       "      <td>2018-02-06 21:21:14</td>\n",
       "      <td>[суд, арестовать, месяц, четверо, эксчиновник,...</td>\n",
       "    </tr>\n",
       "    <tr>\n",
       "      <th>3</th>\n",
       "      <td>https://www.gazeta.ru/business/2013/06/21/5388...</td>\n",
       "      <td>Как повлияло вступление в ВТО на конкурентносп...</td>\n",
       "      <td>«С последних традиционно «отжимают» больше»</td>\n",
       "      <td>Мнения предпринимателей по поводу вступления в...</td>\n",
       "      <td>2013-06-21 17:43:50</td>\n",
       "      <td>[мнение, предприниматель, повод, вступление, в...</td>\n",
       "    </tr>\n",
       "    <tr>\n",
       "      <th>4</th>\n",
       "      <td>https://www.gazeta.ru/culture/2014/12/27/a_636...</td>\n",
       "      <td>К третьему сезону «Голос» на Первом канале ста...</td>\n",
       "      <td>Третий «Голос» за Градского</td>\n",
       "      <td>На Первом канале завершился третий сезон шоу «...</td>\n",
       "      <td>2014-12-27 01:10:01</td>\n",
       "      <td>[канал, завершиться, сезон, шоу, «голос», побе...</td>\n",
       "    </tr>\n",
       "  </tbody>\n",
       "</table>\n",
       "</div>"
      ],
      "text/plain": [
       "                                                 url  \\\n",
       "0  https://www.gazeta.ru/financial/2011/11/30/385...   \n",
       "1  https://www.gazeta.ru/business/2013/01/24/4939...   \n",
       "2  https://www.gazeta.ru/social/2018/02/06/116393...   \n",
       "3  https://www.gazeta.ru/business/2013/06/21/5388...   \n",
       "4  https://www.gazeta.ru/culture/2014/12/27/a_636...   \n",
       "\n",
       "                                                text  \\\n",
       "0  «По итогам 2011 года чистый отток может состав...   \n",
       "1  Российское подразделение интернет-корпорации G...   \n",
       "2  Басманный районный суд Москвы вечером 6 феврал...   \n",
       "3  Как повлияло вступление в ВТО на конкурентносп...   \n",
       "4  К третьему сезону «Голос» на Первом канале ста...   \n",
       "\n",
       "                                         title  \\\n",
       "0               Прогноз не успевает за оттоком   \n",
       "1                        Google закончил поиск   \n",
       "2  «Фигуранты дела могут давить на свидетелей»   \n",
       "3  «С последних традиционно «отжимают» больше»   \n",
       "4                  Третий «Голос» за Градского   \n",
       "\n",
       "                                             summary                date  \\\n",
       "0  В 2011 году из России уйдет $80 млрд, считают ... 2011-11-30 18:33:39   \n",
       "1  Юлия Соловьева, экс-директор холдинга «Профмед... 2013-01-24 18:20:09   \n",
       "2  Суд арестовал на два месяца четверых экс-чинов... 2018-02-06 21:21:14   \n",
       "3  Мнения предпринимателей по поводу вступления в... 2013-06-21 17:43:50   \n",
       "4  На Первом канале завершился третий сезон шоу «... 2014-12-27 01:10:01   \n",
       "\n",
       "                                preprocessed_summary  \n",
       "0  [2011, россия, уйти, 80, млрд, считать, минэко...  \n",
       "1  [юлия, соловьёв, эксдиректор, холдинг, «профме...  \n",
       "2  [суд, арестовать, месяц, четверо, эксчиновник,...  \n",
       "3  [мнение, предприниматель, повод, вступление, в...  \n",
       "4  [канал, завершиться, сезон, шоу, «голос», побе...  "
      ]
     },
     "execution_count": 8,
     "metadata": {},
     "output_type": "execute_result"
    }
   ],
   "source": [
    "df['preprocessed_summary'] = df['summary'].parallel_apply(preprocess_txt)\n",
    "df.head()"
   ]
  },
  {
   "cell_type": "code",
   "execution_count": 10,
   "id": "012ad1e5",
   "metadata": {},
   "outputs": [],
   "source": [
    "window_size = 5\n",
    "vector_size = 500\n",
    "\n",
    "modelW2V = Word2Vec(sentences=df['preprocessed_summary'], \n",
    "                    vector_size=vector_size, \n",
    "                    window=window_size, \n",
    "                    min_count=1)\n",
    "\n",
    "modelFT = FastText(sentences=df['preprocessed_summary'], \n",
    "                   vector_size=vector_size, \n",
    "                   window=window_size, \n",
    "                   min_count=1)"
   ]
  },
  {
   "cell_type": "markdown",
   "id": "c3bb60b6",
   "metadata": {},
   "source": [
    "## Функция для получения ближайших статей"
   ]
  },
  {
   "cell_type": "code",
   "execution_count": 16,
   "id": "2cf28fdf",
   "metadata": {},
   "outputs": [],
   "source": [
    "def get_response(question, index, model, index_map, vector_size, nn=5, limit=10):\n",
    "    question = preprocess_txt(question)\n",
    "    vector = np.zeros(vector_size)\n",
    "    norm = 0\n",
    "    for word in question:\n",
    "        if word in model.wv:\n",
    "            vector += model.wv[word]\n",
    "            norm += 1\n",
    "    if norm > 0:\n",
    "        vector = vector / norm\n",
    "    answers = index.get_nns_by_vector(vector, nn, )\n",
    "    return [index_map[i] for i in answers][:limit]"
   ]
  },
  {
   "cell_type": "code",
   "execution_count": 11,
   "id": "8894fa30",
   "metadata": {},
   "outputs": [
    {
     "data": {
      "text/plain": [
       "True"
      ]
     },
     "execution_count": 11,
     "metadata": {},
     "output_type": "execute_result"
    }
   ],
   "source": [
    "w2v_index = annoy.AnnoyIndex(vector_size, 'angular')\n",
    "ft_index = annoy.AnnoyIndex(vector_size, 'angular')\n",
    "\n",
    "index_map = {}\n",
    "counter = 0\n",
    "\n",
    "for i in range(len(df['preprocessed_summary'])):\n",
    "    n_w2v = 0\n",
    "    n_ft = 0\n",
    "    index_map[i] = df['text'][i]\n",
    "    \n",
    "    vector_w2v = np.zeros(vector_size)\n",
    "    vector_ft = np.zeros(vector_size)\n",
    "    for word in df['preprocessed_summary'][i]:\n",
    "        if word in modelW2V.wv:\n",
    "            vector_w2v += modelW2V.wv[word]\n",
    "            n_w2v += 1\n",
    "        if word in modelFT.wv:\n",
    "            vector_ft += modelFT.wv[word]\n",
    "            n_ft += 1\n",
    "    if n_w2v > 0:\n",
    "        vector_w2v = vector_w2v / n_w2v\n",
    "    if n_ft > 0:\n",
    "        vector_ft = vector_ft / n_ft\n",
    "    w2v_index.add_item(i, vector_w2v)\n",
    "    ft_index.add_item(i, vector_ft)\n",
    "\n",
    "\n",
    "w2v_index.build(10)\n",
    "ft_index.build(10)"
   ]
  },
  {
   "cell_type": "markdown",
   "id": "a4db6ebf-a73c-4766-96f4-e74073556672",
   "metadata": {},
   "source": [
    "## Поиск ближайших по смыслу статей"
   ]
  },
  {
   "cell_type": "code",
   "execution_count": 20,
   "id": "ac91bdcf",
   "metadata": {},
   "outputs": [
    {
     "data": {
      "text/plain": [
       "'Министерство экономического развития внесло в Минфин проект уточненного социально-экономического про...'"
      ]
     },
     "execution_count": 20,
     "metadata": {},
     "output_type": "execute_result"
    }
   ],
   "source": [
    "TEXT = \"Экономика\"\n",
    "get_response(TEXT, w2v_index, modelW2V, index_map, vector_size, limit=1)[0][:100] + '...'"
   ]
  },
  {
   "cell_type": "code",
   "execution_count": 21,
   "id": "8236dc5a",
   "metadata": {},
   "outputs": [
    {
     "data": {
      "text/plain": [
       "'«Сегодня фондовые индексы во многих странах вышли на докризисные уровни, но они не обеспечены такими...'"
      ]
     },
     "execution_count": 21,
     "metadata": {},
     "output_type": "execute_result"
    }
   ],
   "source": [
    "get_response(TEXT, ft_index, modelFT, index_map, vector_size, limit=1)[0][:100] + '...'"
   ]
  },
  {
   "cell_type": "code",
   "execution_count": 25,
   "id": "bd151151-426b-4c58-b39a-c7432955ecc3",
   "metadata": {},
   "outputs": [
    {
     "data": {
      "text/plain": [
       "'Во вторник в Министерстве спорта, туризма и молодежной политики были подведены итоги выступления сбо...'"
      ]
     },
     "execution_count": 25,
     "metadata": {},
     "output_type": "execute_result"
    }
   ],
   "source": [
    "TEXT = \"Спорт\"\n",
    "get_response(TEXT, w2v_index, modelW2V, index_map, vector_size, limit=1)[0][:100] + '...'"
   ]
  },
  {
   "cell_type": "code",
   "execution_count": 26,
   "id": "e4039ab0",
   "metadata": {},
   "outputs": [
    {
     "data": {
      "text/plain": [
       "'Несколько участников чемпионата мира по водным видам спорта в южнокорейском Кванджу получили поврежд...'"
      ]
     },
     "execution_count": 26,
     "metadata": {},
     "output_type": "execute_result"
    }
   ],
   "source": [
    "get_response(TEXT, ft_index, modelFT, index_map, vector_size, limit=1)[0][:100] + '...'"
   ]
  }
 ],
 "metadata": {
  "kernelspec": {
   "display_name": "Python 3 (ipykernel)",
   "language": "python",
   "name": "python3"
  },
  "language_info": {
   "codemirror_mode": {
    "name": "ipython",
    "version": 3
   },
   "file_extension": ".py",
   "mimetype": "text/x-python",
   "name": "python",
   "nbconvert_exporter": "python",
   "pygments_lexer": "ipython3",
   "version": "3.11.2"
  }
 },
 "nbformat": 4,
 "nbformat_minor": 5
}
