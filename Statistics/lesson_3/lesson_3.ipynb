{
 "cells": [
  {
   "cell_type": "markdown",
   "id": "d6937a30-2ef0-425d-9fc1-99dfda84df08",
   "metadata": {},
   "source": [
    "# Урок 3. Описательная статистика.\n",
    "Качественные и количественные характеристики популяции. Графическое представление данных"
   ]
  },
  {
   "cell_type": "markdown",
   "id": "983ca79a-5034-4f47-9bb2-a8efcd3dbbb2",
   "metadata": {},
   "source": [
    "# Задание 1\n",
    "\n",
    "Даны значения зарплат из выборки выпускников: 100, 80, 75, 77, 89, 33, 45, 25, 65, 17, 30, 24, 57, 55, 70, 75, 65, 84, 90, 150. Посчитать (желательно без использования статистических методов наподобие std, var, mean) среднее арифметическое, среднее квадратичное отклонение, смещенную и несмещенную оценки дисперсий для данной выборки.\n",
    "\n",
    "Примечание: В программе"
   ]
  },
  {
   "cell_type": "code",
   "execution_count": 1,
   "id": "01ddf28a-95dd-4ecc-bc50-289457f61d46",
   "metadata": {},
   "outputs": [],
   "source": [
    "x = [100, 80, 75, 77, 89, 33, 45, 25, 65, 17, \n",
    "     30, 24, 57, 55, 70, 75, 65, 84, 90, 150]"
   ]
  },
  {
   "cell_type": "markdown",
   "id": "1a4fa1a7-a60e-4ff3-8c6d-d2c354e2eaa3",
   "metadata": {},
   "source": [
    "среднее арифметическое"
   ]
  },
  {
   "cell_type": "code",
   "execution_count": 6,
   "id": "f397d987-2ec0-475f-9ba1-03dc781c7072",
   "metadata": {},
   "outputs": [
    {
     "data": {
      "text/plain": [
       "65.3"
      ]
     },
     "execution_count": 6,
     "metadata": {},
     "output_type": "execute_result"
    }
   ],
   "source": [
    "mid = sum(x) / len(x)\n",
    "mid"
   ]
  },
  {
   "cell_type": "markdown",
   "id": "63b04a73-49a4-4108-a7b5-8f7a989d05d2",
   "metadata": {},
   "source": [
    "среднее квадратичное отклонение"
   ]
  },
  {
   "cell_type": "code",
   "execution_count": 15,
   "id": "e50625fc-b57e-48de-968d-50420b719e7c",
   "metadata": {},
   "outputs": [
    {
     "data": {
      "text/plain": [
       "30.823854398825596"
      ]
     },
     "execution_count": 15,
     "metadata": {},
     "output_type": "execute_result"
    }
   ],
   "source": [
    "sigma = (sum([(i-mid)**2 for i in x]) / len(x)) ** 0.5\n",
    "sigma"
   ]
  },
  {
   "cell_type": "markdown",
   "id": "221ff546-a194-4760-8cf3-3286a7ae3643",
   "metadata": {},
   "source": [
    "смещенную оценки дисперсий"
   ]
  },
  {
   "cell_type": "code",
   "execution_count": 16,
   "id": "62255411-fd34-47d5-a75f-bfdbe5baedd1",
   "metadata": {},
   "outputs": [
    {
     "data": {
      "text/plain": [
       "950.11"
      ]
     },
     "execution_count": 16,
     "metadata": {},
     "output_type": "execute_result"
    }
   ],
   "source": [
    "disp = sigma ** 2\n",
    "disp"
   ]
  },
  {
   "cell_type": "markdown",
   "id": "65644e84-eda9-4ebc-8112-56039dd1c605",
   "metadata": {},
   "source": [
    "несмещенную оценки дисперсий для данной выборки"
   ]
  },
  {
   "cell_type": "code",
   "execution_count": 18,
   "id": "5fa90e3e-e801-4181-aa0d-695ee69d0a3c",
   "metadata": {},
   "outputs": [
    {
     "data": {
      "text/plain": [
       "1000.1157894736842"
      ]
     },
     "execution_count": 18,
     "metadata": {},
     "output_type": "execute_result"
    }
   ],
   "source": [
    "disp_shift = (sigma ** 2) * len(x) / (len(x)-1)\n",
    "disp_shift"
   ]
  }
 ],
 "metadata": {
  "kernelspec": {
   "display_name": "Python 3 (ipykernel)",
   "language": "python",
   "name": "python3"
  },
  "language_info": {
   "codemirror_mode": {
    "name": "ipython",
    "version": 3
   },
   "file_extension": ".py",
   "mimetype": "text/x-python",
   "name": "python",
   "nbconvert_exporter": "python",
   "pygments_lexer": "ipython3",
   "version": "3.10.5"
  }
 },
 "nbformat": 4,
 "nbformat_minor": 5
}
