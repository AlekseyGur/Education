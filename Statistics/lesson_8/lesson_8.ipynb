{
 "cells": [
  {
   "cell_type": "markdown",
   "id": "62246ced-8129-4ace-a7dd-63a38993d5df",
   "metadata": {},
   "source": [
    "# Задание 1\n",
    "\n",
    "Провести дисперсионный анализ для определения того, есть ли различия среднего роста среди взрослых \n",
    "футболистов, хоккеистов и штангистов. Даны значения роста в трех группах случайно выбранных \n",
    "спортсменов: \n",
    "    \n",
    "Футболисты: 173, 175, 180, 178, 177, 185, 183, 182. <br>\n",
    "Хоккеисты: 177, 179, 180, 188, 177, 172, 171, 184, 180. <br>\n",
    "Штангисты: 172, 173, 169, 177, 166, 180, 178, 177, 172, 166, 170. <br>\n",
    "\n",
    "L = 0.05"
   ]
  },
  {
   "cell_type": "code",
   "execution_count": 1,
   "id": "7f7c25a0-5b4f-4ee0-ac81-f5c452270503",
   "metadata": {},
   "outputs": [],
   "source": [
    "football = [173, 175, 180, 178, 177, 185, 183, 182]\n",
    "hockey = [177, 179, 180, 188, 177, 172, 171, 184, 180]\n",
    "power_lifting = [172, 173, 169, 177, 166, 180, 178, 177, 172, 166, 170]"
   ]
  },
  {
   "cell_type": "code",
   "execution_count": 2,
   "id": "46d18a97-265d-4d45-ad83-72b466d6f992",
   "metadata": {},
   "outputs": [
    {
     "data": {
      "text/plain": [
       "(179.125, 178.66666666666666, 172.72727272727272)"
      ]
     },
     "execution_count": 2,
     "metadata": {},
     "output_type": "execute_result"
    }
   ],
   "source": [
    "Ставим гипотезу:\n",
    "H0 - вид спорта не влияет на рост\n",
    "H0 - вид спорта влияет на рост\n",
    "\n",
    "import numpy as np\n",
    "\n",
    "football = np.array(football)\n",
    "hockey = np.array(hockey)\n",
    "power_lifting = np.array(power_lifting)\n",
    "\n",
    "# размеры групп\n",
    "n_football = football.shape[0]\n",
    "n_hockey = hockey.shape[0]\n",
    "n_power_lifting = power_lifting.shape[0]\n",
    "\n",
    "# находим среднее для каждой группы\n",
    "mean_football = football.mean()\n",
    "mean_hockey = hockey.mean()\n",
    "mean_power_lifting = power_lifting.mean()\n",
    "\n",
    "mean_football, mean_hockey, mean_power_lifting"
   ]
  },
  {
   "cell_type": "code",
   "execution_count": 3,
   "id": "7cbdce23-3fe9-4e0c-b807-22740d6f61ed",
   "metadata": {},
   "outputs": [
    {
     "data": {
      "text/plain": [
       "176.46428571428572"
      ]
     },
     "execution_count": 3,
     "metadata": {},
     "output_type": "execute_result"
    }
   ],
   "source": [
    "# собираем все значения в одну выборку\n",
    "y = np.concatenate([football, hockey, power_lifting])\n",
    "y_mean = y.mean()\n",
    "y_mean"
   ]
  },
  {
   "cell_type": "code",
   "execution_count": 4,
   "id": "bbc198dc-5f89-41a9-b54a-b7b5a396d169",
   "metadata": {},
   "outputs": [
    {
     "data": {
      "text/plain": [
       "(253.9074675324678, 577.0568181818182)"
      ]
     },
     "execution_count": 4,
     "metadata": {},
     "output_type": "execute_result"
    }
   ],
   "source": [
    "# находим значение Sb и Sw\n",
    "S2_b = n_football*(mean_football - y_mean)**2 \\\n",
    "     + n_hockey*(mean_hockey - y_mean)**2 \\\n",
    "     + n_power_lifting*(mean_power_lifting - y_mean)**2\n",
    "\n",
    "S2_w = ((football - mean_football)**2).sum() \\\n",
    "     + ((hockey - mean_hockey)**2).sum() \\\n",
    "     + ((power_lifting - mean_power_lifting)**2).sum()\n",
    "\n",
    "S2_b, S2_w"
   ]
  },
  {
   "cell_type": "code",
   "execution_count": 5,
   "id": "31571717-36bc-45e5-a40c-c5aa0b8c7a60",
   "metadata": {},
   "outputs": [
    {
     "data": {
      "text/plain": [
       "True"
      ]
     },
     "execution_count": 5,
     "metadata": {},
     "output_type": "execute_result"
    }
   ],
   "source": [
    "# Проверим выполнение равенства S**2 = Sb**2 + Sw**2\n",
    "\n",
    "round( S2_b + S2_w , 5) == round( ((y - y_mean)**2).sum() , 5)"
   ]
  },
  {
   "cell_type": "code",
   "execution_count": 7,
   "id": "d040933c-c7ad-42c8-9f2a-11ecb134e4f8",
   "metadata": {},
   "outputs": [
    {
     "data": {
      "text/plain": [
       "(126.9537337662339, 23.08227272727273)"
      ]
     },
     "execution_count": 7,
     "metadata": {},
     "output_type": "execute_result"
    }
   ],
   "source": [
    "# запишем оценки дисперсий\n",
    "k = 3\n",
    "n = n_football + n_hockey + n_power_lifting\n",
    "\n",
    "k1 = k - 1\n",
    "k2 = n - k\n",
    "\n",
    "sigma2_b = S2_b / k1\n",
    "sigma2_w = S2_w / k2\n",
    "\n",
    "\n",
    "sigma2_b, sigma2_w"
   ]
  },
  {
   "cell_type": "code",
   "execution_count": 8,
   "id": "4a3d95f1-eda9-4915-8c6a-3071ce2505a7",
   "metadata": {},
   "outputs": [
    {
     "data": {
      "text/plain": [
       "5.500053450812598"
      ]
     },
     "execution_count": 8,
     "metadata": {},
     "output_type": "execute_result"
    }
   ],
   "source": [
    "# Значение статистики \"Т\"\n",
    "T = sigma2_b / sigma2_w\n",
    "T"
   ]
  },
  {
   "cell_type": "code",
   "execution_count": 9,
   "id": "62b84ecb-2c67-492e-bec2-d7b3fe5ec05f",
   "metadata": {},
   "outputs": [
    {
     "data": {
      "text/plain": [
       "3.3851899614491687"
      ]
     },
     "execution_count": 9,
     "metadata": {},
     "output_type": "execute_result"
    }
   ],
   "source": [
    "from scipy import stats\n",
    "alpha = 0.05  # из условия задачи\n",
    "\n",
    "F_crit = stats.f.ppf(1-alpha, k1, k2)\n",
    "F_crit"
   ]
  },
  {
   "cell_type": "code",
   "execution_count": 11,
   "id": "0f67962c-da25-4cdf-96c4-1fed596290f8",
   "metadata": {},
   "outputs": [
    {
     "data": {
      "text/plain": [
       "True"
      ]
     },
     "execution_count": 11,
     "metadata": {},
     "output_type": "execute_result"
    }
   ],
   "source": [
    "T > F_crit"
   ]
  },
  {
   "cell_type": "markdown",
   "id": "9eb0866e-91be-494c-9729-59d5156b3c8c",
   "metadata": {},
   "source": [
    "T > F_crit, поэтому нуливая гипотеза H0 неверна, отвергаем её. Вид спорта ВЛИЯЕТ на рост. Отличие средних значений каждой выборки действительно статистически значимое."
   ]
  },
  {
   "cell_type": "markdown",
   "id": "11371288-b9e9-4539-a2eb-24268c59b702",
   "metadata": {},
   "source": [
    "Так как T > F_crit, то отличие средних значений каждой выборки действительно статистически значимое. То есть вид спорта действительно влияет на рост спортсмена."
   ]
  },
  {
   "cell_type": "code",
   "execution_count": 10,
   "id": "54f585ac-f94f-41ab-ba70-c646b30cf37a",
   "metadata": {},
   "outputs": [
    {
     "data": {
      "text/plain": [
       "0.010482206918698611"
      ]
     },
     "execution_count": 10,
     "metadata": {},
     "output_type": "execute_result"
    }
   ],
   "source": [
    "p = 1 - stats.f.cdf(T, k1, k2)\n",
    "p"
   ]
  },
  {
   "cell_type": "markdown",
   "id": "3187e040-d378-480e-baa6-390460af1798",
   "metadata": {},
   "source": [
    "Делаем ещё одну проверку. Видим, что полученное \"p-value\" меньше, чем alpha. Это значит, что гипотиза H0 отвергается. То есть вид спорта влияет на рост."
   ]
  },
  {
   "cell_type": "markdown",
   "id": "18d35f4c-5e2f-47b0-af75-95a05f15415c",
   "metadata": {},
   "source": [
    "Попробуем найти \"T\" и \"p\" через готовую функцию f_oneway."
   ]
  },
  {
   "cell_type": "code",
   "execution_count": 12,
   "id": "3247259d-7180-4963-bcb1-10fbcab96b91",
   "metadata": {},
   "outputs": [
    {
     "data": {
      "text/plain": [
       "F_onewayResult(statistic=5.500053450812596, pvalue=0.010482206918698694)"
      ]
     },
     "execution_count": 12,
     "metadata": {},
     "output_type": "execute_result"
    }
   ],
   "source": [
    "from scipy.stats import f_oneway # f_oneway - делает однофакторный дисперсионный анализ\n",
    "f_oneway(football, hockey, power_lifting)"
   ]
  }
 ],
 "metadata": {
  "kernelspec": {
   "display_name": "Python 3 (ipykernel)",
   "language": "python",
   "name": "python3"
  },
  "language_info": {
   "codemirror_mode": {
    "name": "ipython",
    "version": 3
   },
   "file_extension": ".py",
   "mimetype": "text/x-python",
   "name": "python",
   "nbconvert_exporter": "python",
   "pygments_lexer": "ipython3",
   "version": "3.10.5"
  }
 },
 "nbformat": 4,
 "nbformat_minor": 5
}
