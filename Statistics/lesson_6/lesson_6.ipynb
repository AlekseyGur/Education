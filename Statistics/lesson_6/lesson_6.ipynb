{
 "cells": [
  {
   "cell_type": "markdown",
   "id": "ef3e7c5f-e562-47c2-9a84-5144836ed0cc",
   "metadata": {},
   "source": [
    "# Урок 6. Взаимосвязь величин. Параметрические и непараметрические показатели корреляции. Корреляционный анализ\n",
    "\n",
    "## Задание 1\n",
    "Даны значения величины заработной платы заемщиков банка (zp) и значения их поведенческого кредитного скоринга (ks):<br>\n",
    "zp = [35, 45, 190, 200, 40, 70, 54, 150, 120, 110],<br>\n",
    "ks = [401, 574, 874, 919, 459, 739, 653, 902, 746, 832].<br>\n",
    "<br>\n",
    "а) Найдите ковариацию этих двух величин с помощью элементарных действий, а затем с помощью функции cov из numpy. Полученные значения должны быть равны.<br>\n",
    "<br>\n",
    "б) Найдите коэффициент корреляции Пирсона с помощью ковариации и среднеквадратичных отклонений двух признаков, а затем с использованием функций из библиотек numpy и pandas.<br>"
   ]
  },
  {
   "cell_type": "code",
   "execution_count": 44,
   "id": "542e6492-85a1-45cd-a783-48cc2721c2bc",
   "metadata": {},
   "outputs": [
    {
     "name": "stdout",
     "output_type": "stream",
     "text": [
      "Cov вручную = 9157.84\n",
      "Cov numpy = 9157.84\n",
      "коэфф. Пирсона вручную = 0.8874900920739162\n",
      "коэфф. Пирсона numpy = 0.8874900920739162\n",
      "коэфф. Пирсона pandas = 0.8874900920739168\n"
     ]
    }
   ],
   "source": [
    "import numpy as np\n",
    "import pandas as pd\n",
    "\n",
    "zp = [35,  45,  190, 200, 40,  70,  54,  150, 120, 110]\n",
    "ks = [401, 574, 874, 919, 459, 739, 653, 902, 746, 832]\n",
    "# используем смещённые оценки, потому что у нас ген.совокупность, а не выборка\n",
    "\n",
    "zp_mid = sum(zp) / len(zp)\n",
    "ks_mid = sum(ks) / len(ks)\n",
    "\n",
    "zp_sigma = (sum([(i-zp_mid)**2 for i in zp]) / len(zp)) ** 0.5\n",
    "ks_sigma = (sum([(i-ks_mid)**2 for i in ks]) / len(ks)) ** 0.5\n",
    "\n",
    "zp_shift = [i-zp_mid for i in zp]\n",
    "ks_shift = [i-ks_mid for i in ks]\n",
    "\n",
    "cov = sum([i[0]*i[1] for i in list(zip(zp_shift, ks_shift))])/(len(zp))\n",
    "cov_numpy = np.cov(zp, ks, ddof=0)[0][1]\n",
    "\n",
    "r_manual = cov/(zp_sigma*ks_sigma)\n",
    "r_numpy = np.corrcoef(zp, ks)[0, 1]\n",
    "r_pandas = pd.DataFrame({'zp': zp, 'ks': ks}).corr(method=\"pearson\")['zp']['ks']\n",
    "\n",
    "print(f'Cov вручную = {cov}')\n",
    "print(f'Cov numpy = {cov_numpy}')\n",
    "\n",
    "print(f'коэфф. Пирсона вручную = {r_manual}')\n",
    "print(f'коэфф. Пирсона numpy = {r_numpy}')\n",
    "print(f'коэфф. Пирсона pandas = {r_pandas}')"
   ]
  },
  {
   "cell_type": "markdown",
   "id": "e01cf3e3-4b7d-4054-a92c-f8b1b8412d57",
   "metadata": {},
   "source": [
    "## Задание 2\n",
    "Измерены значения IQ выборки студентов, обучающихся в местных технических вузах: 131, 125, 115, 122, 131, 115, 107, 99, 125, 111. Известно, что в генеральной совокупности IQ распределен нормально. Найдите доверительный интервал для математического ожидания с надежностью 0.95."
   ]
  },
  {
   "cell_type": "code",
   "execution_count": 54,
   "id": "e62dc3bb-b759-4160-9be7-ab8cc0aa1270",
   "metadata": {},
   "outputs": [
    {
     "data": {
      "text/plain": [
       "[106.20541330772691, 129.9945866922731]"
      ]
     },
     "execution_count": 54,
     "metadata": {},
     "output_type": "execute_result"
    }
   ],
   "source": [
    "iq = [131, 125, 115, 122, 131, 115, 107, 99, 125, 111]\n",
    "a = 0.95\n",
    "\n",
    "m = sum(iq) / len(iq)\n",
    "\n",
    "# сигма ген.совокупности неизвестна, поэтому используем коэффициент Стьюдента для 0.95 и n = 9\n",
    "student = 1.833\n",
    "\n",
    "# стандартная ошибка среднего (для выборки, поэтому в знаменателе N-1)\n",
    "iq_mid = sum(zp) / len(zp)\n",
    "s = (sum([(i-iq_mid)**2 for i in iq]) / (len(iq) - 1)) ** 0.5\n",
    "sqrt_n = len(iq) ** 0.5\n",
    "\n",
    "# интервал получится:\n",
    "[m - student*s/sqrt_n, m + student*s/sqrt_n]"
   ]
  },
  {
   "cell_type": "markdown",
   "id": "92a18fdc-daf0-4937-b839-c4ecdb28afef",
   "metadata": {},
   "source": [
    "## Задание 3\n",
    "Известно, что рост футболистов в сборной распределен нормально с дисперсией генеральной совокупности, равной 25 кв.см. Объем выборки равен 27, среднее выборочное составляет 174.2. Найдите доверительный интервал для математического ожидания с надежностью 0.95."
   ]
  },
  {
   "cell_type": "code",
   "execution_count": 55,
   "id": "0fdf14ed-6eff-4b4c-9d23-f770083fc5cf",
   "metadata": {},
   "outputs": [
    {
     "data": {
      "text/plain": [
       "[172.31398912064722, 176.08601087935276]"
      ]
     },
     "execution_count": 55,
     "metadata": {},
     "output_type": "execute_result"
    }
   ],
   "source": [
    "D = 25\n",
    "n = 27\n",
    "m = 174.2\n",
    "a = 0.95\n",
    "\n",
    "sigma = D ** 0.5\n",
    "sqrt_n = n ** 0.5\n",
    "\n",
    "# сигма ген.совокупности известна, поэтому используем критерий Лапласа для 0,05/2 = 0,025\n",
    "laplas = 1.96\n",
    "\n",
    "# интервал получится:\n",
    "[m - laplas*sigma/sqrt_n, m + laplas*sigma/sqrt_n]"
   ]
  }
 ],
 "metadata": {
  "kernelspec": {
   "display_name": "Python 3 (ipykernel)",
   "language": "python",
   "name": "python3"
  },
  "language_info": {
   "codemirror_mode": {
    "name": "ipython",
    "version": 3
   },
   "file_extension": ".py",
   "mimetype": "text/x-python",
   "name": "python",
   "nbconvert_exporter": "python",
   "pygments_lexer": "ipython3",
   "version": "3.10.5"
  }
 },
 "nbformat": 4,
 "nbformat_minor": 5
}
