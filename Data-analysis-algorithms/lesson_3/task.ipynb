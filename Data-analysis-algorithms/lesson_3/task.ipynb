{
 "cells": [
  {
   "cell_type": "markdown",
   "metadata": {
    "id": "-h6E40fAWNJT"
   },
   "source": [
    "# Урок 3. Классификация. Логистическая регрессия"
   ]
  },
  {
   "cell_type": "code",
   "execution_count": 1,
   "metadata": {
    "id": "zhwkeWtb1O0w"
   },
   "outputs": [],
   "source": [
    "import numpy as np\n",
    "import matplotlib.pyplot as plt"
   ]
  },
  {
   "cell_type": "code",
   "execution_count": 2,
   "metadata": {
    "id": "FeKFn2yb1To4"
   },
   "outputs": [],
   "source": [
    "X = np.array([[1, 1, 1, 1, 1, 1, 1, 1, 1, 1],\n",
    "              [1, 1, 2, 5, 3, 0, 5, 10, 1, 2],\n",
    "              [500, 700, 750, 600, 1450, 800, 1500, 2000, 450, 1000],\n",
    "              [1, 1, 2, 1, 2,  1, 3, 3, 1, 2]], dtype = np.float64)\n",
    "y = np.array([0, 0, 1, 0, 1, 0, 1, 0, 1, 1], dtype = np.float64)"
   ]
  },
  {
   "cell_type": "code",
   "execution_count": 3,
   "metadata": {
    "id": "M-aO1NTxOUfo"
   },
   "outputs": [],
   "source": [
    "def calc_std_feat(x):\n",
    "    res = (x - x.mean()) / x.std()\n",
    "    return res"
   ]
  },
  {
   "cell_type": "code",
   "execution_count": 4,
   "metadata": {
    "id": "D8EL0iGJOVpe"
   },
   "outputs": [],
   "source": [
    "X_st = X.copy()\n",
    "X_st[2, :] = calc_std_feat(X[2, :])"
   ]
  },
  {
   "cell_type": "code",
   "execution_count": 5,
   "metadata": {
    "id": "EEF9rWPNDnss"
   },
   "outputs": [],
   "source": [
    "def sigmoid(z):\n",
    "    res = 1 / (1 + np.exp(-z))\n",
    "    return res"
   ]
  },
  {
   "cell_type": "markdown",
   "metadata": {
    "id": "OrKTLjzpWNKF"
   },
   "source": [
    "## Практическое задание\n",
    "\n",
    "### Задание 1\n",
    "\n",
    "Измените функцию calc_logloss так, чтобы нули по возможности не попадали в np.log.\n",
    "\n",
    "### Ответ 1"
   ]
  },
  {
   "cell_type": "code",
   "execution_count": 11,
   "metadata": {
    "id": "jp0AQlnkRBWC",
    "tags": []
   },
   "outputs": [
    {
     "data": {
      "text/plain": [
       "0.052680257878913145"
      ]
     },
     "execution_count": 11,
     "metadata": {},
     "output_type": "execute_result"
    }
   ],
   "source": [
    "def calc_logloss(y, y_pred):\n",
    "    y_pred = np.clip(y_pred, a_min=1e-10, a_max=1-1e-10)\n",
    "    err = np.mean(-y * np.log(y_pred) - (1.0-y) * np.log(1.0-y_pred))\n",
    "    err = np.sum(err)\n",
    "    return err\n",
    "\n",
    "# Пример применения\n",
    "y1 = np.array([1, 0])\n",
    "y_pred1 = np.array([0.9, 0])\n",
    "calc_logloss(y1, y_pred1)"
   ]
  },
  {
   "cell_type": "markdown",
   "metadata": {
    "id": "OrKTLjzpWNKF"
   },
   "source": [
    "### Задание 2\n",
    "\n",
    "Подберите аргументы функции eval_model для логистической регрессии таким образом, чтобы log loss был минимальным.\n",
    "\n",
    "### Ответ 2"
   ]
  },
  {
   "cell_type": "code",
   "execution_count": 16,
   "metadata": {},
   "outputs": [
    {
     "name": "stdout",
     "output_type": "stream",
     "text": [
      "err = 0.00618465627491236\n",
      "alpha = 11.9\n",
      "iterations = 90001\n",
      "W = [-228.51937215  -16.07109826  -67.74535072  174.76775113]\n"
     ]
    }
   ],
   "source": [
    "def eval_model(X, y, iterations, alpha=1e-4):\n",
    "    np.random.seed(42)\n",
    "    W = np.random.randn(X.shape[0])\n",
    "    n = X.shape[1]\n",
    "    for i in range(1, iterations+1):\n",
    "        z = np.dot(W, X)\n",
    "        y_pred = sigmoid(z)\n",
    "        err = calc_logloss(y, y_pred)\n",
    "        W -= alpha * (1/n * np.dot((y_pred - y), X.T))\n",
    "        if i % (iterations / 10) == 0:\n",
    "            print(i, W, err)\n",
    "            \n",
    "    return W, err\n",
    "\n",
    "# параметры, при которых минимум потерь\n",
    "min_iterations = None \n",
    "min_alpha = None\n",
    "min_err = None\n",
    "min_W = None\n",
    "\n",
    "for i in range(80000, 120000, 1000):\n",
    "    alpha = i/10000 \n",
    "    for iterations in range(1, 100000, 10000):\n",
    "        W, err = eval_model(X_st, y, iterations=iterations, alpha=alpha)\n",
    "        if min_err is None or err < min_err:\n",
    "            min_err = err\n",
    "            min_alpha = alpha\n",
    "            min_iterations = iterations\n",
    "            min_W = W\n",
    "            \n",
    "print(f'err = {min_err}')\n",
    "print(f'alpha = {min_alpha}')\n",
    "print(f'iterations = {min_iterations}')\n",
    "print(f'W = {min_W}')"
   ]
  },
  {
   "cell_type": "markdown",
   "metadata": {
    "id": "OrKTLjzpWNKF"
   },
   "source": [
    "### Задание 3\n",
    "\n",
    "Создайте функцию calc_pred_proba, возвращающую предсказанную вероятность класса 1. На вход подаётся W, который уже посчитан функцией eval_model, и X, на выходе — массив y_pred_proba.\n",
    "\n",
    "### Ответ 3"
   ]
  },
  {
   "cell_type": "code",
   "execution_count": 23,
   "metadata": {},
   "outputs": [
    {
     "data": {
      "text/plain": [
       "array([3.04698996e-02, 2.30239962e-14, 1.00000000e+00, 3.24629545e-36,\n",
       "       9.98406437e-01, 1.88020623e-13, 1.00000000e+00, 2.94273034e-04,\n",
       "       9.71403833e-01, 1.00000000e+00])"
      ]
     },
     "execution_count": 23,
     "metadata": {},
     "output_type": "execute_result"
    }
   ],
   "source": [
    "def calc_pred_proba(w, X):\n",
    "    return sigmoid(np.dot(w, X))\n",
    "\n",
    "y_pred_proba = calc_pred_proba(min_W, X_st)\n",
    "y_pred_proba"
   ]
  },
  {
   "cell_type": "markdown",
   "metadata": {
    "id": "OrKTLjzpWNKF"
   },
   "source": [
    "### Задание 4\n",
    "\n",
    "Создайте функцию calc_pred, возвращающую предсказанный класс. На вход подаётся W, который уже посчитан функцией eval_model, и X, на выходе — массив y_pred.\n",
    "\n",
    "### Ответ 4"
   ]
  },
  {
   "cell_type": "code",
   "execution_count": 25,
   "metadata": {},
   "outputs": [
    {
     "data": {
      "text/plain": [
       "array([0, 0, 1, 0, 1, 0, 1, 0, 1, 1])"
      ]
     },
     "execution_count": 25,
     "metadata": {},
     "output_type": "execute_result"
    }
   ],
   "source": [
    "def calc_pred(w, X):\n",
    "    pred = sigmoid(np.dot(w, X))\n",
    "    pred.round(2)\n",
    "    return np.where(pred > 0.5, 1, 0)\n",
    "\n",
    "y_pred = calc_pred(min_W, X_st)\n",
    "y_pred"
   ]
  },
  {
   "cell_type": "markdown",
   "metadata": {
    "id": "OrKTLjzpWNKF"
   },
   "source": [
    "### Задание 5\n",
    "\n",
    "Посчитайте Accuracy, матрицу ошибок, точность и полноту, а также F1 score.\n",
    "\n",
    "### Ответ 5"
   ]
  },
  {
   "cell_type": "code",
   "execution_count": 26,
   "metadata": {},
   "outputs": [
    {
     "data": {
      "text/plain": [
       "1.0"
      ]
     },
     "execution_count": 26,
     "metadata": {},
     "output_type": "execute_result"
    }
   ],
   "source": [
    "from sklearn.metrics import accuracy_score\n",
    "accuracy_score(y, y_pred)"
   ]
  },
  {
   "cell_type": "code",
   "execution_count": 27,
   "metadata": {},
   "outputs": [
    {
     "data": {
      "text/plain": [
       "array([[5, 0],\n",
       "       [0, 5]])"
      ]
     },
     "execution_count": 27,
     "metadata": {},
     "output_type": "execute_result"
    }
   ],
   "source": [
    "from sklearn.metrics import confusion_matrix\n",
    "confusion_matrix(y, y_pred)"
   ]
  },
  {
   "cell_type": "code",
   "execution_count": 29,
   "metadata": {},
   "outputs": [
    {
     "data": {
      "text/plain": [
       "1.0"
      ]
     },
     "execution_count": 29,
     "metadata": {},
     "output_type": "execute_result"
    }
   ],
   "source": [
    "from sklearn.metrics import f1_score\n",
    "f1_score(y, y_pred)"
   ]
  },
  {
   "cell_type": "markdown",
   "metadata": {},
   "source": [
    "### Задание 6\n",
    "\n",
    "Могла ли модель переобучиться? Почему?\n",
    "\n",
    "### Ответ 6\n",
    "\n",
    "Слишком тщательный подход к поиску значений гиперпараметров привёл к переобучению на тестовой выборке. Теперь модель будет плохо работать на будущих данных."
   ]
  }
 ],
 "metadata": {
  "colab": {
   "collapsed_sections": [],
   "name": "Lesson_3_script.ipynb",
   "provenance": []
  },
  "kernelspec": {
   "display_name": "Python 3 (ipykernel)",
   "language": "python",
   "name": "python3"
  },
  "language_info": {
   "codemirror_mode": {
    "name": "ipython",
    "version": 3
   },
   "file_extension": ".py",
   "mimetype": "text/x-python",
   "name": "python",
   "nbconvert_exporter": "python",
   "pygments_lexer": "ipython3",
   "version": "3.10.5"
  }
 },
 "nbformat": 4,
 "nbformat_minor": 4
}
