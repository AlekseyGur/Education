{
 "cells": [
  {
   "cell_type": "markdown",
   "metadata": {
    "id": "UVJBvIMf_xJs",
    "tags": []
   },
   "source": [
    "# Урок 3"
   ]
  },
  {
   "cell_type": "markdown",
   "metadata": {
    "id": "6PJL0hfnCGxS"
   },
   "source": [
    "# Линейные преобразования"
   ]
  },
  {
   "cell_type": "markdown",
   "metadata": {
    "id": "qyU0wiO2CG2Q"
   },
   "source": [
    "## Практическое задание"
   ]
  },
  {
   "cell_type": "markdown",
   "metadata": {
    "id": "sNOgFRFrCG2S"
   },
   "source": [
    "## Задание 1\n",
    "\n",
    "Найдите собственные векторы и собственные значения для линейного оператора, заданного матрицей:\n",
    "\n",
    "$A=\\begin{pmatrix}\n",
    "-1 & -6\\\\ \n",
    "2 & 6\n",
    "\\end{pmatrix}.$\n",
    "\n",
    "## Решение 1\n",
    "\n",
    "$\\begin{vmatrix}\n",
    "-1-\\lambda & -6\\\\ \n",
    "2 & 6-\\lambda\n",
    "\\end{vmatrix}=0$  \n",
    "\n",
    "$(-1-\\lambda)\\cdot (6-\\lambda)-(-6)\\cdot 2=0\\\\\n",
    "\\lambda^{2}-5\\lambda+6=0\\\\\n",
    "\\lambda_1=2\\\\\n",
    "\\lambda_2=3$  \n",
    "\n",
    "---\n",
    "\n",
    "**$\\lambda_1=2$** \n",
    "\n",
    "$\\begin{pmatrix}\n",
    "-1 & -6\\\\ \n",
    "2 & 6\n",
    "\\end{pmatrix}\\cdot \\begin{pmatrix}x\\\\ y\\end{pmatrix}=\\lambda\\cdot \\begin{pmatrix}x\\\\ y\\end{pmatrix}\\\\\n",
    "\\begin{pmatrix}\n",
    "-x-6y\\\\ \n",
    "2x+6y\n",
    "\\end{pmatrix}=\\begin{pmatrix}2x\\\\ 2y\\end{pmatrix}\\\\\n",
    "\\begin{cases}-3x-6y=0\\\\2x+4y=0\\end{cases}\\\\\n",
    "x=-2y$  \n",
    "\n",
    "Например, $y=1$, тогда $x=-2$  \n",
    "\n",
    "$\\begin{cases}3\\cdot 2-6\\cdot (1)=0\\\\2\\cdot (-2)+4\\cdot (1)=0\\end{cases}$\n",
    "\n",
    "$\\bar{u_1}=\\begin{pmatrix}-2\\\\ 1\\end{pmatrix}$  \n",
    "\n",
    "---\n",
    "\n",
    "$\\lambda_1=3$\n",
    "\n",
    "$\\begin{pmatrix}\n",
    "-1 & -6\\\\ \n",
    "2 & 6\n",
    "\\end{pmatrix}\\cdot \\begin{pmatrix}x\\\\ y\\end{pmatrix}=\\lambda\\cdot \\begin{pmatrix}x\\\\ y\\end{pmatrix}\\\\\n",
    "\\begin{pmatrix}\n",
    "-x-6y\\\\ \n",
    "2x+6y\n",
    "\\end{pmatrix}=\\begin{pmatrix}3x\\\\ 3y\\end{pmatrix}\\\\\n",
    "\\begin{cases}-4x-6y=0\\\\2x+3y=0\\end{cases}\\\\\n",
    "x=-\\frac{3}{2}y$  \n",
    "\n",
    "Например, $y=2$, тогда $x=-3$  \n",
    "\n",
    "$\\begin{cases}-4\\cdot (-3)-6\\cdot 2=0\\\\2\\cdot (-3)+3\\cdot 2=0\\end{cases}$\n",
    "\n",
    "$\\bar{u_2}=\\begin{pmatrix}3\\\\ -2\\end{pmatrix}$  "
   ]
  },
  {
   "cell_type": "code",
   "execution_count": 7,
   "metadata": {},
   "outputs": [
    {
     "name": "stdout",
     "output_type": "stream",
     "text": [
      "Значения:\n",
      "[2. 3.]\n",
      "Векторы:\n",
      "[[-0.89442719  0.83205029]\n",
      " [ 0.4472136  -0.5547002 ]]\n"
     ]
    }
   ],
   "source": [
    "import numpy as np \n",
    "A=np.array([[-1,-6],[2,6]])\n",
    "w, v = np.linalg.eig(A)\n",
    "print(f'Значения:\\n{w}')\n",
    "print(f'Векторы:\\n{v}')"
   ]
  },
  {
   "cell_type": "markdown",
   "metadata": {},
   "source": [
    "## Задание 2\n",
    "\n",
    "Дан оператор поворота на 180 градусов, задаваемый матрицей:\n",
    "\n",
    "$A=\\begin{pmatrix}\n",
    "-1 & 0\\\\ \n",
    "0 & -1\n",
    "\\end{pmatrix}.$\n",
    "\n",
    "Покажите, что __любой__ вектор считается для него собственным.\n",
    "\n",
    "## Решение 2\n",
    "\n",
    "$\\begin{pmatrix}\n",
    "-1 & 0\\\\ \n",
    "0 & -1\n",
    "\\end{pmatrix}\\cdot \\begin{pmatrix}x\\\\ y\\end{pmatrix}=\\lambda\\cdot \\begin{pmatrix}x\\\\ y\\end{pmatrix}\\\\\n",
    "\\begin{pmatrix}\n",
    "-x\\\\ \n",
    "-y\n",
    "\\end{pmatrix}=\\begin{pmatrix}\\lambda x\\\\ \\lambda y\\end{pmatrix}\\\\\n",
    "\\begin{cases}-x=\\lambda x\\\\-y=\\lambda y\\end{cases}\\\\\n",
    "\\lambda=-1$  \n",
    "\n",
    "$x$ и $y$ может быть любым - все векторы будут собственными\n",
    "\n",
    "## Задание 3\n",
    "\n",
    "Пусть линейный оператор задан матрицей:\n",
    "\n",
    "$A=\\begin{pmatrix}\n",
    "1 & 1\\\\ \n",
    "-1 & 3\n",
    "\\end{pmatrix}.$\n",
    "\n",
    "Установите, считается ли вектор $x=(1,1)$ собственным вектором этого линейного оператора.\n",
    "\n",
    "## Решение 3\n",
    "\n",
    "$\\begin{pmatrix}\n",
    "1 & 1\\\\ \n",
    "-1 & 3\n",
    "\\end{pmatrix}\\cdot\\begin{pmatrix}1\\\\1\\end{pmatrix}=\\lambda\\cdot\\begin{pmatrix}1\\\\1\\end{pmatrix}$  \n",
    "\n",
    "$\\begin{cases}1+1=\\lambda \\\\\n",
    "-1+3=\\lambda \\end{cases}\\\\\\lambda=2$  \n",
    "\n",
    "Вектор является собственным вектором оператора.  \n",
    "\n",
    "## Задание 4\n",
    "\n",
    "Пусть линейный оператор задан матрицей:\n",
    "\n",
    "$A=\\begin{pmatrix} 0 & 3 & 0\\\\ 3 & 0 & 0\\\\ 0 & 0 & 3 \\end{pmatrix}.$\n",
    "\n",
    "Установите, считается ли вектор $x=(3, -3, -4)$ собственным вектором этого линейного оператора.\n",
    "\n",
    "## Решение 4\n",
    "\n",
    "$\\begin{pmatrix}\n",
    "0 & 3 & 0\\\\ \n",
    "3 & 0 & 0\\\\\n",
    "0 & 0 & 3\n",
    "\\end{pmatrix}\\cdot \\begin{pmatrix}3\\\\-3\\\\-4\\end{pmatrix}=\\lambda \\cdot\\begin{pmatrix}3\\\\-3\\\\-4\\end{pmatrix}\\\\\n",
    "\\begin{cases}-9=3\\lambda\\\\9=-3\\lambda\\\\-12=-4\\lambda\\end{cases}\\\\\n",
    "\\begin{cases}\\lambda=-3\\\\\\lambda=-3\\\\\\lambda=3\\end{cases}$  \n",
    "Такого не может быть, поэтому вектор $x=(3, -3, -4)$ не является собственным вектором."
   ]
  }
 ],
 "metadata": {
  "colab": {
   "collapsed_sections": [
    "u60X7ANcCG2V"
   ],
   "name": "Методичка №3.ipynb",
   "provenance": []
  },
  "kernelspec": {
   "display_name": "Python 3 (ipykernel)",
   "language": "python",
   "name": "python3"
  },
  "language_info": {
   "codemirror_mode": {
    "name": "ipython",
    "version": 3
   },
   "file_extension": ".py",
   "mimetype": "text/x-python",
   "name": "python",
   "nbconvert_exporter": "python",
   "pygments_lexer": "ipython3",
   "version": "3.10.5"
  }
 },
 "nbformat": 4,
 "nbformat_minor": 4
}
