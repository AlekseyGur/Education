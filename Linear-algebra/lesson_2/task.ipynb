{
 "cells": [
  {
   "cell_type": "markdown",
   "metadata": {
    "id": "HPMpEWusIIIM"
   },
   "source": [
    "# Урок 2"
   ]
  },
  {
   "cell_type": "markdown",
   "metadata": {
    "id": "USFuS5Q1IIIP"
   },
   "source": [
    "## Матрицы и матричные операции. Часть 1"
   ]
  },
  {
   "cell_type": "markdown",
   "metadata": {
    "id": "VAmOu--LIILw"
   },
   "source": [
    "## Практическое задание"
   ]
  },
  {
   "cell_type": "markdown",
   "metadata": {
    "id": "APeDlmh8IIL1"
   },
   "source": [
    "## Задание 1\n",
    "Установите, какие произведения матриц $AB$ и $BA$ определены, и найдите размерности полученных матриц:\n",
    "\n",
    "   а) $A$ — матрица $4\\times 2$, $B$ — матрица $4\\times 2$;\n",
    "    \n",
    "   б) $A$ — матрица $2\\times 5$, $B$ — матрица $5\\times 3$;\n",
    "    \n",
    "   в) $A$ — матрица $8\\times 3$, $B$ — матрица $3\\times 8$;\n",
    "    \n",
    "   г) $A$ — квадратная матрица $4\\times 4$, $B$ — квадратная матрица $4\\times 4$.\n",
    "   \n",
    "## Решение 1\n",
    "\n",
    "   а) $AB$ и $BA$ - не определено\n",
    "    \n",
    "   б) $AB$  - определено $2\\times 3$, $BA$ - не определено\n",
    "    \n",
    "   в) $AB$  - определено $8\\times 8$, $BA$ - определено $3\\times 3$\n",
    "    \n",
    "   г) $AB$ и $BA$ - определено $4\\times 4$\n",
    "    "
   ]
  },
  {
   "cell_type": "markdown",
   "metadata": {
    "id": "APeDlmh8IIL1"
   },
   "source": [
    "## Задание 2 \n",
    "\n",
    "Найдите сумму и произведение матриц $A=\\begin{pmatrix}\n",
    "1 & -2\\\\ \n",
    "3 & 0\n",
    "\\end{pmatrix}$ и $B=\\begin{pmatrix}\n",
    "4 & -1\\\\ \n",
    "0 & 5\n",
    "\\end{pmatrix}.$\n",
    "\n",
    "## Решение 2\n",
    "\n",
    "$A+B=\\begin{pmatrix}\n",
    "1+4 & -2-1\\\\ \n",
    "3+0 & 0+5\n",
    "\\end{pmatrix}=\\begin{pmatrix}\n",
    "5 & -3\\\\ \n",
    "4 & 5\n",
    "\\end{pmatrix}$\n",
    "\n",
    "$A*B=\\begin{pmatrix}\n",
    "1*4+(-2)*0 & 1*(-1)+(-2)*5\\\\ \n",
    "3*4+0*0 & 3*(-1)+5*0\n",
    "\\end{pmatrix}=\\begin{pmatrix}\n",
    "4 & -11\\\\ \n",
    "12 & 3\n",
    "\\end{pmatrix}$"
   ]
  },
  {
   "cell_type": "code",
   "execution_count": 1,
   "metadata": {},
   "outputs": [
    {
     "name": "stdout",
     "output_type": "stream",
     "text": [
      "A+B=\n",
      "[[ 5 -3]\n",
      " [ 3  5]]\n",
      "A*B=\n",
      "[[  4 -11]\n",
      " [ 12  -3]]\n"
     ]
    }
   ],
   "source": [
    "import numpy as np\n",
    "A=np.array([[1,-2],[3,0]])\n",
    "B=np.array([[4,-1],[0,5]])\n",
    "C=np.arange(4).reshape(2,2)\n",
    "for i in range(len(A)):\n",
    "    for j in range(len(A[i])):\n",
    "        C[i][j]=A[i][j]+B[i][j]\n",
    "\n",
    "print('A+B=')\n",
    "print(C)\n",
    "\n",
    "print('A*B=')\n",
    "print(A@B)"
   ]
  },
  {
   "cell_type": "markdown",
   "metadata": {
    "id": "APeDlmh8IIL1"
   },
   "source": [
    "## Задание 3\n",
    "\n",
    "Из закономерностей сложения и умножения матриц на число можно сделать вывод, что матрицы одного размера образуют линейное пространство. Вычислите линейную комбинацию $3A-2B+4C$ для матриц $A=\\begin{pmatrix}\n",
    "1 & 7\\\\ \n",
    "3 & -6\n",
    "\\end{pmatrix}$, $B=\\begin{pmatrix}\n",
    "0 & 5\\\\ \n",
    "2 & -1\n",
    "\\end{pmatrix}$, $C=\\begin{pmatrix}\n",
    "2 & -4\\\\ \n",
    "1 & 1\n",
    "\\end{pmatrix}.$\n",
    "\n",
    "## Решение 3\n",
    "\n",
    "$3A-2B+4C=3\\cdot \\begin{pmatrix}1 & 7\\\\3 & -6\\end{pmatrix}-2\\cdot \\begin{pmatrix}0 & 5\\\\2 & -1\\end{pmatrix}+4\\cdot \\begin{pmatrix}2 & -4\\\\ 1 & 1\\end{pmatrix}=\\begin{pmatrix}3-0+8 & 21-10-16\\\\9-4+4 & -18+2+4\\end{pmatrix}=\\begin{pmatrix}11 & -5\\\\9 & -12\\end{pmatrix}$  "
   ]
  },
  {
   "cell_type": "code",
   "execution_count": 2,
   "metadata": {},
   "outputs": [
    {
     "data": {
      "text/plain": [
       "array([[ 11,  -5],\n",
       "       [  9, -12]])"
      ]
     },
     "execution_count": 2,
     "metadata": {},
     "output_type": "execute_result"
    }
   ],
   "source": [
    "a=np.array([[1,7],[3,-6]])\n",
    "b=np.array([[0,5],[2,-1]])\n",
    "c=np.array([[2,-4],[1,1]])\n",
    "3*a-2*b+4*c"
   ]
  },
  {
   "cell_type": "markdown",
   "metadata": {
    "id": "APeDlmh8IIL1"
   },
   "source": [
    "## Задание 4\n",
    "\n",
    "Дана матрица $A=\\begin{pmatrix}\n",
    "4 & 1\\\\ \n",
    "5 & -2\\\\ \n",
    "2 & 3\n",
    "\\end{pmatrix}$.\n",
    "Вычислите $AA^{T}$ и $A^{T}A$.\n",
    "\n",
    "## Решение 4\n",
    "\n",
    "$A^T=\\begin{pmatrix}4 & 5 & 2\\\\1 &-2 & 3\\end{pmatrix}$  \n",
    "$AA^T=\\begin{pmatrix}4 & 1\\\\ 5 & -2\\\\ 2 & 3\\end{pmatrix}\\cdot \\begin{pmatrix}4 & 5 & 2\\\\1 &-2 & 3\\end{pmatrix}=\\begin{pmatrix}4\\cdot 4+1\\cdot 1 & 4\\cdot 5+1\\cdot -2 & 4\\cdot 2+1\\cdot 3\\\\5\\cdot 4+(-2)\\cdot 1 & 5\\cdot 5+(-2)\\cdot -2 & 5\\cdot 2+(-2)\\cdot 3\\\\2\\cdot 4+3\\cdot 1 & 2\\cdot 5+3\\cdot -2 & 2\\cdot 2+3\\cdot 3\\end{pmatrix}=\\begin{pmatrix}17 & 18 & 11\\\\18 & 29 & 4\\\\11 & 4 & 13\\end{pmatrix}$\n",
    "\n",
    "$A^{T}A=\\begin{pmatrix}4 & 5 & 2\\\\1 &-2 & 3\\end{pmatrix}\\cdot \\begin{pmatrix}4 & 1\\\\ 5 & -2\\\\ 2 & 3\\end{pmatrix}=\\begin{pmatrix}4\\cdot 4 + 5\\cdot 5+2\\cdot 2 & 4\\cdot 1 + 5\\cdot -2+2\\cdot 3\\\\1\\cdot 4 + (-2)\\cdot 5+3\\cdot 2 & 1\\cdot 1 + (-2)\\cdot -2+3\\cdot 3\\end{pmatrix}=\\begin{pmatrix}45 & 0\\\\0 & 14\\end{pmatrix}$"
   ]
  },
  {
   "cell_type": "code",
   "execution_count": 3,
   "metadata": {},
   "outputs": [
    {
     "name": "stdout",
     "output_type": "stream",
     "text": [
      "A*A.T\n",
      "[[17 18 11]\n",
      " [18 29  4]\n",
      " [11  4 13]]\n",
      "\n",
      "A.T*A\n",
      "[[45  0]\n",
      " [ 0 14]]\n"
     ]
    }
   ],
   "source": [
    "A=np.array([[4,1],[5,-2],[2,3]])\n",
    "print('A*A.T')\n",
    "print(A@A.T)\n",
    "print()\n",
    "print('A.T*A')\n",
    "print(A.T@A)"
   ]
  },
  {
   "cell_type": "markdown",
   "metadata": {
    "id": "APeDlmh8IIL1"
   },
   "source": [
    "## Задание 5\n",
    "\n",
    "Напишите на Python функцию для перемножения двух произвольных матриц, не используя NumPy.\n",
    "\n",
    "## Решение 5"
   ]
  },
  {
   "cell_type": "code",
   "execution_count": 4,
   "metadata": {},
   "outputs": [
    {
     "data": {
      "text/plain": [
       "array([[ 3, -4,  1],\n",
       "       [-1, -2,  3],\n",
       "       [ 3, -4,  1]])"
      ]
     },
     "execution_count": 4,
     "metadata": {},
     "output_type": "execute_result"
    }
   ],
   "source": [
    "def m_matrix(A, B):\n",
    "    try: \n",
    "        A.shape[1]==B.shape[0]\n",
    "        result=[]\n",
    "        temp=[]\n",
    "        s=0\n",
    "        for i in range(A.shape[0]):\n",
    "            for j in range(B.shape[1]):\n",
    "                for k in range(B.shape[0]):\n",
    "                    s+=A[i][k]*B[k][j]\n",
    "                temp.append(s)\n",
    "                s=0\n",
    "            result.append(temp)\n",
    "            temp=[]\n",
    "        return np.array(result)\n",
    "    except Exception:\n",
    "        print('Неверные размеры матрицы')\n",
    "\n",
    "A=np.array([[1,2],[-2,1],[1,2]])\n",
    "B=np.array([[1,0,-1],[1,-2,1]])\n",
    "\n",
    "m_matrix(A,B)"
   ]
  },
  {
   "cell_type": "markdown",
   "metadata": {
    "id": "N7Ec4jnDWtQg"
   },
   "source": [
    "# Матрицы и матричные операции. Часть 2"
   ]
  },
  {
   "cell_type": "markdown",
   "metadata": {
    "id": "NRcOh0gsWtUo"
   },
   "source": [
    "## Практическое задание"
   ]
  },
  {
   "cell_type": "markdown",
   "metadata": {
    "id": "H3qXQfJ-WtUp"
   },
   "source": [
    "Все задания рекомендуется выполнять вручную, проверяя полученные результаты с использованием NumPy.\n",
    "\n",
    "## Задание и решение\n",
    "\n",
    "Вычислите определитель:\n",
    "\n",
    "a)\n",
    "\n",
    "$A=\\begin{vmatrix}\n",
    "sinx & -cosx\\\\ \n",
    "cosx & sinx\n",
    "\\end{vmatrix};$\n",
    "\n",
    "$detA=\\sin x \\cdot sin x - (-\\cos x)\\cdot\\cos x=\\sin^2 x + \\cos^2 x=1$"
   ]
  },
  {
   "cell_type": "markdown",
   "metadata": {
    "id": "H3qXQfJ-WtUp"
   },
   "source": [
    "б)\n",
    "    \n",
    "$A=\\begin{vmatrix}\n",
    "4 & 2 & 3\\\\ \n",
    "0 & 5 & 1\\\\ \n",
    "0 & 0 & 9\n",
    "\\end{vmatrix};$\n",
    "    \n",
    "*Определитель треугольной матрицы равен произведению элементов диагонали*  \n",
    "$detA=4\\cdot 5\\cdot 9=180$"
   ]
  },
  {
   "cell_type": "code",
   "execution_count": 5,
   "metadata": {},
   "outputs": [
    {
     "data": {
      "text/plain": [
       "180.0"
      ]
     },
     "execution_count": 5,
     "metadata": {},
     "output_type": "execute_result"
    }
   ],
   "source": [
    "B=np.array([[4,2,3],[0,5,1],[0,0,9]])  \n",
    "np.linalg.det(B)"
   ]
  },
  {
   "cell_type": "markdown",
   "metadata": {
    "id": "H3qXQfJ-WtUp"
   },
   "source": [
    "в)\n",
    "\n",
    "$A=\\begin{vmatrix}\n",
    "1 & 2 & 3\\\\ \n",
    "4 & 5 & 6\\\\ \n",
    "7 & 8 & 9\n",
    "\\end{vmatrix}.$\n",
    "\n",
    "$detA=1\\cdot\\begin{pmatrix}5 & 6\\\\8 & 9\\end{pmatrix}-2\\cdot\\begin{pmatrix}4 & 6\\\\7 & 9\\end{pmatrix}+3\\cdot\\begin{pmatrix}4 & 5\\\\7 & 8\\end{pmatrix}=1\\cdot (5\\cdot 9-6\\cdot 8)-2\\cdot (4\\cdot 9-6\\cdot 7)+3\\cdot (4\\cdot 8-5\\cdot 7)=0$"
   ]
  },
  {
   "cell_type": "code",
   "execution_count": 6,
   "metadata": {},
   "outputs": [
    {
     "data": {
      "text/plain": [
       "0.0"
      ]
     },
     "execution_count": 6,
     "metadata": {},
     "output_type": "execute_result"
    }
   ],
   "source": [
    "C=np.array([[1,2,3], [4,5,6],[7,8,9]])  \n",
    "round(np.linalg.det(C),1)"
   ]
  },
  {
   "cell_type": "markdown",
   "metadata": {
    "id": "H3qXQfJ-WtUp"
   },
   "source": [
    "## Задание и решение 2\n",
    "Определитель матрицы $A$ равен $4$. Найдите:\n",
    "\n",
    "а) $det(A^{2})$;\n",
    "    \n",
    "    \n",
    "Для квадратных матриц одинакового размера:\n",
    "\n",
    "$det(A*A)=det(A)*det(A)=4*4=16$  "
   ]
  },
  {
   "cell_type": "markdown",
   "metadata": {
    "id": "H3qXQfJ-WtUp"
   },
   "source": [
    "б) $det(A^{T})$;\n",
    "\n",
    "Определитель транспонированной матрицы равен определителю исходной:\n",
    "\n",
    "$det(A^T)=4$  "
   ]
  },
  {
   "cell_type": "markdown",
   "metadata": {
    "id": "H3qXQfJ-WtUp"
   },
   "source": [
    "в) $det(2A)$.\n",
    "\n",
    "Умножение строки или столбца матрицы на число приведет к умножению определителя матрицы на то же число. \n",
    "\n",
    "$det(2A)=2^{n}*det(A)=2^{n}*4$\n",
    "\n",
    "$n$ - порядок матрицы $A$."
   ]
  },
  {
   "cell_type": "markdown",
   "metadata": {
    "id": "H3qXQfJ-WtUp",
    "tags": []
   },
   "source": [
    "## Задание 3\n",
    "Докажите, что матрица:\n",
    "\n",
    "$\\begin{pmatrix}\n",
    "-2 & 7 & -3\\\\ \n",
    "4 & -14 & 6\\\\ \n",
    "-3 & 7 & 13\n",
    "\\end{pmatrix}$\n",
    "   \n",
    "вырожденная.\n",
    "\n",
    "## Решение 3\n",
    "\n",
    "Умножаем вторую строку на (-2). Получаем две одинаковые верхние строки. Определитель такой матрицы равен нулю."
   ]
  },
  {
   "cell_type": "code",
   "execution_count": 7,
   "metadata": {},
   "outputs": [
    {
     "data": {
      "text/plain": [
       "0.0"
      ]
     },
     "execution_count": 7,
     "metadata": {},
     "output_type": "execute_result"
    }
   ],
   "source": [
    "arr=np.array([[-2,7,-3],[4,-14,6],[-3,7,13]])\n",
    "np.linalg.det(arr)"
   ]
  },
  {
   "cell_type": "markdown",
   "metadata": {
    "id": "H3qXQfJ-WtUp",
    "tags": []
   },
   "source": [
    "## Задание и решение 4\n",
    "Найдите ранг матрицы:\n",
    "\n",
    "а) $\\begin{pmatrix}\n",
    "1 & 2 & 3\\\\ \n",
    "1 & 1 & 1\\\\ \n",
    "2 & 3 & 4\n",
    "\\end{pmatrix}=\\begin{pmatrix}\n",
    "1 & 2 & 3\\\\ \n",
    "1 & 1 & 1\n",
    "\\end{pmatrix}=\\begin{pmatrix}\n",
    "0 & 1 & 2\\\\ \n",
    "1 & 1 & 1\n",
    "\\end{pmatrix};$\n",
    "\n",
    "Ранг равен 2."
   ]
  },
  {
   "cell_type": "code",
   "execution_count": 8,
   "metadata": {},
   "outputs": [
    {
     "data": {
      "text/plain": [
       "2"
      ]
     },
     "execution_count": 8,
     "metadata": {},
     "output_type": "execute_result"
    }
   ],
   "source": [
    "arr=([[1,2,3],[1,1,1],[2,3,4]])\n",
    "np.linalg.matrix_rank(arr)"
   ]
  },
  {
   "cell_type": "markdown",
   "metadata": {
    "id": "H3qXQfJ-WtUp",
    "tags": []
   },
   "source": [
    "б)\n",
    "$\\begin{pmatrix}\n",
    "0 & 0 & 2 & 1\\\\ \n",
    "0 & 0 & 2 & 2\\\\ \n",
    "0 & 0 & 4 & 3\\\\ \n",
    "2 & 3 & 5 & 6\n",
    "\\end{pmatrix}=\\begin{pmatrix}\n",
    "0 & 0 & 2 & 1\\\\ \n",
    "0 & 0 & 2 & 2\\\\ \n",
    "0 & 0 & 0 & 1\\\\ \n",
    "2 & 3 & 5 & 6\n",
    "\\end{pmatrix}=\\begin{pmatrix}\n",
    "0 & 0 & 2 & 0\\\\ \n",
    "0 & 0 & 0 & 1\\\\ \n",
    "2 & 3 & 0 & 0\n",
    "\\end{pmatrix}.$\n",
    "\n",
    "Ранг равен 3."
   ]
  },
  {
   "cell_type": "code",
   "execution_count": 10,
   "metadata": {},
   "outputs": [
    {
     "data": {
      "text/plain": [
       "3"
      ]
     },
     "execution_count": 10,
     "metadata": {},
     "output_type": "execute_result"
    }
   ],
   "source": [
    "arr=([[0,0,2,1],[0,0,2,2],[0,0,4,3],[2,3,5,6]])\n",
    "np.linalg.matrix_rank(arr)"
   ]
  }
 ],
 "metadata": {
  "colab": {
   "collapsed_sections": [],
   "name": "Методичка №2. .ipynb",
   "provenance": []
  },
  "kernelspec": {
   "display_name": "Python 3 (ipykernel)",
   "language": "python",
   "name": "python3"
  },
  "language_info": {
   "codemirror_mode": {
    "name": "ipython",
    "version": 3
   },
   "file_extension": ".py",
   "mimetype": "text/x-python",
   "name": "python",
   "nbconvert_exporter": "python",
   "pygments_lexer": "ipython3",
   "version": "3.10.5"
  }
 },
 "nbformat": 4,
 "nbformat_minor": 4
}
