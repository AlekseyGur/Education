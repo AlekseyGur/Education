{
 "cells": [
  {
   "cell_type": "markdown",
   "metadata": {
    "id": "fi1GVcIOZS20"
   },
   "source": [
    "# Урок 4"
   ]
  },
  {
   "cell_type": "markdown",
   "metadata": {
    "id": "ixjV8P1IZS23"
   },
   "source": [
    "# Системы линейных уравнений"
   ]
  },
  {
   "cell_type": "markdown",
   "metadata": {
    "id": "cTVfl123ZS5O"
   },
   "source": [
    "### Задание 1\n",
    "\n",
    "Решите систему уравнений методом Гаусса:\n",
    "\n",
    "$\\begin{cases}\n",
    "x_{1}+x_{2}-x_{3}-2x_{4}=0, \\\\\n",
    "2x_{1}+x_{2}-x_{3}+x_{4}=-2, \\\\\n",
    "x_{1}+x_{2}-3x_{3}+x_{4}=4.\n",
    "\\end{cases}$\n",
    "\n",
    "### Решение 1\n",
    "\n",
    "$\\begin{pmatrix}\n",
    "\\left.\\begin{matrix}\n",
    "1 & 1 & -1 & -2\\\\ \n",
    "2 & 1 & -1 & 1 \\\\ \n",
    "1 & 1 & -3 & 1\n",
    "\\end{matrix}\\right|\n",
    "\\begin{matrix}\n",
    "0\\\\ \n",
    "-2\\\\\n",
    "4\n",
    "\\end{matrix}\n",
    "\\end{pmatrix}$.  \n",
    "\n",
    "Вычтем из второй строки удвоенную первую:  \n",
    "\n",
    "$\\begin{pmatrix}\n",
    "\\left.\\begin{matrix}\n",
    "1 & 1 & -1 & -2\\\\ \n",
    "0 & -1 & 1 & 5 \\\\ \n",
    "1 & 1 & -3 & 1\n",
    "\\end{matrix}\\right|\n",
    "\\begin{matrix}\n",
    "0\\\\ \n",
    "-2\\\\\n",
    "4\n",
    "\\end{matrix}\n",
    "\\end{pmatrix}$  \n",
    "\n",
    "Вычтем из третьей строки первую:  \n",
    "\n",
    "$\\begin{pmatrix}\n",
    "\\left.\\begin{matrix}\n",
    "1 & 1 & -1 & -2\\\\ \n",
    "0 & -1 & 1 & 5 \\\\ \n",
    "0 & 0 & -2 & 3\n",
    "\\end{matrix}\\right|\n",
    "\\begin{matrix}\n",
    "0\\\\ \n",
    "-2\\\\\n",
    "4\n",
    "\\end{matrix}\n",
    "\\end{pmatrix}$  \n",
    "\n",
    "\n",
    "Прибавим к первой вторую строку:  \n",
    "\n",
    "$\\begin{pmatrix}\n",
    "\\left.\\begin{matrix}\n",
    "1 & 0 & 0 & 3\\\\ \n",
    "0 & -1 & 1 & 5 \\\\ \n",
    "0 & 0 & -2 & 3\n",
    "\\end{matrix}\\right|\n",
    "\\begin{matrix}\n",
    "-2\\\\ \n",
    "-2\\\\\n",
    "4\n",
    "\\end{matrix}\n",
    "\\end{pmatrix}$ \n",
    "\n",
    "Ранг матрицы и расширенной матрицы равны 3, а количество неизвестных - 4, поэтому у системы есть множество решений.  \n",
    "\n",
    "Пусть $x_4=c$, тогда:  \n",
    "\n",
    "$x_{1}+3c=-2\\\\x_1=-2-3c$\n",
    "\n",
    "$-2x_{3}+3c=4\\\\x_{3}=-2+\\frac{3}{2}c$  \n",
    "\n",
    "$-x_{2}+x_{3}+5c=-2\\\\x_2=2+5c-2+\\frac{3}{2}c\\\\x_2=\\frac{13}{2}c$  \n",
    "\n",
    "Если $c=0$, то решение верно:  \n",
    "\n",
    "$\\begin{cases}\n",
    "-2+0+2-2\\cdot 0=0 \\\\\n",
    "2\\cdot -2+0+2+0=-2 \\\\\n",
    "-2+0-3\\cdot -2+0=4\n",
    "\\end{cases}$"
   ]
  },
  {
   "cell_type": "markdown",
   "metadata": {
    "id": "cTVfl123ZS5O"
   },
   "source": [
    "### Задание 2\n",
    "\n",
    " Проверьте на совместность и выясните, сколько решений будет иметь система линейных уравнений:\n",
    "\n",
    "### а)\n",
    "$\\begin{cases}\n",
    "3x_{1}-x_{2}+x_{3}=4, \\\\\n",
    "2x_{1}-5x_{2}-3x_{3}=-17, \\\\\n",
    "x_{1}+x_{2}-x_{3}=0;\n",
    "\\end{cases}$\n",
    "    "
   ]
  },
  {
   "cell_type": "markdown",
   "metadata": {},
   "source": [
    "### Решение а)\n",
    "\n",
    "$\\begin{pmatrix}\n",
    "\\left.\\begin{matrix}\n",
    "3 & -1 & 1\\\\ \n",
    "2 & -5 & -3\\\\ \n",
    "1 & 1 & -1\n",
    "\\end{matrix}\\right|\n",
    "\\begin{matrix}\n",
    "4\\\\ \n",
    "-17\\\\\n",
    "0\n",
    "\\end{matrix}\n",
    "\\end{pmatrix}$  "
   ]
  },
  {
   "cell_type": "code",
   "execution_count": 6,
   "metadata": {},
   "outputs": [
    {
     "name": "stdout",
     "output_type": "stream",
     "text": [
      "Ранг матрицы = 3\n",
      "Ранг расширенной матрицы = 3\n"
     ]
    }
   ],
   "source": [
    "import numpy as np\n",
    "A = np.array([[3,-1,1],   [2,-5,-3],     [1,1,-1]])\n",
    "B = np.array([[3,-1,1,4], [2,-5,-3,-17], [1,1,-1,0]])\n",
    "print(f'Ранг матрицы = {np.linalg.matrix_rank(A)}')\n",
    "print(f'Ранг расширенной матрицы = {np.linalg.matrix_rank(B)}')"
   ]
  },
  {
   "cell_type": "markdown",
   "metadata": {},
   "source": [
    "Ранг матрицы равен рангу расширенной и равен количеству неизвестных. Поэтому система совместна и определена и имеет единственное решение.  "
   ]
  },
  {
   "cell_type": "markdown",
   "metadata": {
    "id": "cTVfl123ZS5O"
   },
   "source": [
    "### б)\n",
    "$\\begin{cases}\n",
    "2x_{1}-4x_{2}+6x_{3}=1, \\\\\n",
    "x_{1}-2x_{2}+3x_{3}=-2, \\\\\n",
    "3x_{1}-6x_{2}+9x_{3}=5;\n",
    "\\end{cases}$\n",
    "    "
   ]
  },
  {
   "cell_type": "markdown",
   "metadata": {},
   "source": [
    "### Решение б)\n",
    "\n",
    "$\\begin{pmatrix}\n",
    "\\left.\\begin{matrix}\n",
    "2 & -4 & 6\\\\ \n",
    "1 & -2 & 3\\\\ \n",
    "3 & -6 & 9\n",
    "\\end{matrix}\\right|\n",
    "\\begin{matrix}\n",
    "1\\\\ \n",
    "-2\\\\\n",
    "5\n",
    "\\end{matrix}\n",
    "\\end{pmatrix}$  \n",
    "\n",
    "Векторы матрицы линейно зависимы:\n",
    "\n",
    "$\\begin{pmatrix}\n",
    "\\left.\\begin{matrix}\n",
    "2 & -4 & 6\\\\ \n",
    "2 & -4 & 6\\\\ \n",
    "2 & -4 & 6\n",
    "\\end{matrix}\\right|\n",
    "\\begin{matrix}\n",
    "1\\\\ \n",
    "-4\\\\\n",
    "\\frac{10}{3}\n",
    "\\end{matrix}\n",
    "\\end{pmatrix}$  \n",
    "\n",
    "Вектор коэфициентов $\\begin{pmatrix}1\\\\-4\\\\\\frac{10}{3}\\end{pmatrix}$ не принадлежит линейному подпространству векторов матрицы, поэтому система несовместна и не имеет решений."
   ]
  },
  {
   "cell_type": "code",
   "execution_count": 13,
   "metadata": {},
   "outputs": [
    {
     "name": "stdout",
     "output_type": "stream",
     "text": [
      "Ранг матрицы = 1\n",
      "Ранг расширенной матрицы = 2\n"
     ]
    }
   ],
   "source": [
    "A = np.array([[2,-4,6],  [1,-2,3],   [3,-6,9]])\n",
    "B = np.array([[2,-4,6,1],[1,-2,3,-2],[3,-6,9,5]])\n",
    "print(f'Ранг матрицы = {np.linalg.matrix_rank(A)}')\n",
    "print(f'Ранг расширенной матрицы = {np.linalg.matrix_rank(B)}')"
   ]
  },
  {
   "cell_type": "markdown",
   "metadata": {},
   "source": [
    "Ранг матрицы меньше ранга расширенной матрицы, поэтому система несовместна и не имеет решений.  "
   ]
  },
  {
   "cell_type": "markdown",
   "metadata": {
    "id": "cTVfl123ZS5O"
   },
   "source": [
    "### в)\n",
    "$\\begin{cases}\n",
    "x_{1}+2x_{2}+5x_{3}=4, \\\\\n",
    "3x_{1}+x_{2}-8x_{3}=-2. \n",
    "\\end{cases}$\n",
    "\n",
    "### Решение в)"
   ]
  },
  {
   "cell_type": "markdown",
   "metadata": {},
   "source": [
    "$\\begin{pmatrix}\n",
    "\\left.\\begin{matrix}\n",
    "1 & 2 & 5\\\\ \n",
    "3 & 1 & -8\n",
    "\\end{matrix}\\right|\n",
    "\\begin{matrix}\n",
    "4\\\\ \n",
    "-2\n",
    "\\end{matrix}\n",
    "\\end{pmatrix}$  \n",
    "\n",
    "Количество уравнений меньше количества неизвестных, поэтому система недоопределена. Она либо не иметь решений, либо имеет множество.  "
   ]
  },
  {
   "cell_type": "code",
   "execution_count": 14,
   "metadata": {},
   "outputs": [
    {
     "name": "stdout",
     "output_type": "stream",
     "text": [
      "Ранг матрицы = 2\n",
      "Ранг расширенной матрицы = 2\n"
     ]
    }
   ],
   "source": [
    "A = np.array([[1,2,5],  [3,1,-8]])\n",
    "B = np.array([[1,2,5,4],[3,1,-8,-2]])\n",
    "print(f'Ранг матрицы = {np.linalg.matrix_rank(A)}')\n",
    "print(f'Ранг расширенной матрицы = {np.linalg.matrix_rank(B)}')"
   ]
  },
  {
   "cell_type": "markdown",
   "metadata": {},
   "source": [
    "Ранг матрицы равен рангу расширенной, но меньше количества неизвестных. Поэтому система совместна, неопределена, имеет множество решений."
   ]
  },
  {
   "cell_type": "markdown",
   "metadata": {
    "id": "cTVfl123ZS5O"
   },
   "source": [
    "### Задание 3\n",
    "\n",
    " Проверьте на совместность и выясните, сколько решений будет иметь система линейных уравнений, заданная расширенной матрицей:\n",
    "\n",
    "$\\tilde{A}=\\begin{pmatrix}\n",
    "\\left.\\begin{matrix}\n",
    "1 & 3 & -2 & 4\\\\ \n",
    "0 & 5 & 0 & 1\\\\ \n",
    "0 & 0 & 3 & 0\\\\ \n",
    "0 & 0 & 0 & 2\n",
    "\\end{matrix}\\right|\n",
    "\\begin{matrix}\n",
    "3\\\\ \n",
    "2\\\\\n",
    "4\\\\\n",
    "1\n",
    "\\end{matrix}\n",
    "\\end{pmatrix}.$\n",
    "\n",
    "### Решение 3"
   ]
  },
  {
   "cell_type": "markdown",
   "metadata": {},
   "source": [
    "Сравним ранги матрицы системы и расширенной матрицы:"
   ]
  },
  {
   "cell_type": "code",
   "execution_count": 15,
   "metadata": {},
   "outputs": [
    {
     "name": "stdout",
     "output_type": "stream",
     "text": [
      "Ранг матрицы = 4\n",
      "Ранг расширенной матрицы = 4\n"
     ]
    }
   ],
   "source": [
    "A = np.array([[1,3,-2,4],  [0,5,0,1],  [0,0,3,0],  [0,0,0,2]])\n",
    "B = np.array([[1,3,-2,4,3],[0,5,0,1,2],[0,0,3,0,4],[0,0,0,2,1]])\n",
    "print(f'Ранг матрицы = {np.linalg.matrix_rank(A)}')\n",
    "print(f'Ранг расширенной матрицы = {np.linalg.matrix_rank(B)}')"
   ]
  },
  {
   "cell_type": "markdown",
   "metadata": {},
   "source": [
    "Ранги совпадают, поэтому система совместна и определена и имеет единственное решение."
   ]
  },
  {
   "cell_type": "markdown",
   "metadata": {
    "id": "cTVfl123ZS5O"
   },
   "source": [
    "### Задание 4\n",
    "\n",
    " Дана система линейных уравнений, заданная расширенной матрицей:\n",
    "\n",
    "$\\tilde{A}=\\begin{pmatrix}\n",
    "\\left.\\begin{matrix}\n",
    "1 & 2 & 3\\\\ \n",
    "4 & 5 & 6\\\\ \n",
    "7 & 8 & 9\n",
    "\\end{matrix}\\right|\n",
    "\\begin{matrix}\n",
    "a\\\\ \n",
    "b\\\\\n",
    "c\n",
    "\\end{matrix}\n",
    "\\end{pmatrix}.$\n",
    "\n",
    "Найдите соотношение между параметрами $a$, $b$ и $c$, при которых система считается несовместной.\n",
    "\n",
    "\n",
    "### Решение 4"
   ]
  },
  {
   "cell_type": "markdown",
   "metadata": {},
   "source": [
    "Система несовместима, если $rankA<rank\\tilde A$  \n",
    "\n",
    "Вычтем из второй строки удвоенную первую:  \n",
    "\n",
    "$\\begin{pmatrix}\n",
    "\\left.\\begin{matrix}\n",
    "1 & 2 & 3\\\\ \n",
    "2 & 1 & 0\\\\ \n",
    "7 & 8 & 9\n",
    "\\end{matrix}\\right|\n",
    "\\begin{matrix}\n",
    "a\\\\ \n",
    "b-2a\\\\\n",
    "c\n",
    "\\end{matrix}\n",
    "\\end{pmatrix}$  \n",
    "\n",
    "Вычтем из третьей строки три первых:  \n",
    "\n",
    "$\\begin{pmatrix}\n",
    "\\left.\\begin{matrix}\n",
    "1 & 2 & 3\\\\ \n",
    "2 & 1 & 0\\\\ \n",
    "4 & 2 & 0\n",
    "\\end{matrix}\\right|\n",
    "\\begin{matrix}\n",
    "a\\\\ \n",
    "b-2a\\\\\n",
    "c-3a\n",
    "\\end{matrix}\n",
    "\\end{pmatrix}$  \n",
    "\n",
    "Вычтем из третьей строки две вторых:  \n",
    "\n",
    "$\\begin{pmatrix}\n",
    "\\left.\\begin{matrix}\n",
    "1 & 2 & 3\\\\ \n",
    "2 & 1 & 0\\\\ \n",
    "0 & 0 & 0\n",
    "\\end{matrix}\\right|\n",
    "\\begin{matrix}\n",
    "a\\\\ \n",
    "b-2a\\\\\n",
    "c+a-2b\n",
    "\\end{matrix}\n",
    "\\end{pmatrix}$  \n",
    "\n",
    "Ранг матрицы равен 2. Чтобы выполнить условие несовместности нужно $rank \\tilde A>2$, то есть при условии что $c+a-2b\\neq0$"
   ]
  }
 ],
 "metadata": {
  "colab": {
   "collapsed_sections": [],
   "name": "Методичка №4.ipynb",
   "provenance": []
  },
  "kernelspec": {
   "display_name": "Python 3 (ipykernel)",
   "language": "python",
   "name": "python3"
  },
  "language_info": {
   "codemirror_mode": {
    "name": "ipython",
    "version": 3
   },
   "file_extension": ".py",
   "mimetype": "text/x-python",
   "name": "python",
   "nbconvert_exporter": "python",
   "pygments_lexer": "ipython3",
   "version": "3.10.5"
  }
 },
 "nbformat": 4,
 "nbformat_minor": 4
}
