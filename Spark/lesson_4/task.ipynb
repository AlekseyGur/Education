{
  "nbformat": 4,
  "nbformat_minor": 0,
  "metadata": {
    "colab": {
      "provenance": [],
      "collapsed_sections": []
    },
    "kernelspec": {
      "name": "python3",
      "display_name": "Python 3"
    },
    "language_info": {
      "name": "python"
    }
  },
  "cells": [
    {
      "cell_type": "markdown",
      "metadata": {
        "id": "6W7u-73y5f5g"
      },
      "source": [
        "Здравствуйте.\n",
        "\n",
        "# Задание\n",
        "Ниже обучается и оцениваться модель. \n",
        "\n",
        "Нужно перевести этот в Pipeline (вам понадобится VectorAssembler), а затем оценить MAE с помощью spark. И попробовать потюнить параметры модели.\n"
      ]
    },
    {
      "cell_type": "code",
      "source": [
        "!pip install pyspark"
      ],
      "metadata": {
        "colab": {
          "base_uri": "https://localhost:8080/"
        },
        "id": "9J19SrncHmYC",
        "outputId": "283f1ec4-4378-4c28-fc6b-452bbc7260ca"
      },
      "execution_count": 1,
      "outputs": [
        {
          "output_type": "stream",
          "name": "stdout",
          "text": [
            "Looking in indexes: https://pypi.org/simple, https://us-python.pkg.dev/colab-wheels/public/simple/\n",
            "Collecting pyspark\n",
            "  Downloading pyspark-3.3.0.tar.gz (281.3 MB)\n",
            "\u001b[K     |████████████████████████████████| 281.3 MB 64 kB/s \n",
            "\u001b[?25hCollecting py4j==0.10.9.5\n",
            "  Downloading py4j-0.10.9.5-py2.py3-none-any.whl (199 kB)\n",
            "\u001b[K     |████████████████████████████████| 199 kB 78.3 MB/s \n",
            "\u001b[?25hBuilding wheels for collected packages: pyspark\n",
            "  Building wheel for pyspark (setup.py) ... \u001b[?25l\u001b[?25hdone\n",
            "  Created wheel for pyspark: filename=pyspark-3.3.0-py2.py3-none-any.whl size=281764026 sha256=5ceec946c6610e45781a02b0b2cb3bbd3cf93ca74b85e56287d49232906468f0\n",
            "  Stored in directory: /root/.cache/pip/wheels/7a/8e/1b/f73a52650d2e5f337708d9f6a1750d451a7349a867f928b885\n",
            "Successfully built pyspark\n",
            "Installing collected packages: py4j, pyspark\n",
            "Successfully installed py4j-0.10.9.5 pyspark-3.3.0\n"
          ]
        }
      ]
    },
    {
      "cell_type": "code",
      "metadata": {
        "id": "wH9YYYd9yHM6"
      },
      "source": [
        "# https://scikit-learn.org/stable/datasets/toy_dataset.html#boston-dataset\n",
        "\n",
        "from pyspark.ml.evaluation import RegressionEvaluator, BinaryClassificationEvaluator"
      ],
      "execution_count": 2,
      "outputs": []
    },
    {
      "cell_type": "code",
      "metadata": {
        "id": "sW4oDIDPw5Dd"
      },
      "source": [
        "import pandas as pd\n",
        "from sklearn.datasets import load_diabetes, load_iris, load_boston\n",
        "from sklearn.metrics import mean_absolute_error\n",
        "\n",
        "from pyspark.sql import SparkSession\n",
        "from pyspark.ml.linalg import Vectors, VectorUDT\n",
        "from pyspark.sql import functions as F\n",
        "from pyspark.sql.types import *\n",
        "from pyspark.ml.regression import RandomForestRegressor\n",
        "\n",
        "spark = SparkSession.builder\\\n",
        "    .master(\"local[2]\")\\\n",
        "    .appName(\"Lesson_2\")\\\n",
        "    .config(\"spark.executor.instances\",2)\\\n",
        "    .config(\"spark.executor.memory\",'2g')\\\n",
        "    .config(\"spark.executor.cores\",1)\\\n",
        "    .getOrCreate()\n",
        "sc = spark.sparkContext"
      ],
      "execution_count": 3,
      "outputs": []
    },
    {
      "cell_type": "code",
      "metadata": {
        "id": "9wpYw5zUxBzv",
        "colab": {
          "base_uri": "https://localhost:8080/"
        },
        "outputId": "77052f48-8ae1-46b0-8fbc-4e4c63dd0aa4"
      },
      "source": [
        "data = load_boston()\n",
        "dataset = pd.DataFrame(data['data'], columns=data['feature_names'])\n",
        "dataset['target'] = data['target']\n",
        "\n",
        "cols_to_vector = F.udf(lambda l: Vectors.dense(l), VectorUDT())\n",
        "\n",
        "spark_dataset = spark.createDataFrame(dataset).select(cols_to_vector(F.array(*data['feature_names'])).alias('features'), 'target').cache()"
      ],
      "execution_count": 4,
      "outputs": [
        {
          "output_type": "stream",
          "name": "stderr",
          "text": [
            "/usr/local/lib/python3.7/dist-packages/sklearn/utils/deprecation.py:87: FutureWarning: Function load_boston is deprecated; `load_boston` is deprecated in 1.0 and will be removed in 1.2.\n",
            "\n",
            "    The Boston housing prices dataset has an ethical problem. You can refer to\n",
            "    the documentation of this function for further details.\n",
            "\n",
            "    The scikit-learn maintainers therefore strongly discourage the use of this\n",
            "    dataset unless the purpose of the code is to study and educate about\n",
            "    ethical issues in data science and machine learning.\n",
            "\n",
            "    In this special case, you can fetch the dataset from the original\n",
            "    source::\n",
            "\n",
            "        import pandas as pd\n",
            "        import numpy as np\n",
            "\n",
            "\n",
            "        data_url = \"http://lib.stat.cmu.edu/datasets/boston\"\n",
            "        raw_df = pd.read_csv(data_url, sep=\"\\s+\", skiprows=22, header=None)\n",
            "        data = np.hstack([raw_df.values[::2, :], raw_df.values[1::2, :2]])\n",
            "        target = raw_df.values[1::2, 2]\n",
            "\n",
            "    Alternative datasets include the California housing dataset (i.e.\n",
            "    :func:`~sklearn.datasets.fetch_california_housing`) and the Ames housing\n",
            "    dataset. You can load the datasets as follows::\n",
            "\n",
            "        from sklearn.datasets import fetch_california_housing\n",
            "        housing = fetch_california_housing()\n",
            "\n",
            "    for the California housing dataset and::\n",
            "\n",
            "        from sklearn.datasets import fetch_openml\n",
            "        housing = fetch_openml(name=\"house_prices\", as_frame=True)\n",
            "\n",
            "    for the Ames housing dataset.\n",
            "    \n",
            "  warnings.warn(msg, category=FutureWarning)\n"
          ]
        }
      ]
    },
    {
      "cell_type": "code",
      "source": [
        "spark_dataset.show(10)"
      ],
      "metadata": {
        "colab": {
          "base_uri": "https://localhost:8080/"
        },
        "id": "BEWy6pLp9eWp",
        "outputId": "f1da7c06-4106-40af-a6bf-6618c7832cb5"
      },
      "execution_count": 17,
      "outputs": [
        {
          "output_type": "stream",
          "name": "stdout",
          "text": [
            "+--------------------+------+\n",
            "|            features|target|\n",
            "+--------------------+------+\n",
            "|[0.00632,18.0,2.3...|  24.0|\n",
            "|[0.02731,0.0,7.07...|  21.6|\n",
            "|[0.02729,0.0,7.07...|  34.7|\n",
            "|[0.03237,0.0,2.18...|  33.4|\n",
            "|[0.06905,0.0,2.18...|  36.2|\n",
            "|[0.02985,0.0,2.18...|  28.7|\n",
            "|[0.08829,12.5,7.8...|  22.9|\n",
            "|[0.14455,12.5,7.8...|  27.1|\n",
            "|[0.21124,12.5,7.8...|  16.5|\n",
            "|[0.17004,12.5,7.8...|  18.9|\n",
            "+--------------------+------+\n",
            "only showing top 10 rows\n",
            "\n"
          ]
        }
      ]
    },
    {
      "cell_type": "code",
      "metadata": {
        "id": "HYdMGKWaxqsI"
      },
      "source": [
        "train, test = spark_dataset.randomSplit([0.7, 0.3])\n",
        "\n",
        "lr = RandomForestRegressor(labelCol='target')\n",
        "lr = lr.fit(train)\n",
        "train_predictions = lr.transform(train)\n",
        "test_predictions = lr.transform(test)"
      ],
      "execution_count": 5,
      "outputs": []
    },
    {
      "cell_type": "code",
      "metadata": {
        "colab": {
          "base_uri": "https://localhost:8080/"
        },
        "id": "tUBg1pAR3dpT",
        "outputId": "cb9df71b-b028-4f56-c904-7df35754314f"
      },
      "source": [
        "# Заменить нужно эту часть\n",
        "pandas_train_predictions = train_predictions.toPandas()\n",
        "pandas_test_predictions = test_predictions.toPandas()\n",
        "\n",
        "print(f'''\n",
        "    Scores:: \n",
        "        train: {mean_absolute_error(\n",
        "            pandas_train_predictions.target, \n",
        "            pandas_train_predictions.prediction)}, \n",
        "        test: {mean_absolute_error(\n",
        "            pandas_test_predictions.target, \n",
        "            pandas_test_predictions.prediction)}\n",
        "    ''')"
      ],
      "execution_count": 6,
      "outputs": [
        {
          "output_type": "stream",
          "name": "stdout",
          "text": [
            "\n",
            "    Scores:: \n",
            "        train: 1.9059847843296451, \n",
            "        test: 2.413143131446219\n",
            "    \n"
          ]
        }
      ]
    },
    {
      "cell_type": "markdown",
      "source": [
        "Используйте RegressionEvaluator. Evaluation ипортируется следующим образом:\n",
        "\n",
        "\n",
        "```\n",
        "from pyspark.ml.evaluation import RegressionEvaluator, BinaryClassificationEvaluator\n",
        "```\n",
        "\n",
        "В частности [RegressionEvaluator](https://spark.apache.org/docs/latest/api/python/reference/api/pyspark.ml.evaluation.RegressionEvaluator.html#pyspark.ml.evaluation.RegressionEvaluator.metricName)"
      ],
      "metadata": {
        "id": "7RaQVvGCM72e"
      }
    },
    {
      "cell_type": "markdown",
      "source": [
        "# 1 Переведите в пайплайн"
      ],
      "metadata": {
        "id": "oXiVZ_qkNLlt"
      }
    },
    {
      "cell_type": "code",
      "source": [
        "from pyspark.ml import Pipeline\n",
        "\n",
        "rf = RandomForestRegressor(labelCol='target')\n",
        "\n",
        "stages=[rf]\n",
        "\n",
        "pipeline = Pipeline(stages=stages)\n",
        "pipeModel = pipeline.fit(train)\n",
        "tr = pipeModel.transform(train)\n",
        "tr.show(10)"
      ],
      "metadata": {
        "id": "D2j2Iuo8NCit",
        "colab": {
          "base_uri": "https://localhost:8080/"
        },
        "outputId": "a149f5a1-5e98-461c-c71b-b43b3c139d0b"
      },
      "execution_count": 32,
      "outputs": [
        {
          "output_type": "stream",
          "name": "stdout",
          "text": [
            "+--------------------+------+------------------+\n",
            "|            features|target|        prediction|\n",
            "+--------------------+------+------------------+\n",
            "|[0.00632,18.0,2.3...|  24.0|27.277383577495726|\n",
            "|[0.01311,90.0,1.2...|  35.4|35.335081378512164|\n",
            "|[0.0136,75.0,4.0,...|  18.9| 19.95572424394304|\n",
            "|[0.01432,100.0,1....|  31.6| 30.21658744407688|\n",
            "|[0.01439,60.0,2.9...|  29.1|28.998004048993494|\n",
            "|[0.01778,95.0,1.4...|  32.9| 34.34757004713893|\n",
            "|[0.02009,95.0,2.6...|  50.0| 45.86032329074435|\n",
            "|[0.02055,85.0,0.7...|  24.7|24.263540374778838|\n",
            "|[0.02177,82.5,2.0...|  42.3| 43.79668043360148|\n",
            "|[0.02187,60.0,2.9...|  31.1|29.106833609930213|\n",
            "+--------------------+------+------------------+\n",
            "only showing top 10 rows\n",
            "\n"
          ]
        }
      ]
    },
    {
      "cell_type": "markdown",
      "source": [
        "# 2 Оцените модель"
      ],
      "metadata": {
        "id": "xlb35esQNWcf"
      }
    },
    {
      "cell_type": "code",
      "source": [
        "from pyspark.ml.evaluation import RegressionEvaluator\n",
        "eval_mae = RegressionEvaluator(\n",
        "    predictionCol='prediction',\n",
        "    labelCol='target',\n",
        "    metricName='mae')\n",
        "print(eval_mae.evaluate(pipeModel.transform(test)))"
      ],
      "metadata": {
        "id": "XpGYQyJVOJrP",
        "colab": {
          "base_uri": "https://localhost:8080/"
        },
        "outputId": "6e68c4da-52e5-4360-b1e2-714f892c1544"
      },
      "execution_count": 33,
      "outputs": [
        {
          "output_type": "stream",
          "name": "stdout",
          "text": [
            "2.4131431314462204\n"
          ]
        }
      ]
    },
    {
      "cell_type": "markdown",
      "source": [
        "# 3 Улучшите модель"
      ],
      "metadata": {
        "id": "-G2kKw9WOLMt"
      }
    },
    {
      "cell_type": "markdown",
      "source": [
        "В этом вам может помочь gridsearch\n",
        "\n",
        "```\n",
        "from pyspark.ml.tuning import TrainValidationSplit, ParamGridBuilder\n",
        "\n",
        "\n",
        "paramgrid = ParamGridBuilder()\\. \n",
        ".addGrid()\\. \n",
        ".addGrid().build(). \n",
        "TrainValidationSplit(\n",
        "    estimator = pipe,  \n",
        "    evaluator = evaluator,   \n",
        "    estimatorParamMaps = paramgrid). \n",
        "```"
      ],
      "metadata": {
        "id": "LNyxk11NOYyz"
      }
    },
    {
      "cell_type": "code",
      "source": [
        "from pyspark.ml.evaluation import RegressionEvaluator\n",
        "from pyspark.ml.tuning import TrainValidationSplit, ParamGridBuilder\n",
        "\n",
        "paramGrid = ParamGridBuilder()\\\n",
        "    .addGrid(rf.numTrees, [50, 100, 150])\\\n",
        "    .addGrid(rf.maxDepth, [2, 4, 6, 8])\\\n",
        "    .addGrid(rf.maxBins, [1000, 5000])\\\n",
        "    .build()\n",
        "\n",
        "tvs = TrainValidationSplit(\n",
        "    estimator=rf,\n",
        "    evaluator=eval_mae,\n",
        "    estimatorParamMaps=paramGrid)\n",
        "\n",
        "model_tuned = tvs.fit(train).bestModel\n",
        "print(eval_mae.evaluate(model_tuned.transform(test)))"
      ],
      "metadata": {
        "id": "sjgXUYMSOM40",
        "colab": {
          "base_uri": "https://localhost:8080/"
        },
        "outputId": "1c030f55-f4fc-4e5a-d345-a83a9c9f7232"
      },
      "execution_count": 40,
      "outputs": [
        {
          "output_type": "stream",
          "name": "stdout",
          "text": [
            "2.1143455441435783\n"
          ]
        }
      ]
    },
    {
      "cell_type": "code",
      "source": [
        "model_tuned.extractParamMap()"
      ],
      "metadata": {
        "colab": {
          "base_uri": "https://localhost:8080/"
        },
        "id": "eAQPGDFwGb8F",
        "outputId": "037c0f8c-392c-4c1d-d782-5a3a00f91f49"
      },
      "execution_count": 43,
      "outputs": [
        {
          "output_type": "execute_result",
          "data": {
            "text/plain": [
              "{Param(parent='RandomForestRegressor_3bbc8c1f6481', name='bootstrap', doc='Whether bootstrap samples are used when building trees.'): True,\n",
              " Param(parent='RandomForestRegressor_3bbc8c1f6481', name='cacheNodeIds', doc='If false, the algorithm will pass trees to executors to match instances with nodes. If true, the algorithm will cache node IDs for each instance. Caching can speed up training of deeper trees. Users can set how often should the cache be checkpointed or disable it by setting checkpointInterval.'): False,\n",
              " Param(parent='RandomForestRegressor_3bbc8c1f6481', name='checkpointInterval', doc='set checkpoint interval (>= 1) or disable checkpoint (-1). E.g. 10 means that the cache will get checkpointed every 10 iterations. Note: this setting will be ignored if the checkpoint directory is not set in the SparkContext.'): 10,\n",
              " Param(parent='RandomForestRegressor_3bbc8c1f6481', name='featureSubsetStrategy', doc=\"The number of features to consider for splits at each tree node. Supported options: 'auto' (choose automatically for task: If numTrees == 1, set to 'all'. If numTrees > 1 (forest), set to 'sqrt' for classification and to 'onethird' for regression), 'all' (use all features), 'onethird' (use 1/3 of the features), 'sqrt' (use sqrt(number of features)), 'log2' (use log2(number of features)), 'n' (when n is in the range (0, 1.0], use n * number of features. When n is in the range (1, number of features), use n features). default = 'auto'\"): 'auto',\n",
              " Param(parent='RandomForestRegressor_3bbc8c1f6481', name='featuresCol', doc='features column name.'): 'features',\n",
              " Param(parent='RandomForestRegressor_3bbc8c1f6481', name='impurity', doc='Criterion used for information gain calculation (case-insensitive). Supported options: variance'): 'variance',\n",
              " Param(parent='RandomForestRegressor_3bbc8c1f6481', name='labelCol', doc='label column name.'): 'target',\n",
              " Param(parent='RandomForestRegressor_3bbc8c1f6481', name='leafCol', doc='Leaf indices column name. Predicted leaf index of each instance in each tree by preorder.'): '',\n",
              " Param(parent='RandomForestRegressor_3bbc8c1f6481', name='maxBins', doc='Max number of bins for discretizing continuous features.  Must be >=2 and >= number of categories for any categorical feature.'): 1000,\n",
              " Param(parent='RandomForestRegressor_3bbc8c1f6481', name='maxDepth', doc='Maximum depth of the tree. (>= 0) E.g., depth 0 means 1 leaf node; depth 1 means 1 internal node + 2 leaf nodes. Must be in range [0, 30].'): 8,\n",
              " Param(parent='RandomForestRegressor_3bbc8c1f6481', name='maxMemoryInMB', doc='Maximum memory in MB allocated to histogram aggregation. If too small, then 1 node will be split per iteration, and its aggregates may exceed this size.'): 256,\n",
              " Param(parent='RandomForestRegressor_3bbc8c1f6481', name='minInfoGain', doc='Minimum information gain for a split to be considered at a tree node.'): 0.0,\n",
              " Param(parent='RandomForestRegressor_3bbc8c1f6481', name='minInstancesPerNode', doc='Minimum number of instances each child must have after split. If a split causes the left or right child to have fewer than minInstancesPerNode, the split will be discarded as invalid. Should be >= 1.'): 1,\n",
              " Param(parent='RandomForestRegressor_3bbc8c1f6481', name='minWeightFractionPerNode', doc='Minimum fraction of the weighted sample count that each child must have after split. If a split causes the fraction of the total weight in the left or right child to be less than minWeightFractionPerNode, the split will be discarded as invalid. Should be in interval [0.0, 0.5).'): 0.0,\n",
              " Param(parent='RandomForestRegressor_3bbc8c1f6481', name='numTrees', doc='Number of trees to train (>= 1).'): 150,\n",
              " Param(parent='RandomForestRegressor_3bbc8c1f6481', name='predictionCol', doc='prediction column name.'): 'prediction',\n",
              " Param(parent='RandomForestRegressor_3bbc8c1f6481', name='seed', doc='random seed.'): -607081032606885631,\n",
              " Param(parent='RandomForestRegressor_3bbc8c1f6481', name='subsamplingRate', doc='Fraction of the training data used for learning each decision tree, in range (0, 1].'): 1.0}"
            ]
          },
          "metadata": {},
          "execution_count": 43
        }
      ]
    }
  ]
}