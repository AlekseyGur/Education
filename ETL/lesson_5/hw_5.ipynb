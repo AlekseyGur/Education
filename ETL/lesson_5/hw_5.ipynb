{
 "cells": [
  {
   "cell_type": "code",
   "execution_count": 133,
   "metadata": {},
   "outputs": [],
   "source": [
    "import psycopg2\n",
    "\n",
    "\n",
    "SERVER_IP = '192.168.122.153'\n",
    "tables = {}  # {название_таблицы: {'coulumns': [(название_колонок, тип_данных)], 'records_count': кол-во строк}. \n",
    "\n",
    "conn_string_from = f\"host='{SERVER_IP}' port=54320 dbname='my_database' user='root' password='postgres'\" \n",
    "conn_string_to = f\"host='{SERVER_IP}' port=5433 dbname='my_database' user='root' password='postgres'\" \n",
    "\n",
    "# получим все названия таблиц, чтобы скопировать из них информаицю\n",
    "with psycopg2.connect(conn_string_from) as conn, conn.cursor() as cursor:\n",
    "    query = 'SELECT relname, n_live_tup FROM pg_stat_user_tables ORDER BY n_live_tup DESC;'\n",
    "    cursor.execute(query)\n",
    "    tbls = cursor.fetchall()\n",
    "\n",
    "    # Запомним названия и типы колонок из каждой таблицы, чтобы создать в новой базе.\n",
    "    # Не будем сохранять дополнительные атрибуты типа ключей и NOT NULL\n",
    "    for table_name, rows_count in tbls:\n",
    "        query = f\"SELECT \\\n",
    "                        a.attname as Column, \\\n",
    "                        pg_catalog.format_type(a.atttypid, a.atttypmod) as Datatype \\\n",
    "                    FROM \\\n",
    "                        pg_catalog.pg_attribute a \\\n",
    "                   WHERE \\\n",
    "                        a.attnum > 0 \\\n",
    "                        AND NOT a.attisdropped \\\n",
    "                        AND a.attrelid = ( \\\n",
    "                            SELECT c.oid \\\n",
    "                            FROM pg_catalog.pg_class c \\\n",
    "                                LEFT JOIN pg_catalog.pg_namespace n ON n.oid = c.relnamespace \\\n",
    "                            WHERE c.relname ~ '^({table_name})$' \\\n",
    "                                AND pg_catalog.pg_table_is_visible(c.oid) \\\n",
    "                        );\"\n",
    "        cursor.execute(query)\n",
    "        clmns = cursor.fetchall()\n",
    "        \n",
    "        tables[table_name] = {'coulumns': clmns, 'records_count': rows_count}"
   ]
  },
  {
   "cell_type": "code",
   "execution_count": 109,
   "metadata": {},
   "outputs": [
    {
     "name": "stdout",
     "output_type": "stream",
     "text": [
      "'Таблица lineitem сохранена на диск'\n",
      "'Таблица orders сохранена на диск'\n",
      "'Таблица partsupp сохранена на диск'\n",
      "'Таблица part сохранена на диск'\n",
      "'Таблица customer сохранена на диск'\n",
      "'Таблица supplier сохранена на диск'\n",
      "'Таблица nation сохранена на диск'\n",
      "'Таблица region сохранена на диск'\n"
     ]
    }
   ],
   "source": [
    "# выгружаем данные из старой базы в файлы\n",
    "conn_string= f\"host='{SERVER_IP}' port=54320 dbname='my_database' user='root' password='postgres'\" \n",
    "with psycopg2.connect(conn_string_from) as conn, conn.cursor() as cursor:\n",
    "    for table in tables:\n",
    "        q = f\"COPY {table} TO STDOUT WITH DELIMITER ',' CSV HEADER;\"\n",
    "        with open(f'{table}.csv', 'w') as f:\n",
    "            cursor.copy_expert(q, f)\n",
    "            print(f'Таблица {table} сохранена на диск')"
   ]
  },
  {
   "cell_type": "code",
   "execution_count": 110,
   "metadata": {},
   "outputs": [
    {
     "name": "stdout",
     "output_type": "stream",
     "text": [
      "'В новую базу загружен файл lineitem'\n",
      "'В новую базу загружен файл orders'\n",
      "'В новую базу загружен файл partsupp'\n",
      "'В новую базу загружен файл part'\n",
      "'В новую базу загружен файл customer'\n",
      "'В новую базу загружен файл supplier'\n",
      "'В новую базу загружен файл nation'\n",
      "'В новую базу загружен файл region'\n"
     ]
    }
   ],
   "source": [
    "# загружаем данные из файлов в новую базу\n",
    "with psycopg2.connect(conn_string_to) as conn, conn.cursor() as cursor:\n",
    "    \n",
    "    # сделаем таблицы в новой базе как в старой\n",
    "    for table, data in tables.items():\n",
    "        # сначала удалим таблицы с подобными именами, которые уже могут там быть\n",
    "        cursor.execute(f\"DROP TABLE IF EXISTS {table}\")\n",
    "\n",
    "        # cоздадим таблицы с идентичными полями\n",
    "        fields = []\n",
    "        for name, typ in data['coulumns']: # тут можно изменить типы колонок\n",
    "            # if 'character' in typ:\n",
    "                # typ = 'varchar(1)'\n",
    "            \n",
    "            fields.append(f'{name} {typ}')\n",
    "\n",
    "        fileds = ', '.join(fields)\n",
    "        query = f\"CREATE TABLE {table} ({fileds})\"\n",
    "        cursor.execute(query) # выполнение запроса\n",
    "    \n",
    "        conn.commit() # комитим транзакцию\n",
    "\n",
    "    # выполним копирование данных\n",
    "    for table, _ in tables.items():\n",
    "        with open(f'{table}.csv', 'r') as f:\n",
    "            q = f\"COPY {table} from STDIN WITH DELIMITER ',' CSV HEADER;\"\n",
    "            cursor.copy_expert(q, f)\n",
    "            print(f'В новую базу загружен файл {table}')\n",
    "\n",
    "        conn.commit() # комитим транзакцию"
   ]
  },
  {
   "cell_type": "code",
   "execution_count": 137,
   "metadata": {},
   "outputs": [
    {
     "name": "stdout",
     "output_type": "stream",
     "text": [
      "'В таблице lineitem должно быть 6000925 записей, а перенеслось только 6000505'\n",
      "'Исходная таблица содержит следующие колонки:'\n",
      "'l_orderkey integer'\n",
      "'l_partkey integer'\n",
      "'l_suppkey integer'\n",
      "'l_linenumber integer'\n",
      "'l_quantity numeric(15,2)'\n",
      "'l_extendedprice numeric(15,2)'\n",
      "'l_discount numeric(15,2)'\n",
      "'l_tax numeric(15,2)'\n",
      "'l_returnflag character(1)'\n",
      "'l_linestatus character(1)'\n",
      "'l_shipdate date'\n",
      "'l_commitdate date'\n",
      "'l_receiptdate date'\n",
      "'l_shipinstruct character(25)'\n",
      "'l_shipmode character(10)'\n",
      "'l_comment character varying(44)'\n"
     ]
    }
   ],
   "source": [
    "# проверяем как данные сохранились из одной базы в другую, подсчитывая количество строк до и после переноса\n",
    "with psycopg2.connect(conn_string_to) as conn, conn.cursor() as cursor:\n",
    "    cursor.execute(f'SELECT relname, n_live_tup FROM pg_stat_user_tables ORDER BY n_live_tup DESC;')\n",
    "    tables_new = {name: rows_cnt for name, rows_cnt in cursor.fetchall()}\n",
    "    tables_old = {name: data['records_count'] for name, data in tables.items()}\n",
    "    # сравниваем со старыми значениями\n",
    "    bad_items = [k for k in tables_old if k not in tables_new or tables_old[k] != tables_new[k]]\n",
    "    if len(bad_items):\n",
    "        for tbl in bad_items:\n",
    "            print(f'В таблице {tbl} должно быть {tables_old[tbl]} записей, а перенеслось только {tables_new[tbl]}')\n",
    "            print(f'Исходная таблица содержит следующие колонки:')\n",
    "            for name, typ in tables[tbl][\"coulumns\"]:\n",
    "                print(f'{name} {typ}')\n",
    "    else:\n",
    "        print(f'Все данные успешно перенесены')"
   ]
  }
 ],
 "metadata": {
  "kernelspec": {
   "display_name": "Python 3 (ipykernel)",
   "language": "python",
   "name": "python3"
  },
  "language_info": {
   "codemirror_mode": {
    "name": "ipython",
    "version": 3
   },
   "file_extension": ".py",
   "mimetype": "text/x-python",
   "name": "python",
   "nbconvert_exporter": "python",
   "pygments_lexer": "ipython3",
   "version": "3.9.10"
  }
 },
 "nbformat": 4,
 "nbformat_minor": 4
}
